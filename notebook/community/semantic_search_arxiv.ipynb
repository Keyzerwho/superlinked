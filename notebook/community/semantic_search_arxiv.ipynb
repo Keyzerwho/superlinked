{
 "cells": [
  {
   "cell_type": "markdown",
   "metadata": {
    "id": "cex_gts5z8A3"
   },
   "source": [
    "# Semantic Search in arXiv Papers\n",
    "\n",
    "This notebook shows how to retrieve data from the arXiv API and implement semantic search and recency weighting with Superlinked. More specifically, the notebook will include the following steps:\n",
    "\n",
    "Preparation\n",
    "\n",
    "- Retrieving, processing and exploring the data\n",
    "\n",
    "Setting up our vector computer\n",
    "\n",
    "-  Creating a schema\n",
    "-  Creating vector embedding spaces\n",
    "-  Indexing & parsing\n",
    "-  Setting up & filling an in-memory data store\n",
    "\n",
    "Searching\n",
    "\n",
    "- Queries\n",
    "- Weighting"
   ]
  },
  {
   "cell_type": "markdown",
   "metadata": {
    "id": "WiSIGpXhGqOq"
   },
   "source": [
    "## Preparation"
   ]
  },
  {
   "cell_type": "code",
   "execution_count": 1,
   "metadata": {
    "cellView": "form",
    "id": "L37bYnS7wpIH"
   },
   "outputs": [],
   "source": [
    "%%capture\n",
    "%pip install superlinked\n",
    "%pip install lxml bs4"
   ]
  },
  {
   "cell_type": "markdown",
   "metadata": {
    "id": "dpOj5QkXlDcs"
   },
   "source": [
    "### Setting up a basic logger"
   ]
  },
  {
   "cell_type": "code",
   "execution_count": 2,
   "metadata": {
    "id": "hy-6J9jNlGsF"
   },
   "outputs": [],
   "source": [
    "import altair as alt\n",
    "import logging\n",
    "import numpy as np\n",
    "import pandas as pd\n",
    "import requests\n",
    "\n",
    "from bs4 import BeautifulSoup\n",
    "from dateutil import parser\n",
    "from datetime import datetime, timedelta, timezone\n",
    "from urllib.parse import urlencode\n",
    "\n",
    "from superlinked.evaluation.charts.recency_plotter import RecencyPlotter\n",
    "from superlinked.framework.common.dag.context import CONTEXT_COMMON, CONTEXT_COMMON_NOW\n",
    "from superlinked.framework.common.dag.period_time import PeriodTime\n",
    "from superlinked.framework.common.parser.dataframe_parser import DataFrameParser\n",
    "from superlinked.framework.common.schema.id_schema_object import IdField\n",
    "from superlinked.framework.common.schema.schema import schema\n",
    "from superlinked.framework.common.schema.schema_object import String, Timestamp\n",
    "from superlinked.framework.dsl.executor.in_memory.in_memory_executor import (\n",
    "    InMemoryExecutor,\n",
    "    InMemoryApp,\n",
    ")\n",
    "from superlinked.framework.dsl.index.index import Index\n",
    "from superlinked.framework.dsl.query.result import Result\n",
    "from superlinked.framework.dsl.query.query import Query\n",
    "from superlinked.framework.dsl.query.param import Param\n",
    "from superlinked.framework.dsl.source.in_memory_source import InMemorySource\n",
    "from superlinked.framework.dsl.space.text_similarity_space import TextSimilaritySpace\n",
    "from superlinked.framework.dsl.space.recency_space import RecencySpace\n",
    "\n",
    "alt.renderers.enable(\"mimetype\")\n",
    "\n",
    "# Creating and configuring our logger\n",
    "logging.basicConfig(filename=\"std.log\", format=\"%(asctime)s %(message)s\", filemode=\"w\")\n",
    "logger = logging.getLogger()\n",
    "\n",
    "# Set the logger threshold to DEBUG if you encounter errors\n",
    "logger.setLevel(logging.INFO)"
   ]
  },
  {
   "cell_type": "markdown",
   "metadata": {
    "id": "Z2w5Upt10mee"
   },
   "source": [
    "## Fetching & processing data from the arXiv API"
   ]
  },
  {
   "cell_type": "code",
   "execution_count": 3,
   "metadata": {
    "colab": {
     "base_uri": "https://localhost:8080/"
    },
    "id": "ZRfQX_ZqxHkL",
    "outputId": "e2cc1182-6026-42d7-9fa1-c4bfeed6e3d1"
   },
   "outputs": [],
   "source": [
    "def query_arxiv(\n",
    "    query=\"%22large%20language%20models%22\",\n",
    "    max_results=1000,\n",
    "    order_by=\"lastUpdatedDate\",\n",
    "    order=\"descending\",\n",
    "):\n",
    "    \"\"\"\n",
    "    Basic function for querying the api that lets us specify the most important parameters.\n",
    "\n",
    "    query: URL encoded string to search for in paper titles and abstracts\n",
    "    max_results: maximum amount of results returned by the api\n",
    "    order_by: variable to order the results by\n",
    "    order: descending or ascending based on the order_by parameter\n",
    "    \"\"\"\n",
    "    params = {\n",
    "        \"search_query\": f\"all:{query}\",\n",
    "        \"start\": 0,\n",
    "        \"max_results\": max_results,\n",
    "        \"sortBy\": order_by,\n",
    "        \"sortOrder\": order,\n",
    "    }\n",
    "    url = f\"http://export.arxiv.org/api/query?{urlencode(params)}\"\n",
    "    try:\n",
    "        response = requests.get(url)\n",
    "        response.raise_for_status()\n",
    "        logging.info(f\"Length of response text: {len(response.text)}\")\n",
    "        soup = BeautifulSoup(response.text, \"xml\")\n",
    "        data = []\n",
    "\n",
    "        for entry in soup.find_all(\"entry\"):\n",
    "            data_entry = {tag.name: tag.text.strip() for tag in entry.find_all()}\n",
    "            if \"id\" in data_entry:  # Ensure there is an 'id' field\n",
    "                data.append(data_entry)\n",
    "\n",
    "        logging.info(f\"{len(data)} entries found\")\n",
    "        return pd.DataFrame(data)\n",
    "\n",
    "    except requests.exceptions.RequestException as e:\n",
    "        logging.error(f\"Error during request: {e}\")\n",
    "    except Exception as e:\n",
    "        logging.error(f\"Unexpected error: {e}\")\n",
    "\n",
    "    return pd.DataFrame()  # Return an empty DataFrame if there was an error"
   ]
  },
  {
   "cell_type": "code",
   "execution_count": 4,
   "metadata": {
    "colab": {
     "base_uri": "https://localhost:8080/"
    },
    "id": "Wb-mWmLMyInP",
    "outputId": "f4eb7ff9-5945-4448-a6cf-bd95536afd29"
   },
   "outputs": [],
   "source": [
    "# We are using URL encodings here: %22 means \"\" and %20 stands for a space\n",
    "df = query_arxiv(query=\"%22retrieval%20augmented%20generation%22\")"
   ]
  },
  {
   "cell_type": "code",
   "execution_count": 5,
   "metadata": {
    "colab": {
     "base_uri": "https://localhost:8080/"
    },
    "id": "IoypUei1LFB_",
    "outputId": "b505e877-1c7f-4cbe-cf6a-9388485bc5b3"
   },
   "outputs": [
    {
     "data": {
      "text/plain": [
       "360"
      ]
     },
     "execution_count": 5,
     "metadata": {},
     "output_type": "execute_result"
    }
   ],
   "source": [
    "# Notice that we set the maximum to 1000 but the api returned less results, meaning\n",
    "# that the number of paper titles and abstracts including our search query is below 1000\n",
    "len(df)"
   ]
  },
  {
   "cell_type": "markdown",
   "metadata": {
    "id": "fcpFnnVMB6-t"
   },
   "source": [
    "## Exploring & preparing the data"
   ]
  },
  {
   "cell_type": "code",
   "execution_count": 6,
   "metadata": {
    "colab": {
     "base_uri": "https://localhost:8080/"
    },
    "id": "2mVcTkuGMqne",
    "outputId": "1eb89539-5dba-4dc9-f1ff-d72a3afce358"
   },
   "outputs": [
    {
     "data": {
      "text/plain": [
       "Index(['id', 'updated', 'published', 'title', 'summary', 'author', 'name',\n",
       "       'comment', 'link', 'primary_category', 'category', 'journal_ref', 'doi',\n",
       "       'affiliation'],\n",
       "      dtype='object')"
      ]
     },
     "execution_count": 6,
     "metadata": {},
     "output_type": "execute_result"
    }
   ],
   "source": [
    "# Checking all columns\n",
    "df.columns"
   ]
  },
  {
   "cell_type": "code",
   "execution_count": 7,
   "metadata": {
    "id": "pgdIS8YFQyfC"
   },
   "outputs": [],
   "source": [
    "# Feel free to play around more with the data if you want,\n",
    "# but for this application, we will only need a few columns\n",
    "df = df[[\"id\", \"published\", \"title\", \"summary\"]].copy()"
   ]
  },
  {
   "cell_type": "code",
   "execution_count": 8,
   "metadata": {
    "colab": {
     "base_uri": "https://localhost:8080/",
     "height": 143
    },
    "id": "N2OzJhECyjoV",
    "outputId": "018b0c93-94b3-4a1b-8f60-5cb6ba53265a"
   },
   "outputs": [
    {
     "data": {
      "text/html": [
       "<div>\n",
       "<style scoped>\n",
       "    .dataframe tbody tr th:only-of-type {\n",
       "        vertical-align: middle;\n",
       "    }\n",
       "\n",
       "    .dataframe tbody tr th {\n",
       "        vertical-align: top;\n",
       "    }\n",
       "\n",
       "    .dataframe thead th {\n",
       "        text-align: right;\n",
       "    }\n",
       "</style>\n",
       "<table border=\"1\" class=\"dataframe\">\n",
       "  <thead>\n",
       "    <tr style=\"text-align: right;\">\n",
       "      <th></th>\n",
       "      <th>id</th>\n",
       "      <th>published</th>\n",
       "      <th>title</th>\n",
       "      <th>summary</th>\n",
       "    </tr>\n",
       "  </thead>\n",
       "  <tbody>\n",
       "    <tr>\n",
       "      <th>0</th>\n",
       "      <td>http://arxiv.org/abs/2405.12750v1</td>\n",
       "      <td>2024-05-21T13:02:27Z</td>\n",
       "      <td>Generative AI and Large Language Models for Cy...</td>\n",
       "      <td>This paper provides a comprehensive review of ...</td>\n",
       "    </tr>\n",
       "    <tr>\n",
       "      <th>1</th>\n",
       "      <td>http://arxiv.org/abs/2402.14776v2</td>\n",
       "      <td>2024-02-22T18:35:05Z</td>\n",
       "      <td>ESE: Espresso Sentence Embeddings</td>\n",
       "      <td>High-quality sentence embeddings are fundament...</td>\n",
       "    </tr>\n",
       "    <tr>\n",
       "      <th>2</th>\n",
       "      <td>http://arxiv.org/abs/2405.12363v1</td>\n",
       "      <td>2024-05-20T20:27:00Z</td>\n",
       "      <td>Question-Based Retrieval using Atomic Units fo...</td>\n",
       "      <td>Enterprise retrieval augmented generation (RAG...</td>\n",
       "    </tr>\n",
       "  </tbody>\n",
       "</table>\n",
       "</div>"
      ],
      "text/plain": [
       "                                  id             published  \\\n",
       "0  http://arxiv.org/abs/2405.12750v1  2024-05-21T13:02:27Z   \n",
       "1  http://arxiv.org/abs/2402.14776v2  2024-02-22T18:35:05Z   \n",
       "2  http://arxiv.org/abs/2405.12363v1  2024-05-20T20:27:00Z   \n",
       "\n",
       "                                               title  \\\n",
       "0  Generative AI and Large Language Models for Cy...   \n",
       "1                  ESE: Espresso Sentence Embeddings   \n",
       "2  Question-Based Retrieval using Atomic Units fo...   \n",
       "\n",
       "                                             summary  \n",
       "0  This paper provides a comprehensive review of ...  \n",
       "1  High-quality sentence embeddings are fundament...  \n",
       "2  Enterprise retrieval augmented generation (RAG...  "
      ]
     },
     "execution_count": 8,
     "metadata": {},
     "output_type": "execute_result"
    }
   ],
   "source": [
    "df.head(3)"
   ]
  },
  {
   "cell_type": "code",
   "execution_count": 9,
   "metadata": {
    "id": "33tIGa1JHLjL"
   },
   "outputs": [],
   "source": [
    "# Renaming the columns to have more intuitive names\n",
    "df = df.reset_index().rename(\n",
    "    columns={\"id\": \"url\", \"index\": \"id\", \"summary\": \"abstract\"}\n",
    ")"
   ]
  },
  {
   "cell_type": "code",
   "execution_count": 10,
   "metadata": {
    "id": "ZVXctsqmHf51"
   },
   "outputs": [],
   "source": [
    "# The api returns the datetimes as a string, which we first parse\n",
    "# in the datetime format and then convert them to timestamps\n",
    "df[\"published_timestamp\"] = [\n",
    "    parser.parse(date).replace(tzinfo=timezone.utc).timestamp() for date in df.published\n",
    "]"
   ]
  },
  {
   "cell_type": "markdown",
   "metadata": {
    "id": "t7K1orr-SOM9"
   },
   "source": [
    "## Visualizing the timestamps"
   ]
  },
  {
   "cell_type": "code",
   "execution_count": 11,
   "metadata": {
    "colab": {
     "base_uri": "https://localhost:8080/",
     "height": 482
    },
    "id": "z3TgpiukKAyz",
    "outputId": "b27379e3-0bb9-49fb-c481-a3839b10e960"
   },
   "outputs": [
    {
     "data": {
      "application/vnd.vegalite.v5+json": {
       "$schema": "https://vega.github.io/schema/vega-lite/v5.16.3.json",
       "config": {
        "view": {
         "continuousHeight": 300,
         "continuousWidth": 300
        }
       },
       "data": {
        "name": "data-22e283171094e345f95afb74bd9961f6"
       },
       "datasets": {
        "data-22e283171094e345f95afb74bd9961f6": [
         {
          "year_of_publication": 2024
         },
         {
          "year_of_publication": 2024
         },
         {
          "year_of_publication": 2024
         },
         {
          "year_of_publication": 2023
         },
         {
          "year_of_publication": 2024
         },
         {
          "year_of_publication": 2024
         },
         {
          "year_of_publication": 2024
         },
         {
          "year_of_publication": 2023
         },
         {
          "year_of_publication": 2023
         },
         {
          "year_of_publication": 2024
         },
         {
          "year_of_publication": 2024
         },
         {
          "year_of_publication": 2024
         },
         {
          "year_of_publication": 2024
         },
         {
          "year_of_publication": 2024
         },
         {
          "year_of_publication": 2024
         },
         {
          "year_of_publication": 2023
         },
         {
          "year_of_publication": 2024
         },
         {
          "year_of_publication": 2024
         },
         {
          "year_of_publication": 2024
         },
         {
          "year_of_publication": 2024
         },
         {
          "year_of_publication": 2024
         },
         {
          "year_of_publication": 2024
         },
         {
          "year_of_publication": 2024
         },
         {
          "year_of_publication": 2024
         },
         {
          "year_of_publication": 2024
         },
         {
          "year_of_publication": 2024
         },
         {
          "year_of_publication": 2024
         },
         {
          "year_of_publication": 2024
         },
         {
          "year_of_publication": 2024
         },
         {
          "year_of_publication": 2024
         },
         {
          "year_of_publication": 2024
         },
         {
          "year_of_publication": 2024
         },
         {
          "year_of_publication": 2024
         },
         {
          "year_of_publication": 2024
         },
         {
          "year_of_publication": 2024
         },
         {
          "year_of_publication": 2024
         },
         {
          "year_of_publication": 2024
         },
         {
          "year_of_publication": 2024
         },
         {
          "year_of_publication": 2024
         },
         {
          "year_of_publication": 2024
         },
         {
          "year_of_publication": 2024
         },
         {
          "year_of_publication": 2024
         },
         {
          "year_of_publication": 2024
         },
         {
          "year_of_publication": 2024
         },
         {
          "year_of_publication": 2024
         },
         {
          "year_of_publication": 2024
         },
         {
          "year_of_publication": 2024
         },
         {
          "year_of_publication": 2024
         },
         {
          "year_of_publication": 2024
         },
         {
          "year_of_publication": 2024
         },
         {
          "year_of_publication": 2024
         },
         {
          "year_of_publication": 2024
         },
         {
          "year_of_publication": 2024
         },
         {
          "year_of_publication": 2024
         },
         {
          "year_of_publication": 2024
         },
         {
          "year_of_publication": 2024
         },
         {
          "year_of_publication": 2024
         },
         {
          "year_of_publication": 2024
         },
         {
          "year_of_publication": 2024
         },
         {
          "year_of_publication": 2024
         },
         {
          "year_of_publication": 2024
         },
         {
          "year_of_publication": 2024
         },
         {
          "year_of_publication": 2024
         },
         {
          "year_of_publication": 2024
         },
         {
          "year_of_publication": 2024
         },
         {
          "year_of_publication": 2024
         },
         {
          "year_of_publication": 2024
         },
         {
          "year_of_publication": 2024
         },
         {
          "year_of_publication": 2024
         },
         {
          "year_of_publication": 2024
         },
         {
          "year_of_publication": 2024
         },
         {
          "year_of_publication": 2024
         },
         {
          "year_of_publication": 2024
         },
         {
          "year_of_publication": 2024
         },
         {
          "year_of_publication": 2024
         },
         {
          "year_of_publication": 2024
         },
         {
          "year_of_publication": 2024
         },
         {
          "year_of_publication": 2024
         },
         {
          "year_of_publication": 2024
         },
         {
          "year_of_publication": 2024
         },
         {
          "year_of_publication": 2023
         },
         {
          "year_of_publication": 2024
         },
         {
          "year_of_publication": 2024
         },
         {
          "year_of_publication": 2024
         },
         {
          "year_of_publication": 2024
         },
         {
          "year_of_publication": 2024
         },
         {
          "year_of_publication": 2024
         },
         {
          "year_of_publication": 2024
         },
         {
          "year_of_publication": 2024
         },
         {
          "year_of_publication": 2023
         },
         {
          "year_of_publication": 2024
         },
         {
          "year_of_publication": 2024
         },
         {
          "year_of_publication": 2024
         },
         {
          "year_of_publication": 2024
         },
         {
          "year_of_publication": 2023
         },
         {
          "year_of_publication": 2024
         },
         {
          "year_of_publication": 2024
         },
         {
          "year_of_publication": 2024
         },
         {
          "year_of_publication": 2023
         },
         {
          "year_of_publication": 2023
         },
         {
          "year_of_publication": 2024
         },
         {
          "year_of_publication": 2024
         },
         {
          "year_of_publication": 2024
         },
         {
          "year_of_publication": 2024
         },
         {
          "year_of_publication": 2023
         },
         {
          "year_of_publication": 2024
         },
         {
          "year_of_publication": 2024
         },
         {
          "year_of_publication": 2024
         },
         {
          "year_of_publication": 2024
         },
         {
          "year_of_publication": 2024
         },
         {
          "year_of_publication": 2024
         },
         {
          "year_of_publication": 2024
         },
         {
          "year_of_publication": 2024
         },
         {
          "year_of_publication": 2024
         },
         {
          "year_of_publication": 2024
         },
         {
          "year_of_publication": 2024
         },
         {
          "year_of_publication": 2024
         },
         {
          "year_of_publication": 2023
         },
         {
          "year_of_publication": 2024
         },
         {
          "year_of_publication": 2024
         },
         {
          "year_of_publication": 2023
         },
         {
          "year_of_publication": 2024
         },
         {
          "year_of_publication": 2024
         },
         {
          "year_of_publication": 2024
         },
         {
          "year_of_publication": 2023
         },
         {
          "year_of_publication": 2024
         },
         {
          "year_of_publication": 2024
         },
         {
          "year_of_publication": 2024
         },
         {
          "year_of_publication": 2024
         },
         {
          "year_of_publication": 2024
         },
         {
          "year_of_publication": 2024
         },
         {
          "year_of_publication": 2024
         },
         {
          "year_of_publication": 2024
         },
         {
          "year_of_publication": 2023
         },
         {
          "year_of_publication": 2024
         },
         {
          "year_of_publication": 2024
         },
         {
          "year_of_publication": 2024
         },
         {
          "year_of_publication": 2024
         },
         {
          "year_of_publication": 2024
         },
         {
          "year_of_publication": 2024
         },
         {
          "year_of_publication": 2024
         },
         {
          "year_of_publication": 2024
         },
         {
          "year_of_publication": 2024
         },
         {
          "year_of_publication": 2024
         },
         {
          "year_of_publication": 2023
         },
         {
          "year_of_publication": 2023
         },
         {
          "year_of_publication": 2024
         },
         {
          "year_of_publication": 2024
         },
         {
          "year_of_publication": 2024
         },
         {
          "year_of_publication": 2024
         },
         {
          "year_of_publication": 2024
         },
         {
          "year_of_publication": 2024
         },
         {
          "year_of_publication": 2024
         },
         {
          "year_of_publication": 2024
         },
         {
          "year_of_publication": 2024
         },
         {
          "year_of_publication": 2024
         },
         {
          "year_of_publication": 2024
         },
         {
          "year_of_publication": 2024
         },
         {
          "year_of_publication": 2024
         },
         {
          "year_of_publication": 2023
         },
         {
          "year_of_publication": 2024
         },
         {
          "year_of_publication": 2024
         },
         {
          "year_of_publication": 2024
         },
         {
          "year_of_publication": 2024
         },
         {
          "year_of_publication": 2024
         },
         {
          "year_of_publication": 2024
         },
         {
          "year_of_publication": 2024
         },
         {
          "year_of_publication": 2024
         },
         {
          "year_of_publication": 2024
         },
         {
          "year_of_publication": 2024
         },
         {
          "year_of_publication": 2024
         },
         {
          "year_of_publication": 2024
         },
         {
          "year_of_publication": 2024
         },
         {
          "year_of_publication": 2024
         },
         {
          "year_of_publication": 2024
         },
         {
          "year_of_publication": 2024
         },
         {
          "year_of_publication": 2024
         },
         {
          "year_of_publication": 2024
         },
         {
          "year_of_publication": 2024
         },
         {
          "year_of_publication": 2024
         },
         {
          "year_of_publication": 2024
         },
         {
          "year_of_publication": 2024
         },
         {
          "year_of_publication": 2023
         },
         {
          "year_of_publication": 2024
         },
         {
          "year_of_publication": 2024
         },
         {
          "year_of_publication": 2024
         },
         {
          "year_of_publication": 2024
         },
         {
          "year_of_publication": 2024
         },
         {
          "year_of_publication": 2023
         },
         {
          "year_of_publication": 2024
         },
         {
          "year_of_publication": 2024
         },
         {
          "year_of_publication": 2024
         },
         {
          "year_of_publication": 2024
         },
         {
          "year_of_publication": 2024
         },
         {
          "year_of_publication": 2024
         },
         {
          "year_of_publication": 2024
         },
         {
          "year_of_publication": 2024
         },
         {
          "year_of_publication": 2024
         },
         {
          "year_of_publication": 2024
         },
         {
          "year_of_publication": 2024
         },
         {
          "year_of_publication": 2024
         },
         {
          "year_of_publication": 2024
         },
         {
          "year_of_publication": 2024
         },
         {
          "year_of_publication": 2023
         },
         {
          "year_of_publication": 2024
         },
         {
          "year_of_publication": 2023
         },
         {
          "year_of_publication": 2023
         },
         {
          "year_of_publication": 2024
         },
         {
          "year_of_publication": 2024
         },
         {
          "year_of_publication": 2024
         },
         {
          "year_of_publication": 2024
         },
         {
          "year_of_publication": 2024
         },
         {
          "year_of_publication": 2024
         },
         {
          "year_of_publication": 2024
         },
         {
          "year_of_publication": 2024
         },
         {
          "year_of_publication": 2024
         },
         {
          "year_of_publication": 2024
         },
         {
          "year_of_publication": 2023
         },
         {
          "year_of_publication": 2023
         },
         {
          "year_of_publication": 2023
         },
         {
          "year_of_publication": 2024
         },
         {
          "year_of_publication": 2024
         },
         {
          "year_of_publication": 2024
         },
         {
          "year_of_publication": 2024
         },
         {
          "year_of_publication": 2024
         },
         {
          "year_of_publication": 2024
         },
         {
          "year_of_publication": 2024
         },
         {
          "year_of_publication": 2023
         },
         {
          "year_of_publication": 2024
         },
         {
          "year_of_publication": 2024
         },
         {
          "year_of_publication": 2024
         },
         {
          "year_of_publication": 2024
         },
         {
          "year_of_publication": 2024
         },
         {
          "year_of_publication": 2024
         },
         {
          "year_of_publication": 2024
         },
         {
          "year_of_publication": 2024
         },
         {
          "year_of_publication": 2024
         },
         {
          "year_of_publication": 2024
         },
         {
          "year_of_publication": 2024
         },
         {
          "year_of_publication": 2024
         },
         {
          "year_of_publication": 2024
         },
         {
          "year_of_publication": 2024
         },
         {
          "year_of_publication": 2024
         },
         {
          "year_of_publication": 2024
         },
         {
          "year_of_publication": 2024
         },
         {
          "year_of_publication": 2023
         },
         {
          "year_of_publication": 2024
         },
         {
          "year_of_publication": 2024
         },
         {
          "year_of_publication": 2024
         },
         {
          "year_of_publication": 2024
         },
         {
          "year_of_publication": 2024
         },
         {
          "year_of_publication": 2024
         },
         {
          "year_of_publication": 2024
         },
         {
          "year_of_publication": 2024
         },
         {
          "year_of_publication": 2024
         },
         {
          "year_of_publication": 2024
         },
         {
          "year_of_publication": 2024
         },
         {
          "year_of_publication": 2024
         },
         {
          "year_of_publication": 2024
         },
         {
          "year_of_publication": 2023
         },
         {
          "year_of_publication": 2023
         },
         {
          "year_of_publication": 2024
         },
         {
          "year_of_publication": 2024
         },
         {
          "year_of_publication": 2023
         },
         {
          "year_of_publication": 2024
         },
         {
          "year_of_publication": 2024
         },
         {
          "year_of_publication": 2024
         },
         {
          "year_of_publication": 2024
         },
         {
          "year_of_publication": 2024
         },
         {
          "year_of_publication": 2024
         },
         {
          "year_of_publication": 2024
         },
         {
          "year_of_publication": 2024
         },
         {
          "year_of_publication": 2023
         },
         {
          "year_of_publication": 2024
         },
         {
          "year_of_publication": 2024
         },
         {
          "year_of_publication": 2024
         },
         {
          "year_of_publication": 2023
         },
         {
          "year_of_publication": 2024
         },
         {
          "year_of_publication": 2024
         },
         {
          "year_of_publication": 2024
         },
         {
          "year_of_publication": 2024
         },
         {
          "year_of_publication": 2023
         },
         {
          "year_of_publication": 2024
         },
         {
          "year_of_publication": 2023
         },
         {
          "year_of_publication": 2024
         },
         {
          "year_of_publication": 2024
         },
         {
          "year_of_publication": 2023
         },
         {
          "year_of_publication": 2023
         },
         {
          "year_of_publication": 2023
         },
         {
          "year_of_publication": 2023
         },
         {
          "year_of_publication": 2023
         },
         {
          "year_of_publication": 2023
         },
         {
          "year_of_publication": 2023
         },
         {
          "year_of_publication": 2023
         },
         {
          "year_of_publication": 2023
         },
         {
          "year_of_publication": 2023
         },
         {
          "year_of_publication": 2023
         },
         {
          "year_of_publication": 2023
         },
         {
          "year_of_publication": 2023
         },
         {
          "year_of_publication": 2023
         },
         {
          "year_of_publication": 2023
         },
         {
          "year_of_publication": 2023
         },
         {
          "year_of_publication": 2023
         },
         {
          "year_of_publication": 2023
         },
         {
          "year_of_publication": 2023
         },
         {
          "year_of_publication": 2023
         },
         {
          "year_of_publication": 2023
         },
         {
          "year_of_publication": 2023
         },
         {
          "year_of_publication": 2023
         },
         {
          "year_of_publication": 2023
         },
         {
          "year_of_publication": 2023
         },
         {
          "year_of_publication": 2023
         },
         {
          "year_of_publication": 2023
         },
         {
          "year_of_publication": 2023
         },
         {
          "year_of_publication": 2023
         },
         {
          "year_of_publication": 2023
         },
         {
          "year_of_publication": 2023
         },
         {
          "year_of_publication": 2023
         },
         {
          "year_of_publication": 2023
         },
         {
          "year_of_publication": 2023
         },
         {
          "year_of_publication": 2023
         },
         {
          "year_of_publication": 2023
         },
         {
          "year_of_publication": 2023
         },
         {
          "year_of_publication": 2023
         },
         {
          "year_of_publication": 2023
         },
         {
          "year_of_publication": 2023
         },
         {
          "year_of_publication": 2023
         },
         {
          "year_of_publication": 2023
         },
         {
          "year_of_publication": 2023
         },
         {
          "year_of_publication": 2023
         },
         {
          "year_of_publication": 2023
         },
         {
          "year_of_publication": 2023
         },
         {
          "year_of_publication": 2023
         },
         {
          "year_of_publication": 2023
         },
         {
          "year_of_publication": 2023
         },
         {
          "year_of_publication": 2023
         },
         {
          "year_of_publication": 2023
         },
         {
          "year_of_publication": 2023
         },
         {
          "year_of_publication": 2023
         },
         {
          "year_of_publication": 2023
         },
         {
          "year_of_publication": 2023
         },
         {
          "year_of_publication": 2023
         },
         {
          "year_of_publication": 2022
         },
         {
          "year_of_publication": 2022
         },
         {
          "year_of_publication": 2022
         },
         {
          "year_of_publication": 2022
         },
         {
          "year_of_publication": 2022
         },
         {
          "year_of_publication": 2022
         },
         {
          "year_of_publication": 2022
         },
         {
          "year_of_publication": 2021
         },
         {
          "year_of_publication": 2022
         },
         {
          "year_of_publication": 2022
         },
         {
          "year_of_publication": 2021
         },
         {
          "year_of_publication": 2021
         },
         {
          "year_of_publication": 2021
         },
         {
          "year_of_publication": 2021
         },
         {
          "year_of_publication": 2020
         },
         {
          "year_of_publication": 2021
         },
         {
          "year_of_publication": 2020
         },
         {
          "year_of_publication": 2021
         }
        ]
       },
       "encoding": {
        "x": {
         "field": "year_of_publication",
         "title": "Year of publication",
         "type": "nominal"
        },
        "y": {
         "aggregate": "count",
         "title": "Count of articles",
         "type": "quantitative"
        }
       },
       "height": 400,
       "mark": {
        "type": "bar"
       },
       "width": 400
      },
      "image/png": "[encoded data removed]",
      "text/plain": [
       "<VegaLite 5 object>\n",
       "\n",
       "If you see this message, it means the renderer has not been properly enabled\n",
       "for the frontend that you are using. For more information, see\n",
       "https://altair-viz.github.io/user_guide/display_frontends.html#troubleshooting\n"
      ]
     },
     "execution_count": 11,
     "metadata": {},
     "output_type": "execute_result"
    }
   ],
   "source": [
    "# some quick transformations and an altair histogram\n",
    "years_to_plot: pd.DataFrame = pd.DataFrame(\n",
    "    {\n",
    "        \"year_of_publication\": [\n",
    "            int(datetime.fromtimestamp(ts).year) for ts in df[\"published_timestamp\"]\n",
    "        ]\n",
    "    }\n",
    ")\n",
    "alt.Chart(years_to_plot).mark_bar().encode(\n",
    "    alt.X(\"year_of_publication:N\", title=\"Year of publication\"),\n",
    "    y=alt.Y(\"count()\", title=\"Count of articles\"),\n",
    ").properties(width=400, height=400)"
   ]
  },
  {
   "cell_type": "markdown",
   "metadata": {
    "id": "6hc37uxd0ydT"
   },
   "source": [
    "## Setting up Superlinked"
   ]
  },
  {
   "cell_type": "code",
   "execution_count": 12,
   "metadata": {
    "id": "p8CKnD5U1Fdn"
   },
   "outputs": [],
   "source": [
    "# Setting up the schema according to our inputs\n",
    "@schema\n",
    "class PapersSchema:\n",
    "    url: String\n",
    "    title: String\n",
    "    abstract: String\n",
    "    published_timestamp: Timestamp\n",
    "    id: IdField\n",
    "\n",
    "\n",
    "papers = PapersSchema()"
   ]
  },
  {
   "cell_type": "code",
   "execution_count": 13,
   "metadata": {
    "colab": {
     "base_uri": "https://localhost:8080/"
    },
    "id": "66UBkgzA_NTI",
    "outputId": "326099dd-eda7-465b-8c8f-92827d31b207"
   },
   "outputs": [],
   "source": [
    "YEAR_IN_DAYS = 365\n",
    "\n",
    "# Textual characteristics are embedded using a sentence-transformers model\n",
    "abstract_space = TextSimilaritySpace(\n",
    "    text=papers.abstract, model=\"sentence-transformers/all-mpnet-base-v2\"\n",
    ")\n",
    "title_space = TextSimilaritySpace(\n",
    "    text=papers.title, model=\"sentence-transformers/all-mpnet-base-v2\"\n",
    ")\n",
    "# Release date is encoded using Superlinked's recency embedding algorithm\n",
    "recency_space = RecencySpace(\n",
    "    timestamp=papers.published_timestamp,\n",
    "    period_time_list=[\n",
    "        PeriodTime(timedelta(days=4 * YEAR_IN_DAYS), weight=1),\n",
    "        PeriodTime(timedelta(days=11 * YEAR_IN_DAYS), weight=2),\n",
    "    ],\n",
    "    negative_filter=0.0,\n",
    ")"
   ]
  },
  {
   "cell_type": "code",
   "execution_count": 14,
   "metadata": {
    "id": "gC5GvTF5BInp"
   },
   "outputs": [],
   "source": [
    "# We create an index of our spaces\n",
    "papers_index = Index(spaces=[abstract_space, title_space, recency_space])"
   ]
  },
  {
   "cell_type": "code",
   "execution_count": 15,
   "metadata": {
    "id": "KTEfX3umMbOE"
   },
   "outputs": [],
   "source": [
    "dataframe_parser = DataFrameParser(\n",
    "    schema=papers,\n",
    "    mapping={\n",
    "        papers.published_timestamp: \"published_timestamp\",\n",
    "        papers.abstract: \"abstract\",\n",
    "    },\n",
    ")"
   ]
  },
  {
   "cell_type": "code",
   "execution_count": 16,
   "metadata": {
    "id": "JhR4He6iM66t"
   },
   "outputs": [],
   "source": [
    "# Setting a specific end date to ensure reproducibility of the notebook\n",
    "END_OF_APRIL_24_TS = int(datetime(2024, 4, 30, 23, 59).timestamp())\n",
    "EXECUTOR_DATA = {CONTEXT_COMMON: {CONTEXT_COMMON_NOW: END_OF_APRIL_24_TS}}\n",
    "\n",
    "source: InMemorySource = InMemorySource(papers, parser=dataframe_parser)\n",
    "executor: InMemoryExecutor = InMemoryExecutor(\n",
    "    sources=[source], indices=[papers_index], context_data=EXECUTOR_DATA\n",
    ")\n",
    "app: InMemoryApp = executor.run()"
   ]
  },
  {
   "cell_type": "code",
   "execution_count": 17,
   "metadata": {
    "colab": {
     "base_uri": "https://localhost:8080/",
     "height": 81,
     "referenced_widgets": [
      "bdc083ab11764324ab7f3db4a3765124",
      "edc763138dba4dafa73279559b679f4a",
      "6366608dcfb84ebcb44d7aed3ce47d56",
      "5661fc3716434478934868316140f7de",
      "007b995972204638844ad5a850fba445",
      "8adf7e6bac894ed89e50308f406b5e7f",
      "bd0ee229f1c64563bc705a9551a63fad",
      "4a3b64bdb77345dcbc707004fdfb8990",
      "0a660dc927a2405f9657455cd03a50bb",
      "123855bdc58e4dd4834b1d5a6473e119",
      "37d771c6764b49bc938887ce44518eb2",
      "c1cac8514f9940168d5761817b7c73f8",
      "8839022fb63444508bbeb9c98c0f5a37",
      "a55aa427dede4e5981b07d00ccb82b77",
      "9bc228be77ad43738b9c136adb273d18",
      "e7a98fa0f9824d398e70d2f4d17d2e1c",
      "6a9ddfde9ab74eafa03c9e2c3d9d5246",
      "7d9cfc0eeaf540a8b98d297a7021040c",
      "2310566a0db54b1eaae86f14b860f756",
      "5c0858df785c4e32ad3cfd5993c094fb",
      "d3251abd8cee40bbbfb883bbd4e987b2",
      "3c6cc08a94a94eceb1cee42f05f3e607"
     ]
    },
    "id": "sX3ainXkNzYO",
    "outputId": "a5639107-21c8-4f10-a5ed-8c2b2224b5ff"
   },
   "outputs": [
    {
     "data": {
      "application/vnd.jupyter.widget-view+json": {
       "model_id": "f67299692f8a4663a6e960a8b485fe84",
       "version_major": 2,
       "version_minor": 0
      },
      "text/plain": [
       "Batches:   0%|          | 0/12 [00:00<?, ?it/s]"
      ]
     },
     "metadata": {},
     "output_type": "display_data"
    },
    {
     "data": {
      "application/vnd.jupyter.widget-view+json": {
       "model_id": "ded6c352ed9649b08b2997f5c91c62d4",
       "version_major": 2,
       "version_minor": 0
      },
      "text/plain": [
       "Batches:   0%|          | 0/12 [00:00<?, ?it/s]"
      ]
     },
     "metadata": {},
     "output_type": "display_data"
    }
   ],
   "source": [
    "# IMPORTANT: if you're running this notebook in Google Colab and\n",
    "# this step is taking very long - you might be running an instance without a GPU\n",
    "source.put([df])"
   ]
  },
  {
   "cell_type": "markdown",
   "metadata": {
    "id": "nD0x9T_DOQIo"
   },
   "source": [
    "## Understanding recency"
   ]
  },
  {
   "cell_type": "code",
   "execution_count": 18,
   "metadata": {
    "colab": {
     "base_uri": "https://localhost:8080/",
     "height": 465
    },
    "id": "rTX88MsCN-x8",
    "outputId": "708328e9-3dcf-49de-ff09-32772384d8c2"
   },
   "outputs": [
    {
     "data": {
      "application/vnd.vegalite.v5+json": {
       "$schema": "https://vega.github.io/schema/vega-lite/v5.16.3.json",
       "config": {
        "view": {
         "continuousHeight": 300,
         "continuousWidth": 300
        }
       },
       "data": {
        "name": "data-82199ead76997c895a9aa79cffd451ca"
       },
       "datasets": {
        "data-82199ead76997c895a9aa79cffd451ca": [
         {
          "date": "2012-03-28T11:59:00",
          "score": 0
         },
         {
          "date": "2012-04-01T22:05:07.567568",
          "score": 0
         },
         {
          "date": "2012-04-06T08:11:15.135135",
          "score": 0
         },
         {
          "date": "2012-04-10T18:17:22.702703",
          "score": 0
         },
         {
          "date": "2012-04-15T04:23:30.270270",
          "score": 0
         },
         {
          "date": "2012-04-19T14:29:37.837838",
          "score": 0
         },
         {
          "date": "2012-04-24T00:35:45.405406",
          "score": 0
         },
         {
          "date": "2012-04-28T10:41:52.972973",
          "score": 0
         },
         {
          "date": "2012-05-02T20:48:00.540540",
          "score": 0
         },
         {
          "date": "2012-05-07T06:54:08.108108",
          "score": 0
         },
         {
          "date": "2012-05-11T17:00:15.675676",
          "score": 0
         },
         {
          "date": "2012-05-16T03:06:23.243243",
          "score": 0
         },
         {
          "date": "2012-05-20T13:12:30.810811",
          "score": 0
         },
         {
          "date": "2012-05-24T23:18:38.378378",
          "score": 0
         },
         {
          "date": "2012-05-29T09:24:45.945946",
          "score": 0
         },
         {
          "date": "2012-06-02T19:30:53.513514",
          "score": 0
         },
         {
          "date": "2012-06-07T05:37:01.081081",
          "score": 0
         },
         {
          "date": "2012-06-11T15:43:08.648649",
          "score": 0
         },
         {
          "date": "2012-06-16T01:49:16.216216",
          "score": 0
         },
         {
          "date": "2012-06-20T11:55:23.783784",
          "score": 0
         },
         {
          "date": "2012-06-24T22:01:31.351351",
          "score": 0
         },
         {
          "date": "2012-06-29T08:07:38.918919",
          "score": 0
         },
         {
          "date": "2012-07-03T18:13:46.486486",
          "score": 0
         },
         {
          "date": "2012-07-08T04:19:54.054054",
          "score": 0
         },
         {
          "date": "2012-07-12T14:26:01.621622",
          "score": 0
         },
         {
          "date": "2012-07-17T00:32:09.189189",
          "score": 0
         },
         {
          "date": "2012-07-21T10:38:16.756757",
          "score": 0
         },
         {
          "date": "2012-07-25T20:44:24.324324",
          "score": 0
         },
         {
          "date": "2012-07-30T06:50:31.891892",
          "score": 0
         },
         {
          "date": "2012-08-03T16:56:39.459460",
          "score": 0
         },
         {
          "date": "2012-08-08T03:02:47.027027",
          "score": 0
         },
         {
          "date": "2012-08-12T13:08:54.594594",
          "score": 0
         },
         {
          "date": "2012-08-16T23:15:02.162162",
          "score": 0
         },
         {
          "date": "2012-08-21T09:21:09.729730",
          "score": 0
         },
         {
          "date": "2012-08-25T19:27:17.297297",
          "score": 0
         },
         {
          "date": "2012-08-30T05:33:24.864865",
          "score": 0
         },
         {
          "date": "2012-09-03T15:39:32.432432",
          "score": 0
         },
         {
          "date": "2012-09-08T01:45:40",
          "score": 0
         },
         {
          "date": "2012-09-12T11:51:47.567568",
          "score": 0
         },
         {
          "date": "2012-09-16T21:57:55.135135",
          "score": 0
         },
         {
          "date": "2012-09-21T08:04:02.702703",
          "score": 0
         },
         {
          "date": "2012-09-25T18:10:10.270270",
          "score": 0
         },
         {
          "date": "2012-09-30T04:16:17.837838",
          "score": 0
         },
         {
          "date": "2012-10-04T14:22:25.405406",
          "score": 0
         },
         {
          "date": "2012-10-09T00:28:32.972973",
          "score": 0
         },
         {
          "date": "2012-10-13T10:34:40.540540",
          "score": 0
         },
         {
          "date": "2012-10-17T20:40:48.108108",
          "score": 0
         },
         {
          "date": "2012-10-22T06:46:55.675676",
          "score": 0
         },
         {
          "date": "2012-10-26T16:53:03.243243",
          "score": 0
         },
         {
          "date": "2012-10-31T01:59:10.810811",
          "score": 0
         },
         {
          "date": "2012-11-04T12:05:18.378378",
          "score": 0
         },
         {
          "date": "2012-11-08T22:11:25.945946",
          "score": 0
         },
         {
          "date": "2012-11-13T08:17:33.513514",
          "score": 0
         },
         {
          "date": "2012-11-17T18:23:41.081081",
          "score": 0
         },
         {
          "date": "2012-11-22T04:29:48.648649",
          "score": 0
         },
         {
          "date": "2012-11-26T14:35:56.216216",
          "score": 0
         },
         {
          "date": "2012-12-01T00:42:03.783784",
          "score": 0
         },
         {
          "date": "2012-12-05T10:48:11.351351",
          "score": 0
         },
         {
          "date": "2012-12-09T20:54:18.918919",
          "score": 0
         },
         {
          "date": "2012-12-14T07:00:26.486486",
          "score": 0
         },
         {
          "date": "2012-12-18T17:06:34.054054",
          "score": 0
         },
         {
          "date": "2012-12-23T03:12:41.621622",
          "score": 0
         },
         {
          "date": "2012-12-27T13:18:49.189189",
          "score": 0
         },
         {
          "date": "2012-12-31T23:24:56.756757",
          "score": 0
         },
         {
          "date": "2013-01-05T09:31:04.324324",
          "score": 0
         },
         {
          "date": "2013-01-09T19:37:11.891892",
          "score": 0
         },
         {
          "date": "2013-01-14T05:43:19.459460",
          "score": 0
         },
         {
          "date": "2013-01-18T15:49:27.027027",
          "score": 0
         },
         {
          "date": "2013-01-23T01:55:34.594594",
          "score": 0
         },
         {
          "date": "2013-01-27T12:01:42.162162",
          "score": 0
         },
         {
          "date": "2013-01-31T22:07:49.729730",
          "score": 0
         },
         {
          "date": "2013-02-05T08:13:57.297297",
          "score": 0
         },
         {
          "date": "2013-02-09T18:20:04.864865",
          "score": 0
         },
         {
          "date": "2013-02-14T04:26:12.432432",
          "score": 0
         },
         {
          "date": "2013-02-18T14:32:20",
          "score": 0
         },
         {
          "date": "2013-02-23T00:38:27.567568",
          "score": 0
         },
         {
          "date": "2013-02-27T10:44:35.135135",
          "score": 0
         },
         {
          "date": "2013-03-03T20:50:42.702703",
          "score": 0
         },
         {
          "date": "2013-03-08T06:56:50.270270",
          "score": 0
         },
         {
          "date": "2013-03-12T17:02:57.837838",
          "score": 0
         },
         {
          "date": "2013-03-17T03:09:05.405406",
          "score": 0
         },
         {
          "date": "2013-03-21T13:15:12.972973",
          "score": 0
         },
         {
          "date": "2013-03-25T23:21:20.540540",
          "score": 0
         },
         {
          "date": "2013-03-30T09:27:28.108108",
          "score": 0
         },
         {
          "date": "2013-04-03T20:33:35.675676",
          "score": 0
         },
         {
          "date": "2013-04-08T06:39:43.243243",
          "score": 0
         },
         {
          "date": "2013-04-12T16:45:50.810811",
          "score": 0
         },
         {
          "date": "2013-04-17T02:51:58.378378",
          "score": 0
         },
         {
          "date": "2013-04-21T12:58:05.945946",
          "score": 0
         },
         {
          "date": "2013-04-25T23:04:13.513514",
          "score": 0
         },
         {
          "date": "2013-04-30T09:10:21.081081",
          "score": 0
         },
         {
          "date": "2013-05-04T19:16:28.648649",
          "score": 0.00025157898713368265
         },
         {
          "date": "2013-05-09T05:22:36.216216",
          "score": 0.0016352623045503
         },
         {
          "date": "2013-05-13T15:28:43.783784",
          "score": 0.0030189407300265647
         },
         {
          "date": "2013-05-18T01:34:51.351351",
          "score": 0.004402610124232764
         },
         {
          "date": "2013-05-22T11:40:58.918919",
          "score": 0.005786266347882485
         },
         {
          "date": "2013-05-26T21:47:06.486486",
          "score": 0.007169905261715792
         },
         {
          "date": "2013-05-31T07:53:14.054054",
          "score": 0.008553522726528873
         },
         {
          "date": "2013-06-04T17:59:21.621622",
          "score": 0.009937114603181585
         },
         {
          "date": "2013-06-09T04:05:29.189189",
          "score": 0.011320676752608672
         },
         {
          "date": "2013-06-13T14:11:36.756757",
          "score": 0.012704205035842409
         },
         {
          "date": "2013-06-18T00:17:44.324324",
          "score": 0.014087695314005555
         },
         {
          "date": "2013-06-22T10:23:51.891892",
          "score": 0.015471143448337055
         },
         {
          "date": "2013-06-26T20:29:59.459460",
          "score": 0.01685454530021019
         },
         {
          "date": "2013-07-01T06:36:07.027027",
          "score": 0.01823789673112608
         },
         {
          "date": "2013-07-05T16:42:14.594594",
          "score": 0.019621193602742337
         },
         {
          "date": "2013-07-10T02:48:22.162162",
          "score": 0.02100443177687422
         },
         {
          "date": "2013-07-14T12:54:29.729730",
          "score": 0.022387607115523955
         },
         {
          "date": "2013-07-18T23:00:37.297297",
          "score": 0.023770715480870175
         },
         {
          "date": "2013-07-23T09:06:44.864865",
          "score": 0.025153752735294244
         },
         {
          "date": "2013-07-27T19:12:52.432432",
          "score": 0.02653671474139857
         },
         {
          "date": "2013-08-01T05:19:00",
          "score": 0.02791959736200017
         },
         {
          "date": "2013-08-05T15:25:07.567568",
          "score": 0.029302396460159086
         },
         {
          "date": "2013-08-10T01:31:15.135135",
          "score": 0.030685107899183273
         },
         {
          "date": "2013-08-14T11:37:22.702703",
          "score": 0.0320677275426392
         },
         {
          "date": "2013-08-18T21:43:30.270270",
          "score": 0.03345025125438078
         },
         {
          "date": "2013-08-23T07:49:37.837838",
          "score": 0.0348326748985362
         },
         {
          "date": "2013-08-27T17:55:45.405406",
          "score": 0.03621499433953379
         },
         {
          "date": "2013-09-01T04:01:52.972973",
          "score": 0.03759720544212308
         },
         {
          "date": "2013-09-05T14:08:00.540540",
          "score": 0.03897930407136979
         },
         {
          "date": "2013-09-10T00:14:08.108108",
          "score": 0.040361286092677084
         },
         {
          "date": "2013-09-14T10:20:15.675676",
          "score": 0.041743147371794465
         },
         {
          "date": "2013-09-18T20:26:23.243243",
          "score": 0.04312488377484297
         },
         {
          "date": "2013-09-23T06:32:30.810811",
          "score": 0.04450649116830607
         },
         {
          "date": "2013-09-27T16:38:38.378378",
          "score": 0.045887965419055154
         },
         {
          "date": "2013-10-02T02:44:45.945946",
          "score": 0.04726930239436855
         },
         {
          "date": "2013-10-06T12:50:53.513514",
          "score": 0.04865049796192522
         },
         {
          "date": "2013-10-10T22:57:01.081081",
          "score": 0.050031547989830116
         },
         {
          "date": "2013-10-15T09:03:08.648649",
          "score": 0.05141244834662556
         },
         {
          "date": "2013-10-19T19:09:16.216216",
          "score": 0.052793194901295915
         },
         {
          "date": "2013-10-24T05:15:23.783784",
          "score": 0.054173783523297325
         },
         {
          "date": "2013-10-28T14:21:31.351351",
          "score": 0.05555421008254313
         },
         {
          "date": "2013-11-02T00:27:38.918919",
          "score": 0.05693447044944788
         },
         {
          "date": "2013-11-06T10:33:46.486486",
          "score": 0.05831456049491074
         },
         {
          "date": "2013-11-10T20:39:54.054054",
          "score": 0.059694476090344395
         },
         {
          "date": "2013-11-15T06:46:01.621622",
          "score": 0.061074213107682795
         },
         {
          "date": "2013-11-19T16:52:09.189189",
          "score": 0.06245376741939268
         },
         {
          "date": "2013-11-24T02:58:16.756757",
          "score": 0.06383313489849601
         },
         {
          "date": "2013-11-28T13:04:24.324324",
          "score": 0.06521231141856282
         },
         {
          "date": "2013-12-02T23:10:31.891892",
          "score": 0.0665912928537366
         },
         {
          "date": "2013-12-07T09:16:39.459460",
          "score": 0.06797007507875286
         },
         {
          "date": "2013-12-11T19:22:47.027027",
          "score": 0.06934865396893275
         },
         {
          "date": "2013-12-16T05:28:54.594594",
          "score": 0.07072702540021103
         },
         {
          "date": "2013-12-20T15:35:02.162162",
          "score": 0.07210518524913756
         },
         {
          "date": "2013-12-25T01:41:09.729730",
          "score": 0.07348312939290635
         },
         {
          "date": "2013-12-29T11:47:17.297297",
          "score": 0.0748608537093457
         },
         {
          "date": "2014-01-02T21:53:24.864865",
          "score": 0.07623835407694324
         },
         {
          "date": "2014-01-07T07:59:32.432432",
          "score": 0.0776156263748653
         },
         {
          "date": "2014-01-11T18:05:40",
          "score": 0.07899266648294978
         },
         {
          "date": "2014-01-16T04:11:47.567568",
          "score": 0.08036947028173497
         },
         {
          "date": "2014-01-20T14:17:55.135135",
          "score": 0.08174603365246386
         },
         {
          "date": "2014-01-25T00:24:02.702703",
          "score": 0.08312235247709504
         },
         {
          "date": "2014-01-29T10:30:10.270270",
          "score": 0.08449842263833163
         },
         {
          "date": "2014-02-02T20:36:17.837838",
          "score": 0.0858742400196078
         },
         {
          "date": "2014-02-07T06:42:25.405406",
          "score": 0.08724980050511388
         },
         {
          "date": "2014-02-11T16:48:32.972973",
          "score": 0.08862509997982149
         },
         {
          "date": "2014-02-16T02:54:40.540540",
          "score": 0.0900001343294703
         },
         {
          "date": "2014-02-20T13:00:48.108108",
          "score": 0.09137489944059746
         },
         {
          "date": "2014-02-24T23:06:55.675676",
          "score": 0.09274939120054121
         },
         {
          "date": "2014-03-01T09:13:03.243243",
          "score": 0.09412360549747023
         },
         {
          "date": "2014-03-05T19:19:10.810811",
          "score": 0.09549753822037066
         },
         {
          "date": "2014-03-10T05:25:18.378378",
          "score": 0.09687118525907157
         },
         {
          "date": "2014-03-14T15:31:25.945946",
          "score": 0.09824454250426662
         },
         {
          "date": "2014-03-19T01:37:33.513514",
          "score": 0.09961760584750778
         },
         {
          "date": "2014-03-23T11:43:41.081081",
          "score": 0.10099037118122783
         },
         {
          "date": "2014-03-27T21:49:48.648649",
          "score": 0.10236283439875099
         },
         {
          "date": "2014-04-01T08:55:56.216216",
          "score": 0.10373499139430453
         },
         {
          "date": "2014-04-05T19:02:03.783784",
          "score": 0.1051068380630375
         },
         {
          "date": "2014-04-10T05:08:11.351351",
          "score": 0.10647837030101798
         },
         {
          "date": "2014-04-14T15:14:18.918919",
          "score": 0.10784958400526629
         },
         {
          "date": "2014-04-19T01:20:26.486486",
          "score": 0.10922047507374538
         },
         {
          "date": "2014-04-23T11:26:34.054054",
          "score": 0.11059103940538653
         },
         {
          "date": "2014-04-27T21:32:41.621622",
          "score": 0.11196127290010024
         },
         {
          "date": "2014-05-02T07:38:49.189189",
          "score": 0.11333117145878163
         },
         {
          "date": "2014-05-06T17:44:56.756757",
          "score": 0.11470073098333838
         },
         {
          "date": "2014-05-11T03:51:04.324324",
          "score": 0.11606994737668166
         },
         {
          "date": "2014-05-15T13:57:11.891892",
          "score": 0.11743881654275104
         },
         {
          "date": "2014-05-20T00:03:19.459460",
          "score": 0.11880733438653321
         },
         {
          "date": "2014-05-24T10:09:27.027027",
          "score": 0.12017549681405534
         },
         {
          "date": "2014-05-28T20:15:34.594594",
          "score": 0.12154329973241368
         },
         {
          "date": "2014-06-02T06:21:42.162162",
          "score": 0.12291073904977404
         },
         {
          "date": "2014-06-06T16:27:49.729730",
          "score": 0.12427781067540142
         },
         {
          "date": "2014-06-11T02:33:57.297297",
          "score": 0.1256445105196493
         },
         {
          "date": "2014-06-15T12:40:04.864865",
          "score": 0.12701083449398576
         },
         {
          "date": "2014-06-19T22:46:12.432432",
          "score": 0.1283767785110116
         },
         {
          "date": "2014-06-24T08:52:20",
          "score": 0.12974233848445355
         },
         {
          "date": "2014-06-28T18:58:27.567568",
          "score": 0.13110751032919316
         },
         {
          "date": "2014-07-03T05:04:35.135135",
          "score": 0.13247228996127078
         },
         {
          "date": "2014-07-07T15:10:42.702703",
          "score": 0.13383667329789667
         },
         {
          "date": "2014-07-12T01:16:50.270270",
          "score": 0.1352006562574792
         },
         {
          "date": "2014-07-16T11:22:57.837838",
          "score": 0.13656423475961182
         },
         {
          "date": "2014-07-20T21:29:05.405406",
          "score": 0.13792740472509796
         },
         {
          "date": "2014-07-25T07:35:12.972973",
          "score": 0.13929016207597578
         },
         {
          "date": "2014-07-29T17:41:20.540540",
          "score": 0.14065250273550534
         },
         {
          "date": "2014-08-03T03:47:28.108108",
          "score": 0.14201442262819725
         },
         {
          "date": "2014-08-07T13:53:35.675676",
          "score": 0.14337591767981678
         },
         {
          "date": "2014-08-11T23:59:43.243243",
          "score": 0.14473698381741262
         },
         {
          "date": "2014-08-16T10:05:50.810811",
          "score": 0.14609761696930412
         },
         {
          "date": "2014-08-20T20:11:58.378378",
          "score": 0.14745781306510589
         },
         {
          "date": "2014-08-25T06:18:05.945946",
          "score": 0.14881756803575233
         },
         {
          "date": "2014-08-29T16:24:13.513514",
          "score": 0.15017687781348535
         },
         {
          "date": "2014-09-03T02:30:21.081081",
          "score": 0.15153573833188239
         },
         {
          "date": "2014-09-07T12:36:28.648649",
          "score": 0.15289414552586475
         },
         {
          "date": "2014-09-11T22:42:36.216216",
          "score": 0.15425209533170778
         },
         {
          "date": "2014-09-16T08:48:43.783784",
          "score": 0.15560958368706404
         },
         {
          "date": "2014-09-20T18:54:51.351351",
          "score": 0.15696660653095298
         },
         {
          "date": "2014-09-25T05:00:58.918919",
          "score": 0.15832315980380018
         },
         {
          "date": "2014-09-29T15:07:06.486486",
          "score": 0.15967923944742718
         },
         {
          "date": "2014-10-04T01:13:14.054054",
          "score": 0.16103484140507413
         },
         {
          "date": "2014-10-08T11:19:21.621622",
          "score": 0.1623899616214101
         },
         {
          "date": "2014-10-12T21:25:29.189189",
          "score": 0.16374459604254385
         },
         {
          "date": "2014-10-17T07:31:36.756757",
          "score": 0.16509874061604585
         },
         {
          "date": "2014-10-21T17:37:44.324324",
          "score": 0.16645239129094144
         },
         {
          "date": "2014-10-26T02:43:51.891892",
          "score": 0.16780554401773634
         },
         {
          "date": "2014-10-30T12:49:59.459460",
          "score": 0.1691581947484322
         },
         {
          "date": "2014-11-03T22:56:07.027027",
          "score": 0.17051033943652388
         },
         {
          "date": "2014-11-08T09:02:14.594594",
          "score": 0.17186197403702444
         },
         {
          "date": "2014-11-12T19:08:22.162162",
          "score": 0.17321309450647007
         },
         {
          "date": "2014-11-17T05:14:29.729730",
          "score": 0.1745636968029418
         },
         {
          "date": "2014-11-21T15:20:37.297297",
          "score": 0.1759137768860626
         },
         {
          "date": "2014-11-26T01:26:44.864865",
          "score": 0.17726333071701914
         },
         {
          "date": "2014-11-30T11:32:52.432432",
          "score": 0.17861235425858044
         },
         {
          "date": "2014-12-04T21:39:00",
          "score": 0.17996084347509173
         },
         {
          "date": "2014-12-09T07:45:07.567568",
          "score": 0.18130879433250208
         },
         {
          "date": "2014-12-13T17:51:15.135135",
          "score": 0.18265620279836928
         },
         {
          "date": "2014-12-18T03:57:22.702703",
          "score": 0.18400306484186982
         },
         {
          "date": "2014-12-22T14:03:30.270270",
          "score": 0.18534937643382754
         },
         {
          "date": "2014-12-27T00:09:37.837838",
          "score": 0.18669513354670061
         },
         {
          "date": "2014-12-31T10:15:45.405406",
          "score": 0.1880403321546058
         },
         {
          "date": "2015-01-04T20:21:52.972973",
          "score": 0.18938496823334316
         },
         {
          "date": "2015-01-09T06:28:00.540540",
          "score": 0.19072903776038286
         },
         {
          "date": "2015-01-13T16:34:08.108108",
          "score": 0.19207253671489466
         },
         {
          "date": "2015-01-18T02:40:15.675676",
          "score": 0.19341546107775057
         },
         {
          "date": "2015-01-22T12:46:23.243243",
          "score": 0.19475780683155405
         },
         {
          "date": "2015-01-26T22:52:30.810811",
          "score": 0.19609956996062716
         },
         {
          "date": "2015-01-31T08:58:38.378378",
          "score": 0.19744074645103477
         },
         {
          "date": "2015-02-04T19:04:45.945946",
          "score": 0.19878133229060937
         },
         {
          "date": "2015-02-09T05:10:53.513514",
          "score": 0.2001213234689376
         },
         {
          "date": "2015-02-13T15:17:01.081081",
          "score": 0.20146071597738957
         },
         {
          "date": "2015-02-18T01:23:08.648649",
          "score": 0.20279950580912534
         },
         {
          "date": "2015-02-22T11:29:16.216216",
          "score": 0.20413768895910672
         },
         {
          "date": "2015-02-26T21:35:23.783784",
          "score": 0.20547526142411868
         },
         {
          "date": "2015-03-03T07:41:31.351351",
          "score": 0.20681221920275913
         },
         {
          "date": "2015-03-07T17:47:38.918919",
          "score": 0.20814855829548087
         },
         {
          "date": "2015-03-12T03:53:46.486486",
          "score": 0.20948427470457506
         },
         {
          "date": "2015-03-16T13:59:54.054054",
          "score": 0.21081936443419969
         },
         {
          "date": "2015-03-21T00:06:01.621622",
          "score": 0.21215382349038692
         },
         {
          "date": "2015-03-25T10:12:09.189189",
          "score": 0.21348764788105418
         },
         {
          "date": "2015-03-29T21:18:16.756757",
          "score": 0.21482083361602577
         },
         {
          "date": "2015-04-03T07:24:24.324324",
          "score": 0.21615337670702606
         },
         {
          "date": "2015-04-07T17:30:31.891892",
          "score": 0.2174852731677043
         },
         {
          "date": "2015-04-12T03:36:39.459460",
          "score": 0.21881651901365226
         },
         {
          "date": "2015-04-16T13:42:47.027027",
          "score": 0.22014711026239756
         },
         {
          "date": "2015-04-20T23:48:54.594594",
          "score": 0.22147704293343187
         },
         {
          "date": "2015-04-25T09:55:02.162162",
          "score": 0.2228063130482114
         },
         {
          "date": "2015-04-29T20:01:09.729730",
          "score": 0.22413491663018528
         },
         {
          "date": "2015-05-04T06:07:17.297297",
          "score": 0.22546284970478578
         },
         {
          "date": "2015-05-08T16:13:24.864865",
          "score": 0.22679010829945379
         },
         {
          "date": "2015-05-13T02:19:32.432432",
          "score": 0.22811668844365382
         },
         {
          "date": "2015-05-17T12:25:40",
          "score": 0.22944258616887203
         },
         {
          "date": "2015-05-21T22:31:47.567568",
          "score": 0.23076779750864018
         },
         {
          "date": "2015-05-26T08:37:55.135135",
          "score": 0.23209231849854323
         },
         {
          "date": "2015-05-30T18:44:02.702703",
          "score": 0.23341614517622664
         },
         {
          "date": "2015-06-04T04:50:10.270270",
          "score": 0.2347392735814238
         },
         {
          "date": "2015-06-08T14:56:17.837838",
          "score": 0.23606169975594685
         },
         {
          "date": "2015-06-13T01:02:25.405406",
          "score": 0.23738341974370802
         },
         {
          "date": "2015-06-17T11:08:32.972973",
          "score": 0.23870442959074414
         },
         {
          "date": "2015-06-21T21:14:40.540540",
          "score": 0.24002472534520458
         },
         {
          "date": "2015-06-26T07:20:48.108108",
          "score": 0.24134430305737872
         },
         {
          "date": "2015-06-30T17:26:55.675676",
          "score": 0.2426631587797
         },
         {
          "date": "2015-07-05T03:33:03.243243",
          "score": 0.24398128856677392
         },
         {
          "date": "2015-07-09T13:39:10.810811",
          "score": 0.24529868847536562
         },
         {
          "date": "2015-07-13T23:45:18.378378",
          "score": 0.24661535456442343
         },
         {
          "date": "2015-07-18T09:51:25.945946",
          "score": 0.24793128289510322
         },
         {
          "date": "2015-07-22T19:57:33.513514",
          "score": 0.2492464695307557
         },
         {
          "date": "2015-07-27T06:03:41.081081",
          "score": 0.2505609105369545
         },
         {
          "date": "2015-07-31T16:09:48.648649",
          "score": 0.25187460198150313
         },
         {
          "date": "2015-08-05T02:15:56.216216",
          "score": 0.2531875399344461
         },
         {
          "date": "2015-08-09T12:22:03.783784",
          "score": 0.2544997204680899
         },
         {
          "date": "2015-08-13T22:28:11.351351",
          "score": 0.2558111396569937
         },
         {
          "date": "2015-08-18T08:34:18.918919",
          "score": 0.2571217935780097
         },
         {
          "date": "2015-08-22T18:40:26.486486",
          "score": 0.258431678310267
         },
         {
          "date": "2015-08-27T04:46:34.054054",
          "score": 0.2597407899352002
         },
         {
          "date": "2015-08-31T14:52:41.621622",
          "score": 0.26104912453655577
         },
         {
          "date": "2015-09-05T00:58:49.189189",
          "score": 0.26235667820040337
         },
         {
          "date": "2015-09-09T11:04:56.756757",
          "score": 0.26366344701515704
         },
         {
          "date": "2015-09-13T21:11:04.324324",
          "score": 0.26496942707156823
         },
         {
          "date": "2015-09-18T07:17:11.891892",
          "score": 0.2662746144627507
         },
         {
          "date": "2015-09-22T17:23:19.459460",
          "score": 0.26757900528419687
         },
         {
          "date": "2015-09-27T03:29:27.027027",
          "score": 0.2688825956337726
         },
         {
          "date": "2015-10-01T13:35:34.594594",
          "score": 0.27018538161174327
         },
         {
          "date": "2015-10-05T23:41:42.162162",
          "score": 0.2714873593207756
         },
         {
          "date": "2015-10-10T09:47:49.729730",
          "score": 0.27278852486596417
         },
         {
          "date": "2015-10-14T19:53:57.297297",
          "score": 0.2740888743548251
         },
         {
          "date": "2015-10-19T06:00:04.864865",
          "score": 0.27538840389731384
         },
         {
          "date": "2015-10-23T16:06:12.432432",
          "score": 0.2766871096058493
         },
         {
          "date": "2015-10-28T01:12:20",
          "score": 0.2779849875953044
         },
         {
          "date": "2015-11-01T11:18:27.567568",
          "score": 0.2792820339830335
         },
         {
          "date": "2015-11-05T21:24:35.135135",
          "score": 0.2805782448888766
         },
         {
          "date": "2015-11-10T07:30:42.702703",
          "score": 0.28187361643517067
         },
         {
          "date": "2015-11-14T17:36:50.270270",
          "score": 0.28316814474677277
         },
         {
          "date": "2015-11-19T03:42:57.837838",
          "score": 0.2844618259510544
         },
         {
          "date": "2015-11-23T13:49:05.405406",
          "score": 0.2857546561779196
         },
         {
          "date": "2015-11-27T23:55:12.972973",
          "score": 0.2870466315598287
         },
         {
          "date": "2015-12-02T10:01:20.540540",
          "score": 0.2883377482317882
         },
         {
          "date": "2015-12-06T20:07:28.108108",
          "score": 0.28962800233137936
         },
         {
          "date": "2015-12-11T06:13:35.675676",
          "score": 0.2909173899987583
         },
         {
          "date": "2015-12-15T16:19:43.243243",
          "score": 0.29220590737668395
         },
         {
          "date": "2015-12-20T02:25:50.810811",
          "score": 0.2934935506105082
         },
         {
          "date": "2015-12-24T12:31:58.378378",
          "score": 0.29478031584819797
         },
         {
          "date": "2015-12-28T22:38:05.945946",
          "score": 0.29606619924035843
         },
         {
          "date": "2016-01-02T08:44:13.513514",
          "score": 0.2973511969402207
         },
         {
          "date": "2016-01-06T18:50:21.081081",
          "score": 0.29863530510366976
         },
         {
          "date": "2016-01-11T04:56:28.648649",
          "score": 0.29991851988925067
         },
         {
          "date": "2016-01-15T15:02:36.216216",
          "score": 0.3012008374581801
         },
         {
          "date": "2016-01-20T01:08:43.783784",
          "score": 0.3024822539743666
         },
         {
          "date": "2016-01-24T11:14:51.351351",
          "score": 0.3037627656044008
         },
         {
          "date": "2016-01-28T21:20:58.918919",
          "score": 0.3050423685175957
         },
         {
          "date": "2016-02-02T07:27:06.486486",
          "score": 0.30632105888597105
         },
         {
          "date": "2016-02-06T17:33:14.054054",
          "score": 0.3075988328842802
         },
         {
          "date": "2016-02-11T03:39:21.621622",
          "score": 0.3088756866900172
         },
         {
          "date": "2016-02-15T13:45:29.189189",
          "score": 0.3101516164834276
         },
         {
          "date": "2016-02-19T23:51:36.756757",
          "score": 0.3114266184475293
         },
         {
          "date": "2016-02-24T09:57:44.324324",
          "score": 0.3127006887681057
         },
         {
          "date": "2016-02-28T20:03:51.891892",
          "score": 0.3139738236337294
         },
         {
          "date": "2016-03-04T06:09:59.459460",
          "score": 0.315246019235779
         },
         {
          "date": "2016-03-08T16:16:07.027027",
          "score": 0.3165172717684335
         },
         {
          "date": "2016-03-13T02:22:14.594594",
          "score": 0.3177875774286981
         },
         {
          "date": "2016-03-17T12:28:22.162162",
          "score": 0.31905693241640554
         },
         {
          "date": "2016-03-21T22:34:29.729730",
          "score": 0.3203253329342422
         },
         {
          "date": "2016-03-26T08:40:37.297297",
          "score": 0.32159277518774193
         },
         {
          "date": "2016-03-30T19:46:44.864865",
          "score": 0.3228592553853036
         },
         {
          "date": "2016-04-04T05:52:52.432432",
          "score": 0.32412476973821414
         },
         {
          "date": "2016-04-08T15:59:00",
          "score": 0.32538931446063957
         },
         {
          "date": "2016-04-13T02:05:07.567568",
          "score": 0.3266528857696519
         },
         {
          "date": "2016-04-17T12:11:15.135135",
          "score": 0.3279154798852332
         },
         {
          "date": "2016-04-21T22:17:22.702703",
          "score": 0.3291770930302852
         },
         {
          "date": "2016-04-26T08:23:30.270270",
          "score": 0.3304377214306565
         },
         {
          "date": "2016-04-30T18:29:37.837838",
          "score": 0.3316973613151295
         },
         {
          "date": "2016-05-05T04:35:45.405406",
          "score": 0.33295600891544475
         },
         {
          "date": "2016-05-09T14:41:52.972973",
          "score": 0.33421366046632
         },
         {
          "date": "2016-05-14T00:48:00.540540",
          "score": 0.33547031220544515
         },
         {
          "date": "2016-05-18T10:54:08.108108",
          "score": 0.33672596037350233
         },
         {
          "date": "2016-05-22T21:00:15.675676",
          "score": 0.3379806012141733
         },
         {
          "date": "2016-05-27T07:06:23.243243",
          "score": 0.33923423097416217
         },
         {
          "date": "2016-05-31T17:12:30.810811",
          "score": 0.34048684590319034
         },
         {
          "date": "2016-06-05T03:18:38.378378",
          "score": 0.34173844225401284
         },
         {
          "date": "2016-06-09T13:24:45.945946",
          "score": 0.3429890162824422
         },
         {
          "date": "2016-06-13T23:30:53.513514",
          "score": 0.34423856424733906
         },
         {
          "date": "2016-06-18T09:37:01.081081",
          "score": 0.34548708241063864
         },
         {
          "date": "2016-06-22T19:43:08.648649",
          "score": 0.3467345670373543
         },
         {
          "date": "2016-06-27T05:49:16.216216",
          "score": 0.34798101439559115
         },
         {
          "date": "2016-07-01T15:55:23.783784",
          "score": 0.34922642075656274
         },
         {
          "date": "2016-07-06T02:01:31.351351",
          "score": 0.3504707823945883
         },
         {
          "date": "2016-07-10T12:07:38.918919",
          "score": 0.35171409558712236
         },
         {
          "date": "2016-07-14T22:13:46.486486",
          "score": 0.3529563566147474
         },
         {
          "date": "2016-07-19T08:19:54.054054",
          "score": 0.35419756176119643
         },
         {
          "date": "2016-07-23T18:26:01.621622",
          "score": 0.35543770731336066
         },
         {
          "date": "2016-07-28T04:32:09.189189",
          "score": 0.35667678956129967
         },
         {
          "date": "2016-08-01T14:38:16.756757",
          "score": 0.3579148047982618
         },
         {
          "date": "2016-08-06T00:44:24.324324",
          "score": 0.3591517493206776
         },
         {
          "date": "2016-08-10T10:50:31.891892",
          "score": 0.36038761942818287
         },
         {
          "date": "2016-08-14T20:56:39.459460",
          "score": 0.36162241142363505
         },
         {
          "date": "2016-08-19T07:02:47.027027",
          "score": 0.36285612161310726
         },
         {
          "date": "2016-08-23T17:08:54.594594",
          "score": 0.36408874630591387
         },
         {
          "date": "2016-08-28T03:15:02.162162",
          "score": 0.3653202818146116
         },
         {
          "date": "2016-09-01T13:21:09.729730",
          "score": 0.3665507244550252
         },
         {
          "date": "2016-09-05T23:27:17.297297",
          "score": 0.3677800705462408
         },
         {
          "date": "2016-09-10T09:33:24.864865",
          "score": 0.36900831641062304
         },
         {
          "date": "2016-09-14T19:39:32.432432",
          "score": 0.37023545837383837
         },
         {
          "date": "2016-09-19T05:45:40",
          "score": 0.37146149276484514
         },
         {
          "date": "2016-09-23T15:51:47.567568",
          "score": 0.3726864159159203
         },
         {
          "date": "2016-09-28T01:57:55.135135",
          "score": 0.37391022416266306
         },
         {
          "date": "2016-10-02T12:04:02.702703",
          "score": 0.37513291384400504
         },
         {
          "date": "2016-10-06T22:10:10.270270",
          "score": 0.37635448130223503
         },
         {
          "date": "2016-10-11T08:16:17.837838",
          "score": 0.37757492288298805
         },
         {
          "date": "2016-10-15T18:22:25.405406",
          "score": 0.3787942349352668
         },
         {
          "date": "2016-10-20T04:28:32.972973",
          "score": 0.38001241381146467
         },
         {
          "date": "2016-10-24T14:34:40.540540",
          "score": 0.38122945586735363
         },
         {
          "date": "2016-10-29T00:40:48.108108",
          "score": 0.38244535746211006
         },
         {
          "date": "2016-11-02T09:46:55.675676",
          "score": 0.383660114958319
         },
         {
          "date": "2016-11-06T19:53:03.243243",
          "score": 0.38487372472199755
         },
         {
          "date": "2016-11-11T05:59:10.810811",
          "score": 0.38608618312258697
         },
         {
          "date": "2016-11-15T16:05:18.378378",
          "score": 0.387297486532973
         },
         {
          "date": "2016-11-20T02:11:25.945946",
          "score": 0.3885076313295055
         },
         {
          "date": "2016-11-24T12:17:33.513514",
          "score": 0.3897166138919913
         },
         {
          "date": "2016-11-28T22:23:41.081081",
          "score": 0.3909244306037171
         },
         {
          "date": "2016-12-03T08:29:48.648649",
          "score": 0.39213107785145757
         },
         {
          "date": "2016-12-07T18:35:56.216216",
          "score": 0.3933365520254823
         },
         {
          "date": "2016-12-12T04:42:03.783784",
          "score": 0.3945408495195798
         },
         {
          "date": "2016-12-16T14:48:11.351351",
          "score": 0.3957439667310463
         },
         {
          "date": "2016-12-21T00:54:18.918919",
          "score": 0.3969459000607208
         },
         {
          "date": "2016-12-25T11:00:26.486486",
          "score": 0.39814664591297527
         },
         {
          "date": "2016-12-29T21:06:34.054054",
          "score": 0.39934620069573684
         },
         {
          "date": "2017-01-03T07:12:41.621622",
          "score": 0.4005445608204957
         },
         {
          "date": "2017-01-07T17:18:49.189189",
          "score": 0.40174172270231306
         },
         {
          "date": "2017-01-12T03:24:56.756757",
          "score": 0.4029376827598437
         },
         {
          "date": "2017-01-16T13:31:04.324324",
          "score": 0.40413243741532856
         },
         {
          "date": "2017-01-20T23:37:11.891892",
          "score": 0.4053259830946147
         },
         {
          "date": "2017-01-25T09:43:19.459460",
          "score": 0.4065183162271748
         },
         {
          "date": "2017-01-29T19:49:27.027027",
          "score": 0.4077094332461001
         },
         {
          "date": "2017-02-03T05:55:34.594594",
          "score": 0.4088993305881226
         },
         {
          "date": "2017-02-07T16:01:42.162162",
          "score": 0.4100880046936203
         },
         {
          "date": "2017-02-12T02:07:49.729730",
          "score": 0.4112754520066393
         },
         {
          "date": "2017-02-16T12:13:57.297297",
          "score": 0.4124616689748867
         },
         {
          "date": "2017-02-20T22:20:04.864865",
          "score": 0.41364665204975054
         },
         {
          "date": "2017-02-25T08:26:12.432432",
          "score": 0.4148303976863188
         },
         {
          "date": "2017-03-01T18:32:20",
          "score": 0.4160129023433723
         },
         {
          "date": "2017-03-06T04:38:27.567568",
          "score": 0.4171941624834074
         },
         {
          "date": "2017-03-10T14:44:35.135135",
          "score": 0.4183741745726435
         },
         {
          "date": "2017-03-15T00:50:42.702703",
          "score": 0.4195529350810305
         },
         {
          "date": "2017-03-19T10:56:50.270270",
          "score": 0.42073044048227143
         },
         {
          "date": "2017-03-23T21:02:57.837838",
          "score": 0.4219066872538151
         },
         {
          "date": "2017-03-28T08:09:05.405406",
          "score": 0.4230816718768756
         },
         {
          "date": "2017-04-01T18:15:12.972973",
          "score": 0.42425539083645153
         },
         {
          "date": "2017-04-06T04:21:20.540540",
          "score": 0.4254278406213191
         },
         {
          "date": "2017-04-10T14:27:28.108108",
          "score": 0.42659901772405395
         },
         {
          "date": "2017-04-15T00:33:35.675676",
          "score": 0.4277689186410365
         },
         {
          "date": "2017-04-19T10:39:43.243243",
          "score": 0.4289375398724732
         },
         {
          "date": "2017-04-23T20:45:50.810811",
          "score": 0.4301048779223904
         },
         {
          "date": "2017-04-28T06:51:58.378378",
          "score": 0.43127092929865285
         },
         {
          "date": "2017-05-02T16:58:05.945946",
          "score": 0.4324356905129832
         },
         {
          "date": "2017-05-07T03:04:13.513514",
          "score": 0.4335991580809551
         },
         {
          "date": "2017-05-11T13:10:21.081081",
          "score": 0.43476132852201504
         },
         {
          "date": "2017-05-15T23:16:28.648649",
          "score": 0.43592219835948964
         },
         {
          "date": "2017-05-20T09:22:36.216216",
          "score": 0.43708176412059385
         },
         {
          "date": "2017-05-24T19:28:43.783784",
          "score": 0.4382400223364522
         },
         {
          "date": "2017-05-29T05:34:51.351351",
          "score": 0.43939696954208934
         },
         {
          "date": "2017-06-02T15:40:58.918919",
          "score": 0.44055260227646337
         },
         {
          "date": "2017-06-07T01:47:06.486486",
          "score": 0.44170691708245585
         },
         {
          "date": "2017-06-11T11:53:14.054054",
          "score": 0.4428599105068944
         },
         {
          "date": "2017-06-15T21:59:21.621622",
          "score": 0.4440115791005589
         },
         {
          "date": "2017-06-20T08:05:29.189189",
          "score": 0.44516191941819006
         },
         {
          "date": "2017-06-24T18:11:36.756757",
          "score": 0.44631092801851063
         },
         {
          "date": "2017-06-29T04:17:44.324324",
          "score": 0.44745860146421884
         },
         {
          "date": "2017-07-03T14:23:51.891892",
          "score": 0.44860493632200676
         },
         {
          "date": "2017-07-08T00:29:59.459460",
          "score": 0.4497499291625797
         },
         {
          "date": "2017-07-12T10:36:07.027027",
          "score": 0.4508935765606491
         },
         {
          "date": "2017-07-16T20:42:14.594594",
          "score": 0.452035875094954
         },
         {
          "date": "2017-07-21T06:48:22.162162",
          "score": 0.453176821348266
         },
         {
          "date": "2017-07-25T16:54:29.729730",
          "score": 0.45431641190741046
         },
         {
          "date": "2017-07-30T03:00:37.297297",
          "score": 0.4554546433632599
         },
         {
          "date": "2017-08-03T13:06:44.864865",
          "score": 0.4565915123107526
         },
         {
          "date": "2017-08-07T23:12:52.432432",
          "score": 0.4577270153489114
         },
         {
          "date": "2017-08-12T09:19:00",
          "score": 0.45886114908083675
         },
         {
          "date": "2017-08-16T19:25:07.567568",
          "score": 0.4599939101137283
         },
         {
          "date": "2017-08-21T05:31:15.135135",
          "score": 0.46112529505889205
         },
         {
          "date": "2017-08-25T15:37:22.702703",
          "score": 0.46225530053174807
         },
         {
          "date": "2017-08-30T01:43:30.270270",
          "score": 0.46338392315185134
         },
         {
          "date": "2017-09-03T11:49:37.837838",
          "score": 0.4645111595428853
         },
         {
          "date": "2017-09-07T21:55:45.405406",
          "score": 0.46563700633268057
         },
         {
          "date": "2017-09-12T08:01:52.972973",
          "score": 0.46676146015323283
         },
         {
          "date": "2017-09-16T18:08:00.540540",
          "score": 0.46788451764069694
         },
         {
          "date": "2017-09-21T04:14:08.108108",
          "score": 0.4690061754354074
         },
         {
          "date": "2017-09-25T14:20:15.675676",
          "score": 0.47012643018188316
         },
         {
          "date": "2017-09-30T00:26:23.243243",
          "score": 0.471245278528849
         },
         {
          "date": "2017-10-04T10:32:30.810811",
          "score": 0.4723627171292285
         },
         {
          "date": "2017-10-08T20:38:38.378378",
          "score": 0.4734787426401625
         },
         {
          "date": "2017-10-13T06:44:45.945946",
          "score": 0.47459335172302763
         },
         {
          "date": "2017-10-17T16:50:53.513514",
          "score": 0.47570654104342935
         },
         {
          "date": "2017-10-22T02:57:01.081081",
          "score": 0.47681830727122326
         },
         {
          "date": "2017-10-26T13:03:08.648649",
          "score": 0.4779286470805222
         },
         {
          "date": "2017-10-30T22:09:16.216216",
          "score": 0.4790375571497032
         },
         {
          "date": "2017-11-04T08:15:23.783784",
          "score": 0.48014503416142895
         },
         {
          "date": "2017-11-08T18:21:31.351351",
          "score": 0.4812510748026382
         },
         {
          "date": "2017-11-13T04:27:38.918919",
          "score": 0.48235567576457744
         },
         {
          "date": "2017-11-17T14:33:46.486486",
          "score": 0.48345883374279186
         },
         {
          "date": "2017-11-22T00:39:54.054054",
          "score": 0.4845605454371461
         },
         {
          "date": "2017-11-26T10:46:01.621622",
          "score": 0.48566080755183144
         },
         {
          "date": "2017-11-30T20:52:09.189189",
          "score": 0.48675961679537294
         },
         {
          "date": "2017-12-05T06:58:16.756757",
          "score": 0.48785696988065
         },
         {
          "date": "2017-12-09T17:04:24.324324",
          "score": 0.4889528635248902
         },
         {
          "date": "2017-12-14T03:10:31.891892",
          "score": 0.490047294449687
         },
         {
          "date": "2017-12-18T13:16:39.459460",
          "score": 0.49114025938101774
         },
         {
          "date": "2017-12-22T23:22:47.027027",
          "score": 0.4922317550492372
         },
         {
          "date": "2017-12-27T09:28:54.594594",
          "score": 0.4933217781890984
         },
         {
          "date": "2017-12-31T19:35:02.162162",
          "score": 0.4944103255397564
         },
         {
          "date": "2018-01-05T05:41:09.729730",
          "score": 0.4954973938447897
         },
         {
          "date": "2018-01-09T15:47:17.297297",
          "score": 0.49658297985219296
         },
         {
          "date": "2018-01-14T01:53:24.864865",
          "score": 0.49766708031439527
         },
         {
          "date": "2018-01-18T11:59:32.432432",
          "score": 0.498749691988278
         },
         {
          "date": "2018-01-22T22:05:40",
          "score": 0.499830811635168
         },
         {
          "date": "2018-01-27T08:11:47.567568",
          "score": 0.5009104360208585
         },
         {
          "date": "2018-01-31T18:17:55.135135",
          "score": 0.5019885619156157
         },
         {
          "date": "2018-02-05T04:24:02.702703",
          "score": 0.5030651860941858
         },
         {
          "date": "2018-02-09T14:30:10.270270",
          "score": 0.5041403053358158
         },
         {
          "date": "2018-02-14T00:36:17.837838",
          "score": 0.5052139164242464
         },
         {
          "date": "2018-02-18T10:42:25.405406",
          "score": 0.5062860161477301
         },
         {
          "date": "2018-02-22T20:48:32.972973",
          "score": 0.5073566012990489
         },
         {
          "date": "2018-02-27T06:54:40.540540",
          "score": 0.5084256686755075
         },
         {
          "date": "2018-03-03T17:00:48.108108",
          "score": 0.5094932150789538
         },
         {
          "date": "2018-03-08T03:06:55.675676",
          "score": 0.510559237315783
         },
         {
          "date": "2018-03-12T13:13:03.243243",
          "score": 0.5116237321969579
         },
         {
          "date": "2018-03-16T23:19:10.810811",
          "score": 0.5126866965380027
         },
         {
          "date": "2018-03-21T09:25:18.378378",
          "score": 0.5137481271590199
         },
         {
          "date": "2018-03-25T20:31:25.945946",
          "score": 0.5148080208847083
         },
         {
          "date": "2018-03-30T06:37:33.513514",
          "score": 0.5158663745443566
         },
         {
          "date": "2018-04-03T16:43:41.081081",
          "score": 0.516923184971863
         },
         {
          "date": "2018-04-08T02:49:48.648649",
          "score": 0.5179784490057424
         },
         {
          "date": "2018-04-12T12:55:56.216216",
          "score": 0.5190321634891334
         },
         {
          "date": "2018-04-16T23:02:03.783784",
          "score": 0.5200843252698176
         },
         {
          "date": "2018-04-21T09:08:11.351351",
          "score": 0.5211349312002117
         },
         {
          "date": "2018-04-25T19:14:18.918919",
          "score": 0.5221839781373967
         },
         {
          "date": "2018-04-30T05:20:26.486486",
          "score": 0.5232314629431096
         },
         {
          "date": "2018-05-04T15:26:34.054054",
          "score": 0.5242773824837633
         },
         {
          "date": "2018-05-09T01:32:41.621622",
          "score": 0.5253217336304534
         },
         {
          "date": "2018-05-13T11:38:49.189189",
          "score": 0.5263645132589646
         },
         {
          "date": "2018-05-17T21:44:56.756757",
          "score": 0.5274057182497905
         },
         {
          "date": "2018-05-22T07:51:04.324324",
          "score": 0.5284453454881278
         },
         {
          "date": "2018-05-26T17:57:11.891892",
          "score": 0.5294833918638933
         },
         {
          "date": "2018-05-31T04:03:19.459460",
          "score": 0.5305198542717399
         },
         {
          "date": "2018-06-04T14:09:27.027027",
          "score": 0.5315547296110521
         },
         {
          "date": "2018-06-09T00:15:34.594594",
          "score": 0.5325880147859644
         },
         {
          "date": "2018-06-13T10:21:42.162162",
          "score": 0.5336197067053658
         },
         {
          "date": "2018-06-17T20:27:49.729730",
          "score": 0.5346498022829194
         },
         {
          "date": "2018-06-22T06:33:57.297297",
          "score": 0.5356782984370558
         },
         {
          "date": "2018-06-26T16:40:04.864865",
          "score": 0.5367051920909909
         },
         {
          "date": "2018-07-01T02:46:12.432432",
          "score": 0.5377304801727414
         },
         {
          "date": "2018-07-05T12:52:20",
          "score": 0.5387541596151202
         },
         {
          "date": "2018-07-09T22:58:27.567568",
          "score": 0.5397762273557547
         },
         {
          "date": "2018-07-14T09:04:35.135135",
          "score": 0.5407966803370936
         },
         {
          "date": "2018-07-18T19:10:42.702703",
          "score": 0.5418155155064144
         },
         {
          "date": "2018-07-23T05:16:50.270270",
          "score": 0.542832729815841
         },
         {
          "date": "2018-07-27T15:22:57.837838",
          "score": 0.5438483202223391
         },
         {
          "date": "2018-08-01T01:29:05.405406",
          "score": 0.5448622836877325
         },
         {
          "date": "2018-08-05T11:35:12.972973",
          "score": 0.545874617178719
         },
         {
          "date": "2018-08-09T21:41:20.540540",
          "score": 0.5468853176668657
         },
         {
          "date": "2018-08-14T07:47:28.108108",
          "score": 0.5478943821286268
         },
         {
          "date": "2018-08-18T17:53:35.675676",
          "score": 0.5489018075453487
         },
         {
          "date": "2018-08-23T03:59:43.243243",
          "score": 0.5499075909032881
         },
         {
          "date": "2018-08-27T14:05:50.810811",
          "score": 0.5509117291936069
         },
         {
          "date": "2018-09-01T00:11:58.378378",
          "score": 0.551914219412388
         },
         {
          "date": "2018-09-05T10:18:05.945946",
          "score": 0.5529150585606523
         },
         {
          "date": "2018-09-09T20:24:13.513514",
          "score": 0.5539142436443522
         },
         {
          "date": "2018-09-14T06:30:21.081081",
          "score": 0.5549117716743908
         },
         {
          "date": "2018-09-18T16:36:28.648649",
          "score": 0.5559076396666286
         },
         {
          "date": "2018-09-23T02:42:36.216216",
          "score": 0.5569018446418894
         },
         {
          "date": "2018-09-27T12:48:43.783784",
          "score": 0.5578943836259794
         },
         {
          "date": "2018-10-01T22:54:51.351351",
          "score": 0.5588852536496792
         },
         {
          "date": "2018-10-06T09:00:58.918919",
          "score": 0.5598744517487713
         },
         {
          "date": "2018-10-10T19:07:06.486486",
          "score": 0.5608619749640331
         },
         {
          "date": "2018-10-15T05:13:14.054054",
          "score": 0.5618478203412547
         },
         {
          "date": "2018-10-19T15:19:21.621622",
          "score": 0.5628319849312453
         },
         {
          "date": "2018-10-24T01:25:29.189189",
          "score": 0.5638144657898401
         },
         {
          "date": "2018-10-28T10:31:36.756757",
          "score": 0.5647952599779182
         },
         {
          "date": "2018-11-01T20:37:44.324324",
          "score": 0.5657743645613978
         },
         {
          "date": "2018-11-06T06:43:51.891892",
          "score": 0.5667517766112508
         },
         {
          "date": "2018-11-10T16:49:59.459460",
          "score": 0.56772749320352
         },
         {
          "date": "2018-11-15T02:56:07.027027",
          "score": 0.5687015114193134
         },
         {
          "date": "2018-11-19T13:02:14.594594",
          "score": 0.5696738283448212
         },
         {
          "date": "2018-11-23T23:08:22.162162",
          "score": 0.5706444410713214
         },
         {
          "date": "2018-11-28T09:14:29.729730",
          "score": 0.5716133466951975
         },
         {
          "date": "2018-12-02T19:20:37.297297",
          "score": 0.5725805423179319
         },
         {
          "date": "2018-12-07T05:26:44.864865",
          "score": 0.5735460250461231
         },
         {
          "date": "2018-12-11T15:32:52.432432",
          "score": 0.574509791991501
         },
         {
          "date": "2018-12-16T01:39:00",
          "score": 0.5754718402709208
         },
         {
          "date": "2018-12-20T11:45:07.567568",
          "score": 0.5764321670063818
         },
         {
          "date": "2018-12-24T21:51:15.135135",
          "score": 0.5773907693250333
         },
         {
          "date": "2018-12-29T07:57:22.702703",
          "score": 0.5783476443591807
         },
         {
          "date": "2019-01-02T18:03:30.270270",
          "score": 0.5793027892463042
         },
         {
          "date": "2019-01-07T04:09:37.837838",
          "score": 0.5802562011290522
         },
         {
          "date": "2019-01-11T14:15:45.405406",
          "score": 0.5812078771552577
         },
         {
          "date": "2019-01-16T00:21:52.972973",
          "score": 0.5821578144779535
         },
         {
          "date": "2019-01-20T10:28:00.540540",
          "score": 0.5831060102553669
         },
         {
          "date": "2019-01-24T20:34:08.108108",
          "score": 0.5840524616509373
         },
         {
          "date": "2019-01-29T06:40:15.675676",
          "score": 0.5849971658333203
         },
         {
          "date": "2019-02-02T16:46:23.243243",
          "score": 0.5859401199764052
         },
         {
          "date": "2019-02-07T02:52:30.810811",
          "score": 0.5868813212593097
         },
         {
          "date": "2019-02-11T12:58:38.378378",
          "score": 0.5878207668663951
         },
         {
          "date": "2019-02-15T23:04:45.945946",
          "score": 0.5887584539872821
         },
         {
          "date": "2019-02-20T09:10:53.513514",
          "score": 0.5896943798168447
         },
         {
          "date": "2019-02-24T19:17:01.081081",
          "score": 0.5906285415552286
         },
         {
          "date": "2019-03-01T05:23:08.648649",
          "score": 0.5915609364078562
         },
         {
          "date": "2019-03-05T15:29:16.216216",
          "score": 0.5924915615854338
         },
         {
          "date": "2019-03-10T01:35:23.783784",
          "score": 0.5934204143039687
         },
         {
          "date": "2019-03-14T11:41:31.351351",
          "score": 0.5943474917847611
         },
         {
          "date": "2019-03-18T21:47:38.918919",
          "score": 0.5952727912544313
         },
         {
          "date": "2019-03-23T07:53:46.486486",
          "score": 0.5961963099449112
         },
         {
          "date": "2019-03-27T17:59:54.054054",
          "score": 0.597118045093463
         },
         {
          "date": "2019-04-01T05:06:01.621622",
          "score": 0.5980379939426838
         },
         {
          "date": "2019-04-05T15:12:09.189189",
          "score": 0.5989561537405125
         },
         {
          "date": "2019-04-10T01:18:16.756757",
          "score": 0.599872521740247
         },
         {
          "date": "2019-04-14T11:24:24.324324",
          "score": 0.6007870952005382
         },
         {
          "date": "2019-04-18T21:30:31.891892",
          "score": 0.6016998713854056
         },
         {
          "date": "2019-04-23T07:36:39.459460",
          "score": 0.6026108475642522
         },
         {
          "date": "2019-04-27T17:42:47.027027",
          "score": 0.6035200210118589
         },
         {
          "date": "2019-05-02T03:48:54.594594",
          "score": 0.6044273890084018
         },
         {
          "date": "2019-05-06T13:55:02.162162",
          "score": 0.6053329488394558
         },
         {
          "date": "2019-05-11T00:01:09.729730",
          "score": 0.6062366977960119
         },
         {
          "date": "2019-05-15T10:07:17.297297",
          "score": 0.6071386331744715
         },
         {
          "date": "2019-05-19T20:13:24.864865",
          "score": 0.6080387522766612
         },
         {
          "date": "2019-05-24T06:19:32.432432",
          "score": 0.6089370524098482
         },
         {
          "date": "2019-05-28T16:25:40",
          "score": 0.6098335308867342
         },
         {
          "date": "2019-06-02T02:31:47.567568",
          "score": 0.6107281850254728
         },
         {
          "date": "2019-06-06T12:37:55.135135",
          "score": 0.611621012149675
         },
         {
          "date": "2019-06-10T22:44:02.702703",
          "score": 0.6125120095884156
         },
         {
          "date": "2019-06-15T08:50:10.270270",
          "score": 0.613401174676249
         },
         {
          "date": "2019-06-19T18:56:17.837838",
          "score": 0.6142885047532048
         },
         {
          "date": "2019-06-24T05:02:25.405406",
          "score": 0.6151739971648023
         },
         {
          "date": "2019-06-28T15:08:32.972973",
          "score": 0.6160576492620645
         },
         {
          "date": "2019-07-03T01:14:40.540540",
          "score": 0.6169394584015135
         },
         {
          "date": "2019-07-07T11:20:48.108108",
          "score": 0.6178194219451866
         },
         {
          "date": "2019-07-11T21:26:55.675676",
          "score": 0.61869753726064
         },
         {
          "date": "2019-07-16T07:33:03.243243",
          "score": 0.619573801720966
         },
         {
          "date": "2019-07-20T17:39:10.810811",
          "score": 0.6204482127047866
         },
         {
          "date": "2019-07-25T03:45:18.378378",
          "score": 0.621320767596269
         },
         {
          "date": "2019-07-29T13:51:25.945946",
          "score": 0.6221914637851393
         },
         {
          "date": "2019-08-02T23:57:33.513514",
          "score": 0.6230602986666776
         },
         {
          "date": "2019-08-07T10:03:41.081081",
          "score": 0.623927269641734
         },
         {
          "date": "2019-08-11T20:09:48.648649",
          "score": 0.6247923741167352
         },
         {
          "date": "2019-08-16T06:15:56.216216",
          "score": 0.6256556095036885
         },
         {
          "date": "2019-08-20T16:22:03.783784",
          "score": 0.6265169732202001
         },
         {
          "date": "2019-08-25T02:28:11.351351",
          "score": 0.6273764626894658
         },
         {
          "date": "2019-08-29T12:34:18.918919",
          "score": 0.6282340753402975
         },
         {
          "date": "2019-09-02T22:40:26.486486",
          "score": 0.6290898086071155
         },
         {
          "date": "2019-09-07T08:46:34.054054",
          "score": 0.6299436599299637
         },
         {
          "date": "2019-09-11T18:52:41.621622",
          "score": 0.6307956267545163
         },
         {
          "date": "2019-09-16T04:58:49.189189",
          "score": 0.6316457065320827
         },
         {
          "date": "2019-09-20T15:04:56.756757",
          "score": 0.6324938967196245
         },
         {
          "date": "2019-09-25T01:11:04.324324",
          "score": 0.6333401947797488
         },
         {
          "date": "2019-09-29T11:17:11.891892",
          "score": 0.6341845981807237
         },
         {
          "date": "2019-10-03T21:23:19.459460",
          "score": 0.6350271043964913
         },
         {
          "date": "2019-10-08T07:29:27.027027",
          "score": 0.635867710906663
         },
         {
          "date": "2019-10-12T17:35:34.594594",
          "score": 0.6367064151965355
         },
         {
          "date": "2019-10-17T03:41:42.162162",
          "score": 0.6375432147570932
         },
         {
          "date": "2019-10-21T13:47:49.729730",
          "score": 0.6383781070850258
         },
         {
          "date": "2019-10-25T23:53:57.297297",
          "score": 0.639211089682722
         },
         {
          "date": "2019-10-30T09:00:04.864865",
          "score": 0.640042160058283
         },
         {
          "date": "2019-11-03T19:06:12.432432",
          "score": 0.6408713157255372
         },
         {
          "date": "2019-11-08T05:12:20",
          "score": 0.6416985542040349
         },
         {
          "date": "2019-11-12T15:18:27.567568",
          "score": 0.6425238730190632
         },
         {
          "date": "2019-11-17T01:24:35.135135",
          "score": 0.6433472697016525
         },
         {
          "date": "2019-11-21T11:30:42.702703",
          "score": 0.6441687417885807
         },
         {
          "date": "2019-11-25T21:36:50.270270",
          "score": 0.6449882868223902
         },
         {
          "date": "2019-11-30T07:42:57.837838",
          "score": 0.6458059023513809
         },
         {
          "date": "2019-12-04T17:49:05.405406",
          "score": 0.646621585929626
         },
         {
          "date": "2019-12-09T03:55:12.972973",
          "score": 0.6474353351169839
         },
         {
          "date": "2019-12-13T14:01:20.540540",
          "score": 0.6482471474790934
         },
         {
          "date": "2019-12-18T00:07:28.108108",
          "score": 0.64905702058739
         },
         {
          "date": "2019-12-22T10:13:35.675676",
          "score": 0.649864952019108
         },
         {
          "date": "2019-12-26T20:19:43.243243",
          "score": 0.6506709393572966
         },
         {
          "date": "2019-12-31T06:25:50.810811",
          "score": 0.6514749801908146
         },
         {
          "date": "2020-01-04T16:31:58.378378",
          "score": 0.6522770721143442
         },
         {
          "date": "2020-01-09T02:38:05.945946",
          "score": 0.6530772127284034
         },
         {
          "date": "2020-01-13T12:44:13.513514",
          "score": 0.6538753996393418
         },
         {
          "date": "2020-01-17T22:50:21.081081",
          "score": 0.654671630459356
         },
         {
          "date": "2020-01-22T08:56:28.648649",
          "score": 0.6554659028064933
         },
         {
          "date": "2020-01-26T19:02:36.216216",
          "score": 0.6562582143046589
         },
         {
          "date": "2020-01-31T05:08:43.783784",
          "score": 0.6570485625836293
         },
         {
          "date": "2020-02-04T15:14:51.351351",
          "score": 0.6578369452790462
         },
         {
          "date": "2020-02-09T01:20:58.918919",
          "score": 0.6586233600324396
         },
         {
          "date": "2020-02-13T11:27:06.486486",
          "score": 0.6594078044912202
         },
         {
          "date": "2020-02-17T21:33:14.054054",
          "score": 0.6601902763086955
         },
         {
          "date": "2020-02-22T07:39:21.621622",
          "score": 0.6609707731440737
         },
         {
          "date": "2020-02-26T17:45:29.189189",
          "score": 0.6617492926624698
         },
         {
          "date": "2020-03-02T03:51:36.756757",
          "score": 0.6625258325349194
         },
         {
          "date": "2020-03-06T13:57:44.324324",
          "score": 0.6633003904383745
         },
         {
          "date": "2020-03-11T00:03:51.891892",
          "score": 0.6640729640557166
         },
         {
          "date": "2020-03-15T10:09:59.459460",
          "score": 0.6648435510757686
         },
         {
          "date": "2020-03-19T20:16:07.027027",
          "score": 0.6656121491932909
         },
         {
          "date": "2020-03-24T06:22:14.594594",
          "score": 0.6663787561089956
         },
         {
          "date": "2020-03-28T16:28:22.162162",
          "score": 0.6671433695295494
         },
         {
          "date": "2020-04-02T03:34:29.729730",
          "score": 0.6679059871675889
         },
         {
          "date": "2020-04-06T13:40:37.297297",
          "score": 0.6686666067417149
         },
         {
          "date": "2020-04-10T23:46:44.864865",
          "score": 0.6694252259765057
         },
         {
          "date": "2020-04-15T09:52:52.432432",
          "score": 0.6701818426025293
         },
         {
          "date": "2020-04-19T19:59:00",
          "score": 0.6709364543563391
         },
         {
          "date": "2020-04-24T06:05:07.567568",
          "score": 0.6716890589804877
         },
         {
          "date": "2020-04-28T16:11:15.135135",
          "score": 0.6724396542235325
         },
         {
          "date": "2020-05-03T02:17:22.702703",
          "score": 0.6734240930896958
         },
         {
          "date": "2020-05-07T12:23:30.270270",
          "score": 0.675121938984744
         },
         {
          "date": "2020-05-11T22:29:37.837838",
          "score": 0.6768177419234531
         },
         {
          "date": "2020-05-16T08:35:45.405406",
          "score": 0.6785114781579256
         },
         {
          "date": "2020-05-20T18:41:52.972973",
          "score": 0.6802031239474097
         },
         {
          "date": "2020-05-25T04:48:00.540540",
          "score": 0.6818926555587663
         },
         {
          "date": "2020-05-29T14:54:08.108108",
          "score": 0.6835800492669801
         },
         {
          "date": "2020-06-03T01:00:15.675676",
          "score": 0.6852652813556437
         },
         {
          "date": "2020-06-07T11:06:23.243243",
          "score": 0.686948328117469
         },
         {
          "date": "2020-06-11T21:12:30.810811",
          "score": 0.6886291658547543
         },
         {
          "date": "2020-06-16T07:18:38.378378",
          "score": 0.6903077708798895
         },
         {
          "date": "2020-06-20T17:24:45.945946",
          "score": 0.6919841195158631
         },
         {
          "date": "2020-06-25T03:30:53.513514",
          "score": 0.6936581880967292
         },
         {
          "date": "2020-06-29T13:37:01.081081",
          "score": 0.6953299529681161
         },
         {
          "date": "2020-07-03T23:43:08.648649",
          "score": 0.6969993904877165
         },
         {
          "date": "2020-07-08T09:49:16.216216",
          "score": 0.6986664770257747
         },
         {
          "date": "2020-07-12T19:55:23.783784",
          "score": 0.7003311889655954
         },
         {
          "date": "2020-07-17T06:01:31.351351",
          "score": 0.7019935027040073
         },
         {
          "date": "2020-07-21T16:07:38.918919",
          "score": 0.7036533946518881
         },
         {
          "date": "2020-07-26T02:13:46.486486",
          "score": 0.7053108412346268
         },
         {
          "date": "2020-07-30T12:19:54.054054",
          "score": 0.7069658188926324
         },
         {
          "date": "2020-08-03T22:26:01.621622",
          "score": 0.7086183040818206
         },
         {
          "date": "2020-08-08T08:32:09.189189",
          "score": 0.7102682732741004
         },
         {
          "date": "2020-08-12T18:38:16.756757",
          "score": 0.7119157029578829
         },
         {
          "date": "2020-08-17T04:44:24.324324",
          "score": 0.7135605696385452
         },
         {
          "date": "2020-08-21T14:50:31.891892",
          "score": 0.7152028498389351
         },
         {
          "date": "2020-08-26T00:56:39.459460",
          "score": 0.7168425200998718
         },
         {
          "date": "2020-08-30T11:02:47.027027",
          "score": 0.7184795569806115
         },
         {
          "date": "2020-09-03T21:08:54.594594",
          "score": 0.7201139370593537
         },
         {
          "date": "2020-09-08T07:15:02.162162",
          "score": 0.7217456369337216
         },
         {
          "date": "2020-09-12T17:21:09.729730",
          "score": 0.7233746332212683
         },
         {
          "date": "2020-09-17T03:27:17.297297",
          "score": 0.7250009025599392
         },
         {
          "date": "2020-09-21T13:33:24.864865",
          "score": 0.726624421608574
         },
         {
          "date": "2020-09-25T23:39:32.432432",
          "score": 0.7282451670474055
         },
         {
          "date": "2020-09-30T09:45:40",
          "score": 0.7298631155785233
         },
         {
          "date": "2020-10-04T19:51:47.567568",
          "score": 0.7314782439263774
         },
         {
          "date": "2020-10-09T05:57:55.135135",
          "score": 0.7330905288382601
         },
         {
          "date": "2020-10-13T16:04:02.702703",
          "score": 0.7346999470847886
         },
         {
          "date": "2020-10-18T02:10:10.270270",
          "score": 0.7363064754604074
         },
         {
          "date": "2020-10-22T12:16:17.837838",
          "score": 0.7379100907838447
         },
         {
          "date": "2020-10-26T21:22:25.405406",
          "score": 0.739510769898631
         },
         {
          "date": "2020-10-31T07:28:32.972973",
          "score": 0.7411084896735538
         },
         {
          "date": "2020-11-04T17:34:40.540540",
          "score": 0.7427032270031598
         },
         {
          "date": "2020-11-09T03:40:48.108108",
          "score": 0.744294958808233
         },
         {
          "date": "2020-11-13T13:46:55.675676",
          "score": 0.7458836620362747
         },
         {
          "date": "2020-11-17T23:53:03.243243",
          "score": 0.7474693136620023
         },
         {
          "date": "2020-11-22T09:59:10.810811",
          "score": 0.749051890687807
         },
         {
          "date": "2020-11-26T20:05:18.378378",
          "score": 0.7506313701442484
         },
         {
          "date": "2020-12-01T06:11:25.945946",
          "score": 0.7522077290905478
         },
         {
          "date": "2020-12-05T16:17:33.513514",
          "score": 0.753780944615043
         },
         {
          "date": "2020-12-10T02:23:41.081081",
          "score": 0.755350993835687
         },
         {
          "date": "2020-12-14T12:29:48.648649",
          "score": 0.7569178539005228
         },
         {
          "date": "2020-12-18T22:35:56.216216",
          "score": 0.7584815019881576
         },
         {
          "date": "2020-12-23T08:42:03.783784",
          "score": 0.7600419153082583
         },
         {
          "date": "2020-12-27T18:48:11.351351",
          "score": 0.7615990711020012
         },
         {
          "date": "2021-01-01T04:54:18.918919",
          "score": 0.7631529466425813
         },
         {
          "date": "2021-01-05T15:00:26.486486",
          "score": 0.7647035192356614
         },
         {
          "date": "2021-01-10T01:06:34.054054",
          "score": 0.7662507662198631
         },
         {
          "date": "2021-01-14T11:12:41.621622",
          "score": 0.76779466496724
         },
         {
          "date": "2021-01-18T21:18:49.189189",
          "score": 0.7693351928837482
         },
         {
          "date": "2021-01-23T07:24:56.756757",
          "score": 0.7708723274097344
         },
         {
          "date": "2021-01-27T17:31:04.324324",
          "score": 0.7724060460203884
         },
         {
          "date": "2021-02-01T03:37:11.891892",
          "score": 0.7739363262262274
         },
         {
          "date": "2021-02-05T13:43:19.459460",
          "score": 0.7754631455735784
         },
         {
          "date": "2021-02-09T23:49:27.027027",
          "score": 0.776986481645028
         },
         {
          "date": "2021-02-14T09:55:34.594594",
          "score": 0.7785063120599081
         },
         {
          "date": "2021-02-18T20:01:42.162162",
          "score": 0.7800226144747626
         },
         {
          "date": "2021-02-23T06:07:49.729730",
          "score": 0.7815353665838128
         },
         {
          "date": "2021-02-27T16:13:57.297297",
          "score": 0.7830445461194411
         },
         {
          "date": "2021-03-04T02:20:04.864865",
          "score": 0.784550130852633
         },
         {
          "date": "2021-03-08T12:26:12.432432",
          "score": 0.7860520985934747
         },
         {
          "date": "2021-03-12T22:32:20",
          "score": 0.7875504271915923
         },
         {
          "date": "2021-03-17T08:38:27.567568",
          "score": 0.7890450945366332
         },
         {
          "date": "2021-03-21T18:44:35.135135",
          "score": 0.7905360785587274
         },
         {
          "date": "2021-03-26T04:50:42.702703",
          "score": 0.7920233572289479
         },
         {
          "date": "2021-03-30T15:56:50.270270",
          "score": 0.7935069085597888
         },
         {
          "date": "2021-04-04T02:02:57.837838",
          "score": 0.7949867106056014
         },
         {
          "date": "2021-04-08T12:09:05.405406",
          "score": 0.7964627414630868
         },
         {
          "date": "2021-04-12T22:15:12.972973",
          "score": 0.7979349792717294
         },
         {
          "date": "2021-04-17T08:21:20.540540",
          "score": 0.7994034022142731
         },
         {
          "date": "2021-04-21T18:27:28.108108",
          "score": 0.8008679885171757
         },
         {
          "date": "2021-04-26T04:33:35.675676",
          "score": 0.802328716451065
         },
         {
          "date": "2021-04-30T14:39:43.243243",
          "score": 0.8037855643312088
         },
         {
          "date": "2021-05-05T00:45:50.810811",
          "score": 0.8052385105179516
         },
         {
          "date": "2021-05-09T10:51:58.378378",
          "score": 0.8066875334171801
         },
         {
          "date": "2021-05-13T20:58:05.945946",
          "score": 0.8081326114807896
         },
         {
          "date": "2021-05-18T07:04:13.513514",
          "score": 0.8095737232071156
         },
         {
          "date": "2021-05-22T17:10:21.081081",
          "score": 0.8110108471414006
         },
         {
          "date": "2021-05-27T03:16:28.648649",
          "score": 0.8124439618762449
         },
         {
          "date": "2021-05-31T13:22:36.216216",
          "score": 0.8138730460520514
         },
         {
          "date": "2021-06-04T23:28:43.783784",
          "score": 0.8152980783574907
         },
         {
          "date": "2021-06-09T09:34:51.351351",
          "score": 0.8167190375299275
         },
         {
          "date": "2021-06-13T19:40:58.918919",
          "score": 0.818135902355894
         },
         {
          "date": "2021-06-18T05:47:06.486486",
          "score": 0.8195486516715139
         },
         {
          "date": "2021-06-22T15:53:14.054054",
          "score": 0.8209572643629637
         },
         {
          "date": "2021-06-27T01:59:21.621622",
          "score": 0.8223617193669122
         },
         {
          "date": "2021-07-01T12:05:29.189189",
          "score": 0.8237619956709633
         },
         {
          "date": "2021-07-05T22:11:36.756757",
          "score": 0.8251580723141113
         },
         {
          "date": "2021-07-10T08:17:44.324324",
          "score": 0.826549928387164
         },
         {
          "date": "2021-07-14T18:23:51.891892",
          "score": 0.8279375430331924
         },
         {
          "date": "2021-07-19T04:29:59.459460",
          "score": 0.8293208954479825
         },
         {
          "date": "2021-07-23T14:36:07.027027",
          "score": 0.830699964880453
         },
         {
          "date": "2021-07-28T00:42:14.594594",
          "score": 0.8320747306331072
         },
         {
          "date": "2021-08-01T10:48:22.162162",
          "score": 0.8334451720624663
         },
         {
          "date": "2021-08-05T20:54:29.729730",
          "score": 0.834811268579501
         },
         {
          "date": "2021-08-10T07:00:37.297297",
          "score": 0.8361729996500817
         },
         {
          "date": "2021-08-14T17:06:44.864865",
          "score": 0.8375303447953859
         },
         {
          "date": "2021-08-19T03:12:52.432432",
          "score": 0.8388832835923595
         },
         {
          "date": "2021-08-23T13:19:00",
          "score": 0.8402317956741232
         },
         {
          "date": "2021-08-27T23:25:07.567568",
          "score": 0.8415758607304172
         },
         {
          "date": "2021-09-01T09:31:15.135135",
          "score": 0.8429154585080258
         },
         {
          "date": "2021-09-05T19:37:22.702703",
          "score": 0.8442505688112028
         },
         {
          "date": "2021-09-10T05:43:30.270270",
          "score": 0.8455811715021104
         },
         {
          "date": "2021-09-14T15:49:37.837838",
          "score": 0.846907246501223
         },
         {
          "date": "2021-09-19T01:55:45.405406",
          "score": 0.8482287737877758
         },
         {
          "date": "2021-09-23T12:01:52.972973",
          "score": 0.849545733400167
         },
         {
          "date": "2021-09-27T22:08:00.540540",
          "score": 0.8508581054363914
         },
         {
          "date": "2021-10-02T08:14:08.108108",
          "score": 0.8521658700544581
         },
         {
          "date": "2021-10-06T18:20:15.675676",
          "score": 0.8534690074728075
         },
         {
          "date": "2021-10-11T04:26:23.243243",
          "score": 0.8547674979707407
         },
         {
          "date": "2021-10-15T14:32:30.810811",
          "score": 0.8560613218888189
         },
         {
          "date": "2021-10-20T00:38:38.378378",
          "score": 0.8573504596292879
         },
         {
          "date": "2021-10-24T10:44:45.945946",
          "score": 0.8586348916565016
         },
         {
          "date": "2021-10-28T20:50:53.513514",
          "score": 0.8599145984973178
         },
         {
          "date": "2021-11-02T05:57:01.081081",
          "score": 0.8611895607415202
         },
         {
          "date": "2021-11-06T16:03:08.648649",
          "score": 0.8624597590422285
         },
         {
          "date": "2021-11-11T02:09:16.216216",
          "score": 0.8637251741163023
         },
         {
          "date": "2021-11-15T12:15:23.783784",
          "score": 0.8649857867447635
         },
         {
          "date": "2021-11-19T22:21:31.351351",
          "score": 0.8662415777731791
         },
         {
          "date": "2021-11-24T08:27:38.918919",
          "score": 0.8674925281120938
         },
         {
          "date": "2021-11-28T18:33:46.486486",
          "score": 0.8687386187374097
         },
         {
          "date": "2021-12-03T04:39:54.054054",
          "score": 0.8699798306908032
         },
         {
          "date": "2021-12-07T14:46:01.621622",
          "score": 0.8712161450801227
         },
         {
          "date": "2021-12-12T00:52:09.189189",
          "score": 0.8724475430797851
         },
         {
          "date": "2021-12-16T10:58:16.756757",
          "score": 0.8736740059311865
         },
         {
          "date": "2021-12-20T21:04:24.324324",
          "score": 0.8748955149430824
         },
         {
          "date": "2021-12-25T07:10:31.891892",
          "score": 0.87611205149199
         },
         {
          "date": "2021-12-29T17:16:39.459460",
          "score": 0.8773235970225948
         },
         {
          "date": "2022-01-03T03:22:47.027027",
          "score": 0.8785301330481228
         },
         {
          "date": "2022-01-07T13:28:54.594594",
          "score": 0.8797316411507454
         },
         {
          "date": "2022-01-11T23:35:02.162162",
          "score": 0.8809281029819667
         },
         {
          "date": "2022-01-16T09:41:09.729730",
          "score": 0.8821195002630078
         },
         {
          "date": "2022-01-20T19:47:17.297297",
          "score": 0.8833058147852082
         },
         {
          "date": "2022-01-25T05:53:24.864865",
          "score": 0.8844870284103884
         },
         {
          "date": "2022-01-29T15:59:32.432432",
          "score": 0.8856631230712595
         },
         {
          "date": "2022-02-03T02:05:40",
          "score": 0.8868340807717846
         },
         {
          "date": "2022-02-07T12:11:47.567568",
          "score": 0.8879998835875728
         },
         {
          "date": "2022-02-11T22:17:55.135135",
          "score": 0.8891605136662547
         },
         {
          "date": "2022-02-16T08:24:02.702703",
          "score": 0.8903159532278593
         },
         {
          "date": "2022-02-20T18:30:10.270270",
          "score": 0.8914661845652022
         },
         {
          "date": "2022-02-25T04:36:17.837838",
          "score": 0.8926111900442399
         },
         {
          "date": "2022-03-01T14:42:25.405406",
          "score": 0.8937509521044679
         },
         {
          "date": "2022-03-06T00:48:32.972973",
          "score": 0.8948854532592716
         },
         {
          "date": "2022-03-10T10:54:40.540540",
          "score": 0.8960146760963095
         },
         {
          "date": "2022-03-14T21:00:48.108108",
          "score": 0.8971386032778798
         },
         {
          "date": "2022-03-19T07:06:55.675676",
          "score": 0.8982572175412838
         },
         {
          "date": "2022-03-23T17:13:03.243243",
          "score": 0.8993705016992053
         },
         {
          "date": "2022-03-28T04:19:10.810811",
          "score": 0.9004784386400564
         },
         {
          "date": "2022-04-01T14:25:18.378378",
          "score": 0.9015810113283502
         },
         {
          "date": "2022-04-06T00:31:25.945946",
          "score": 0.9026782028050697
         },
         {
          "date": "2022-04-10T10:37:33.513514",
          "score": 0.9037699961880117
         },
         {
          "date": "2022-04-14T20:43:41.081081",
          "score": 0.9048563746721552
         },
         {
          "date": "2022-04-19T06:49:48.648649",
          "score": 0.9059373215300159
         },
         {
          "date": "2022-04-23T16:55:56.216216",
          "score": 0.907012820111998
         },
         {
          "date": "2022-04-28T03:02:03.783784",
          "score": 0.9080828538467589
         },
         {
          "date": "2022-05-02T13:08:11.351351",
          "score": 0.909147406241541
         },
         {
          "date": "2022-05-06T23:14:18.918919",
          "score": 0.9102064608825444
         },
         {
          "date": "2022-05-11T09:20:26.486486",
          "score": 0.9112600014352554
         },
         {
          "date": "2022-05-15T19:26:34.054054",
          "score": 0.9123080116448055
         },
         {
          "date": "2022-05-20T05:32:41.621622",
          "score": 0.9133504753363116
         },
         {
          "date": "2022-05-24T15:38:49.189189",
          "score": 0.9143873764152192
         },
         {
          "date": "2022-05-29T01:44:56.756757",
          "score": 0.9154186988676526
         },
         {
          "date": "2022-06-02T11:51:04.324324",
          "score": 0.9164444267607398
         },
         {
          "date": "2022-06-06T21:57:11.891892",
          "score": 0.9174645442429598
         },
         {
          "date": "2022-06-11T08:03:19.459460",
          "score": 0.9184790355444854
         },
         {
          "date": "2022-06-15T18:09:27.027027",
          "score": 0.9194878849775031
         },
         {
          "date": "2022-06-20T04:15:34.594594",
          "score": 0.9204910769365574
         },
         {
          "date": "2022-06-24T14:21:42.162162",
          "score": 0.9214885958988783
         },
         {
          "date": "2022-06-29T00:27:49.729730",
          "score": 0.92248042642471
         },
         {
          "date": "2022-07-03T10:33:57.297297",
          "score": 0.9234665531576471
         },
         {
          "date": "2022-07-07T20:40:04.864865",
          "score": 0.9244469608249454
         },
         {
          "date": "2022-07-12T06:46:12.432432",
          "score": 0.9254216342378646
         },
         {
          "date": "2022-07-16T16:52:20",
          "score": 0.9263905582919747
         },
         {
          "date": "2022-07-21T02:58:27.567568",
          "score": 0.9273537179674858
         },
         {
          "date": "2022-07-25T13:04:35.135135",
          "score": 0.9283110983295666
         },
         {
          "date": "2022-07-29T23:10:42.702703",
          "score": 0.9292626845286569
         },
         {
          "date": "2022-08-03T09:16:50.270270",
          "score": 0.9302084618007946
         },
         {
          "date": "2022-08-07T19:22:57.837838",
          "score": 0.9311484154679128
         },
         {
          "date": "2022-08-12T05:29:05.405406",
          "score": 0.9320825309381687
         },
         {
          "date": "2022-08-16T15:35:12.972973",
          "score": 0.9330107937062402
         },
         {
          "date": "2022-08-21T01:41:20.540540",
          "score": 0.9339331893536413
         },
         {
          "date": "2022-08-25T11:47:28.108108",
          "score": 0.9348497035490275
         },
         {
          "date": "2022-08-29T21:53:35.675676",
          "score": 0.9357603220484974
         },
         {
          "date": "2022-09-03T07:59:43.243243",
          "score": 0.9366650306959055
         },
         {
          "date": "2022-09-07T18:05:50.810811",
          "score": 0.9375638154231485
         },
         {
          "date": "2022-09-12T04:11:58.378378",
          "score": 0.9384566622504725
         },
         {
          "date": "2022-09-16T14:18:05.945946",
          "score": 0.9393435572867759
         },
         {
          "date": "2022-09-21T00:24:13.513514",
          "score": 0.9402244867298915
         },
         {
          "date": "2022-09-25T10:30:21.081081",
          "score": 0.9410994368668898
         },
         {
          "date": "2022-09-29T20:36:28.648649",
          "score": 0.9419683940743673
         },
         {
          "date": "2022-10-04T06:42:36.216216",
          "score": 0.9428313448187351
         },
         {
          "date": "2022-10-08T16:48:43.783784",
          "score": 0.9436882756565146
         },
         {
          "date": "2022-10-13T02:54:51.351351",
          "score": 0.9445391732346087
         },
         {
          "date": "2022-10-17T13:00:58.918919",
          "score": 0.9453840242906025
         },
         {
          "date": "2022-10-21T23:07:06.486486",
          "score": 0.9462228156530321
         },
         {
          "date": "2022-10-26T09:13:14.054054",
          "score": 0.9470555342416709
         },
         {
          "date": "2022-10-30T18:19:21.621622",
          "score": 0.9478821670678079
         },
         {
          "date": "2022-11-04T04:25:29.189189",
          "score": 0.9487027012345208
         },
         {
          "date": "2022-11-08T14:31:36.756757",
          "score": 0.9495171239369592
         },
         {
          "date": "2022-11-13T00:37:44.324324",
          "score": 0.950325422462604
         },
         {
          "date": "2022-11-17T10:43:51.891892",
          "score": 0.9511275841915448
         },
         {
          "date": "2022-11-21T20:49:59.459460",
          "score": 0.9519235965967546
         },
         {
          "date": "2022-11-26T06:56:07.027027",
          "score": 0.9527134472443435
         },
         {
          "date": "2022-11-30T17:02:14.594594",
          "score": 0.953497123793832
         },
         {
          "date": "2022-12-05T03:08:22.162162",
          "score": 0.9542746139984117
         },
         {
          "date": "2022-12-09T13:14:29.729730",
          "score": 0.9550459057052036
         },
         {
          "date": "2022-12-13T23:20:37.297297",
          "score": 0.9558109868555246
         },
         {
          "date": "2022-12-18T09:26:44.864865",
          "score": 0.956569845485131
         },
         {
          "date": "2022-12-22T19:32:52.432432",
          "score": 0.9573224697244882
         },
         {
          "date": "2022-12-27T05:39:00",
          "score": 0.9580688477990101
         },
         {
          "date": "2022-12-31T15:45:07.567568",
          "score": 0.9588089680293178
         },
         {
          "date": "2023-01-05T01:51:15.135135",
          "score": 0.9595428188314854
         },
         {
          "date": "2023-01-09T11:57:22.702703",
          "score": 0.9602703887172858
         },
         {
          "date": "2023-01-13T22:03:30.270270",
          "score": 0.9609916662944419
         },
         {
          "date": "2023-01-18T08:09:37.837838",
          "score": 0.9617066402668573
         },
         {
          "date": "2023-01-22T18:15:45.405406",
          "score": 0.9624152994348698
         },
         {
          "date": "2023-01-27T04:21:52.972973",
          "score": 0.9631176326954791
         },
         {
          "date": "2023-01-31T14:28:00.540541",
          "score": 0.9638136290425889
         },
         {
          "date": "2023-02-05T00:34:08.108108",
          "score": 0.964503277567241
         },
         {
          "date": "2023-02-09T10:40:15.675676",
          "score": 0.965186567457844
         },
         {
          "date": "2023-02-13T20:46:23.243243",
          "score": 0.965863488000412
         },
         {
          "date": "2023-02-18T06:52:30.810811",
          "score": 0.966534028578782
         },
         {
          "date": "2023-02-22T16:58:38.378378",
          "score": 0.9671981786748451
         },
         {
          "date": "2023-02-27T03:04:45.945946",
          "score": 0.9678559278687762
         },
         {
          "date": "2023-03-03T13:10:53.513514",
          "score": 0.968507265839244
         },
         {
          "date": "2023-03-07T23:17:01.081081",
          "score": 0.9691521823636399
         },
         {
          "date": "2023-03-12T09:23:08.648649",
          "score": 0.969790667318293
         },
         {
          "date": "2023-03-16T19:29:16.216216",
          "score": 0.9704227106786839
         },
         {
          "date": "2023-03-21T05:35:23.783784",
          "score": 0.9710483025196655
         },
         {
          "date": "2023-03-25T15:41:31.351351",
          "score": 0.9716674330156622
         },
         {
          "date": "2023-03-30T02:47:38.918919",
          "score": 0.9722800924408928
         },
         {
          "date": "2023-04-03T12:53:46.486486",
          "score": 0.9728862711695665
         },
         {
          "date": "2023-04-07T22:59:54.054054",
          "score": 0.9734859596760943
         },
         {
          "date": "2023-04-12T09:06:01.621622",
          "score": 0.9740791485352899
         },
         {
          "date": "2023-04-16T19:12:09.189189",
          "score": 0.9746658284225701
         },
         {
          "date": "2023-04-21T05:18:16.756757",
          "score": 0.9752459901141581
         },
         {
          "date": "2023-04-25T15:24:24.324324",
          "score": 0.9758196244872723
         },
         {
          "date": "2023-04-30T01:30:31.891892",
          "score": 0.9763867225203248
         },
         {
          "date": "2023-05-04T11:36:39.459460",
          "score": 0.9769472752931176
         },
         {
          "date": "2023-05-08T21:42:47.027027",
          "score": 0.9775012739870246
         },
         {
          "date": "2023-05-13T07:48:54.594594",
          "score": 0.9780487098851851
         },
         {
          "date": "2023-05-17T17:55:02.162162",
          "score": 0.9785895743726882
         },
         {
          "date": "2023-05-22T04:01:09.729730",
          "score": 0.9791238589367545
         },
         {
          "date": "2023-05-26T14:07:17.297297",
          "score": 0.9796515551669244
         },
         {
          "date": "2023-05-31T00:13:24.864865",
          "score": 0.9801726547552263
         },
         {
          "date": "2023-06-04T10:19:32.432432",
          "score": 0.9806871494963652
         },
         {
          "date": "2023-06-08T20:25:40",
          "score": 0.9811950312878883
         },
         {
          "date": "2023-06-13T06:31:47.567568",
          "score": 0.9816962921303631
         },
         {
          "date": "2023-06-17T16:37:55.135135",
          "score": 0.9821909241275463
         },
         {
          "date": "2023-06-22T02:44:02.702703",
          "score": 0.9826789194865508
         },
         {
          "date": "2023-06-26T12:50:10.270270",
          "score": 0.9831602705180176
         },
         {
          "date": "2023-06-30T22:56:17.837838",
          "score": 0.9836349696362698
         },
         {
          "date": "2023-07-05T09:02:25.405406",
          "score": 0.9841030093594859
         },
         {
          "date": "2023-07-09T19:08:32.972973",
          "score": 0.9845643823098489
         },
         {
          "date": "2023-07-14T05:14:40.540541",
          "score": 0.9850190812137094
         },
         {
          "date": "2023-07-18T15:20:48.108108",
          "score": 0.9854670989017398
         },
         {
          "date": "2023-07-23T01:26:55.675676",
          "score": 0.9859084283090855
         },
         {
          "date": "2023-07-27T11:33:03.243243",
          "score": 0.9863430624755202
         },
         {
          "date": "2023-07-31T21:39:10.810811",
          "score": 0.9867709945455871
         },
         {
          "date": "2023-08-05T07:45:18.378378",
          "score": 0.9871922177687495
         },
         {
          "date": "2023-08-09T17:51:25.945946",
          "score": 0.9876067254995378
         },
         {
          "date": "2023-08-14T03:57:33.513514",
          "score": 0.9880145111976832
         },
         {
          "date": "2023-08-18T14:03:41.081081",
          "score": 0.9884155684282635
         },
         {
          "date": "2023-08-23T00:09:48.648649",
          "score": 0.9888098908618386
         },
         {
          "date": "2023-08-27T10:15:56.216216",
          "score": 0.9891974722745832
         },
         {
          "date": "2023-08-31T20:22:03.783784",
          "score": 0.9895783065484258
         },
         {
          "date": "2023-09-05T06:28:11.351351",
          "score": 0.9899523876711703
         },
         {
          "date": "2023-09-09T16:34:18.918919",
          "score": 0.9903197097366332
         },
         {
          "date": "2023-09-14T02:40:26.486486",
          "score": 0.9906802669447622
         },
         {
          "date": "2023-09-18T12:46:34.054054",
          "score": 0.991034053601764
         },
         {
          "date": "2023-09-22T22:52:41.621622",
          "score": 0.9913810641202248
         },
         {
          "date": "2023-09-27T08:58:49.189189",
          "score": 0.9917212930192285
         },
         {
          "date": "2023-10-01T19:04:56.756757",
          "score": 0.9920547349244775
         },
         {
          "date": "2023-10-06T05:11:04.324324",
          "score": 0.9923813845684011
         },
         {
          "date": "2023-10-10T15:17:11.891892",
          "score": 0.9927012367902719
         },
         {
          "date": "2023-10-15T01:23:19.459460",
          "score": 0.993014286536317
         },
         {
          "date": "2023-10-19T11:29:27.027027",
          "score": 0.9933205288598215
         },
         {
          "date": "2023-10-23T21:35:34.594594",
          "score": 0.993619958921238
         },
         {
          "date": "2023-10-28T07:41:42.162162",
          "score": 0.9939125719882876
         },
         {
          "date": "2023-11-01T16:47:49.729730",
          "score": 0.9941983634360607
         },
         {
          "date": "2023-11-06T02:53:57.297297",
          "score": 0.9944773287471195
         },
         {
          "date": "2023-11-10T13:00:04.864865",
          "score": 0.9947494635115873
         },
         {
          "date": "2023-11-14T23:06:12.432432",
          "score": 0.9950147634272509
         },
         {
          "date": "2023-11-19T09:12:20",
          "score": 0.9952732242996445
         },
         {
          "date": "2023-11-23T19:18:27.567568",
          "score": 0.995524842042145
         },
         {
          "date": "2023-11-28T05:24:35.135135",
          "score": 0.995769612676056
         },
         {
          "date": "2023-12-02T15:30:42.702703",
          "score": 0.9960075323306934
         },
         {
          "date": "2023-12-07T01:36:50.270270",
          "score": 0.99623859724347
         },
         {
          "date": "2023-12-11T11:42:57.837838",
          "score": 0.9964628037599722
         },
         {
          "date": "2023-12-15T21:49:05.405406",
          "score": 0.9966801483340414
         },
         {
          "date": "2023-12-20T07:55:12.972973",
          "score": 0.9968906275278465
         },
         {
          "date": "2023-12-24T18:01:20.540541",
          "score": 0.9970942380119601
         },
         {
          "date": "2023-12-29T04:07:28.108108",
          "score": 0.9972909765654274
         },
         {
          "date": "2024-01-02T14:13:35.675676",
          "score": 0.9974808400758358
         },
         {
          "date": "2024-01-07T00:19:43.243243",
          "score": 0.9976638255393829
         },
         {
          "date": "2024-01-11T10:25:50.810811",
          "score": 0.9978399300609369
         },
         {
          "date": "2024-01-15T20:31:58.378378",
          "score": 0.9980091508541009
         },
         {
          "date": "2024-01-20T06:38:05.945946",
          "score": 0.9981714852412735
         },
         {
          "date": "2024-01-24T16:44:13.513514",
          "score": 0.9983269306537027
         },
         {
          "date": "2024-01-29T02:50:21.081081",
          "score": 0.9984754846315431
         },
         {
          "date": "2024-02-02T12:56:28.648649",
          "score": 0.9986171448239073
         },
         {
          "date": "2024-02-06T23:02:36.216216",
          "score": 0.9987519089889162
         },
         {
          "date": "2024-02-11T09:08:43.783784",
          "score": 0.9988797749937484
         },
         {
          "date": "2024-02-15T19:14:51.351351",
          "score": 0.9990007408146824
         },
         {
          "date": "2024-02-20T05:20:58.918919",
          "score": 0.9991148045371439
         },
         {
          "date": "2024-02-24T15:27:06.486486",
          "score": 0.9992219643557427
         },
         {
          "date": "2024-02-29T01:33:14.054054",
          "score": 0.9993222185743142
         },
         {
          "date": "2024-03-04T11:39:21.621622",
          "score": 0.9994155656059539
         },
         {
          "date": "2024-03-08T21:45:29.189189",
          "score": 0.9995020039730514
         },
         {
          "date": "2024-03-13T07:51:36.756757",
          "score": 0.9995815323073235
         },
         {
          "date": "2024-03-17T17:57:44.324324",
          "score": 0.9996541493498414
         },
         {
          "date": "2024-03-22T04:03:51.891892",
          "score": 0.9997198539510583
         },
         {
          "date": "2024-03-26T14:09:59.459460",
          "score": 0.9997786450708348
         },
         {
          "date": "2024-03-31T00:16:07.027027",
          "score": 0.9998305217784594
         },
         {
          "date": "2024-04-04T11:22:14.594594",
          "score": 0.9998754832526698
         },
         {
          "date": "2024-04-08T21:28:22.162162",
          "score": 0.99991352878167
         },
         {
          "date": "2024-04-13T07:34:29.729730",
          "score": 0.9999446577631447
         },
         {
          "date": "2024-04-17T17:40:37.297297",
          "score": 0.9999688697042737
         },
         {
          "date": "2024-04-22T03:46:44.864865",
          "score": 0.9999861642217414
         },
         {
          "date": "2024-04-26T13:52:52.432432",
          "score": 0.9999965410417447
         },
         {
          "date": "2024-04-30T23:59:00",
          "score": 0.9999999999999998
         }
        ]
       },
       "encoding": {
        "tooltip": [
         {
          "field": "date",
          "type": "temporal"
         }
        ],
        "x": {
         "field": "date",
         "title": "Date",
         "type": "temporal"
        },
        "y": {
         "field": "score",
         "title": "Recency score",
         "type": "quantitative"
        }
       },
       "height": 380,
       "mark": {
        "color": "black",
        "filled": true,
        "size": 10,
        "type": "point"
       },
       "title": "Recency scores (unit weight)",
       "width": 500
      },
      "image/png": "[encoded data removed]",
      "text/plain": [
       "<VegaLite 5 object>\n",
       "\n",
       "If you see this message, it means the renderer has not been properly enabled\n",
       "for the frontend that you are using. For more information, see\n",
       "https://altair-viz.github.io/user_guide/display_frontends.html#troubleshooting\n"
      ]
     },
     "execution_count": 18,
     "metadata": {},
     "output_type": "execute_result"
    }
   ],
   "source": [
    "# To get an intuitive understanding of how recency is weighted for our data,\n",
    "# we can explore the weights using Superlinked's inbuilt RecencyPlotter\n",
    "recency_plotter = RecencyPlotter(recency_space, context_data=EXECUTOR_DATA)\n",
    "recency_plotter.plot_recency_curve()"
   ]
  },
  {
   "cell_type": "markdown",
   "metadata": {
    "id": "3V1fXSBUObh3"
   },
   "source": [
    "## Defining queries"
   ]
  },
  {
   "cell_type": "code",
   "execution_count": 19,
   "metadata": {
    "id": "XOmp8rG_TsWR"
   },
   "outputs": [],
   "source": [
    "TOP_N = 10\n",
    "\n",
    "# A simple query will serve us right when we simply want to search the dataset with a search term\n",
    "# the term will search in both textual fields\n",
    "# and we will have the option to weight certain inputs' importance\n",
    "simple_query = (\n",
    "    Query(\n",
    "        papers_index,\n",
    "        weights={\n",
    "            abstract_space: Param(\"abstract_weight\"),\n",
    "            title_space: Param(\"title_weight\"),\n",
    "            recency_space: Param(\"recency_weight\"),\n",
    "        },\n",
    "    )\n",
    "    .find(papers)\n",
    "    .similar(abstract_space.text, Param(\"query_text\"))\n",
    "    .similar(title_space.text, Param(\"query_text\"))\n",
    "    .limit(TOP_N)\n",
    ")"
   ]
  },
  {
   "cell_type": "code",
   "execution_count": 20,
   "metadata": {
    "id": "GwLyCwPtOYdk"
   },
   "outputs": [],
   "source": [
    "# A quick helper to present the results in a notebook\n",
    "def present_result(\n",
    "    result: Result,\n",
    "    cols_to_keep: list[str] = [\"abstract\", \"title\", \"release_date\", \"id\"],\n",
    ") -> pd.DataFrame:\n",
    "    # Parse result to dataframe\n",
    "    df: pd.DataFrame = pd.DataFrame([entry.stored_object for entry in result.entries])\n",
    "    # Transform timestamp back to release year, Ts is in milliseconds originally hence the division\n",
    "    df[\"release_date\"] = [\n",
    "        datetime.fromtimestamp(timestamp, tz=timezone.utc).date()\n",
    "        for timestamp in df[\"published_timestamp\"]\n",
    "    ]\n",
    "    return df[cols_to_keep]"
   ]
  },
  {
   "cell_type": "markdown",
   "metadata": {
    "id": "Y0oJWooGVzEQ"
   },
   "source": [
    "## Executing the queries"
   ]
  },
  {
   "cell_type": "code",
   "execution_count": 21,
   "metadata": {
    "colab": {
     "base_uri": "https://localhost:8080/",
     "height": 427,
     "referenced_widgets": [
      "d072c318391b4461950ac426db8b33c2",
      "5ef62bb0c10247a2b5d6aaef9933acf0",
      "b7e05b2a3684400a8c7f4b515cf37345",
      "d2a9b96b9f1045ceb6c7856d42007043",
      "95540b11692a4be885fb442e2bfaf687",
      "5a6457a530f44eccab8aca08088e1d5d",
      "3cfbfd4b9166488ca456c91de242c595",
      "090cd0276235435f8e973df15afadc62",
      "451fb5f128a64e7f973a470148a038c0",
      "8673af492a5b4ba48a2cc1cf05a6dd11",
      "a19b04067d424c05a82e08ca99f16065",
      "d20f5600a7674a7e94c4924765b75066",
      "a0dcc9fb147a47af9ce022a367136286",
      "67a00930652e4e6dae573bf47dca5284",
      "1a6f67da27c84051a4898de0c78f606c",
      "246a7bd5f2934f9dbabcbc95b988f50f",
      "3fb4de390e7f4d08b88ae34e0c41efe3",
      "b9f47e23ed314646ace31737957ef8da",
      "51b48442835548f7bc6b1b68e9781334",
      "6f13c803f9104127b564d256637c33b5",
      "d301653ae4284759b418fb53a241bfcd",
      "e9346407c3694cecb2a9529706ef9f2c"
     ]
    },
    "id": "93SjmNkHOte-",
    "outputId": "04147709-f28a-4900-b823-bfa7465811ed"
   },
   "outputs": [
    {
     "data": {
      "application/vnd.jupyter.widget-view+json": {
       "model_id": "a2b4e2389bad4860bc102bb32ff7954b",
       "version_major": 2,
       "version_minor": 0
      },
      "text/plain": [
       "Batches:   0%|          | 0/1 [00:00<?, ?it/s]"
      ]
     },
     "metadata": {},
     "output_type": "display_data"
    },
    {
     "data": {
      "application/vnd.jupyter.widget-view+json": {
       "model_id": "641f6bb86c0c45a8a8e45795c4135913",
       "version_major": 2,
       "version_minor": 0
      },
      "text/plain": [
       "Batches:   0%|          | 0/1 [00:00<?, ?it/s]"
      ]
     },
     "metadata": {},
     "output_type": "display_data"
    },
    {
     "data": {
      "text/html": [
       "<div>\n",
       "<style scoped>\n",
       "    .dataframe tbody tr th:only-of-type {\n",
       "        vertical-align: middle;\n",
       "    }\n",
       "\n",
       "    .dataframe tbody tr th {\n",
       "        vertical-align: top;\n",
       "    }\n",
       "\n",
       "    .dataframe thead th {\n",
       "        text-align: right;\n",
       "    }\n",
       "</style>\n",
       "<table border=\"1\" class=\"dataframe\">\n",
       "  <thead>\n",
       "    <tr style=\"text-align: right;\">\n",
       "      <th></th>\n",
       "      <th>abstract</th>\n",
       "      <th>title</th>\n",
       "      <th>release_date</th>\n",
       "      <th>id</th>\n",
       "    </tr>\n",
       "  </thead>\n",
       "  <tbody>\n",
       "    <tr>\n",
       "      <th>0</th>\n",
       "      <td>By integrating Artificial Intelligence (AI) wi...</td>\n",
       "      <td>Generative AI for Low-Carbon Artificial Intell...</td>\n",
       "      <td>2024-04-28</td>\n",
       "      <td>56</td>\n",
       "    </tr>\n",
       "    <tr>\n",
       "      <th>1</th>\n",
       "      <td>In this paper, we explore the potential applic...</td>\n",
       "      <td>Automated Conversion of Static to Dynamic Sche...</td>\n",
       "      <td>2024-05-08</td>\n",
       "      <td>31</td>\n",
       "    </tr>\n",
       "    <tr>\n",
       "      <th>2</th>\n",
       "      <td>Design/methodology/approach This research eval...</td>\n",
       "      <td>Graph database while computationally efficient...</td>\n",
       "      <td>2024-01-15</td>\n",
       "      <td>275</td>\n",
       "    </tr>\n",
       "    <tr>\n",
       "      <th>3</th>\n",
       "      <td>Standard Full-Data classifiers in NLP demand t...</td>\n",
       "      <td>Making LLMs Worth Every Penny: Resource-Limite...</td>\n",
       "      <td>2023-11-10</td>\n",
       "      <td>315</td>\n",
       "    </tr>\n",
       "    <tr>\n",
       "      <th>4</th>\n",
       "      <td>There is a compelling necessity from enterpris...</td>\n",
       "      <td>Fine Tuning LLM for Enterprise: Practical Guid...</td>\n",
       "      <td>2024-03-23</td>\n",
       "      <td>151</td>\n",
       "    </tr>\n",
       "    <tr>\n",
       "      <th>5</th>\n",
       "      <td>The task of converting natural language querie...</td>\n",
       "      <td>DFIN-SQL: Integrating Focused Schema with DIN-...</td>\n",
       "      <td>2024-03-01</td>\n",
       "      <td>191</td>\n",
       "    </tr>\n",
       "    <tr>\n",
       "      <th>6</th>\n",
       "      <td>The interest in updating Large Language Models...</td>\n",
       "      <td>LLMs Instruct LLMs:An Extraction and Editing M...</td>\n",
       "      <td>2024-03-23</td>\n",
       "      <td>152</td>\n",
       "    </tr>\n",
       "    <tr>\n",
       "      <th>7</th>\n",
       "      <td>In customer service technical support, swiftly...</td>\n",
       "      <td>Retrieval-Augmented Generation with Knowledge ...</td>\n",
       "      <td>2024-04-26</td>\n",
       "      <td>37</td>\n",
       "    </tr>\n",
       "    <tr>\n",
       "      <th>8</th>\n",
       "      <td>In the rapidly evolving field of assistive tec...</td>\n",
       "      <td>Towards Standards-Compliant Assistive Technolo...</td>\n",
       "      <td>2024-04-04</td>\n",
       "      <td>126</td>\n",
       "    </tr>\n",
       "    <tr>\n",
       "      <th>9</th>\n",
       "      <td>ESGReveal is an innovative method proposed for...</td>\n",
       "      <td>ESGReveal: An LLM-based approach for extractin...</td>\n",
       "      <td>2023-12-25</td>\n",
       "      <td>291</td>\n",
       "    </tr>\n",
       "  </tbody>\n",
       "</table>\n",
       "</div>"
      ],
      "text/plain": [
       "                                            abstract  \\\n",
       "0  By integrating Artificial Intelligence (AI) wi...   \n",
       "1  In this paper, we explore the potential applic...   \n",
       "2  Design/methodology/approach This research eval...   \n",
       "3  Standard Full-Data classifiers in NLP demand t...   \n",
       "4  There is a compelling necessity from enterpris...   \n",
       "5  The task of converting natural language querie...   \n",
       "6  The interest in updating Large Language Models...   \n",
       "7  In customer service technical support, swiftly...   \n",
       "8  In the rapidly evolving field of assistive tec...   \n",
       "9  ESGReveal is an innovative method proposed for...   \n",
       "\n",
       "                                               title release_date   id  \n",
       "0  Generative AI for Low-Carbon Artificial Intell...   2024-04-28   56  \n",
       "1  Automated Conversion of Static to Dynamic Sche...   2024-05-08   31  \n",
       "2  Graph database while computationally efficient...   2024-01-15  275  \n",
       "3  Making LLMs Worth Every Penny: Resource-Limite...   2023-11-10  315  \n",
       "4  Fine Tuning LLM for Enterprise: Practical Guid...   2024-03-23  151  \n",
       "5  DFIN-SQL: Integrating Focused Schema with DIN-...   2024-03-01  191  \n",
       "6  LLMs Instruct LLMs:An Extraction and Editing M...   2024-03-23  152  \n",
       "7  Retrieval-Augmented Generation with Knowledge ...   2024-04-26   37  \n",
       "8  Towards Standards-Compliant Assistive Technolo...   2024-04-04  126  \n",
       "9  ESGReveal: An LLM-based approach for extractin...   2023-12-25  291  "
      ]
     },
     "execution_count": 21,
     "metadata": {},
     "output_type": "execute_result"
    }
   ],
   "source": [
    "regular_result = app.query(\n",
    "    simple_query,\n",
    "    query_text=\"cost reduction\",\n",
    "    abstract_weight=1,\n",
    "    title_weight=1,\n",
    "    recency_weight=0,\n",
    ")\n",
    "\n",
    "present_result(regular_result)"
   ]
  },
  {
   "cell_type": "code",
   "execution_count": 22,
   "metadata": {
    "colab": {
     "base_uri": "https://localhost:8080/",
     "height": 427,
     "referenced_widgets": [
      "3e9a018ecb584dfabfdbdcd936344155",
      "542d78922c4c4c20a4994b23a71974a5",
      "9a9f8cf053954d63a6a8234d7d993d33",
      "3a2a06e523b84b24a9c207b7ea365b04",
      "b364b201e4024bb09ee696902a6ea67c",
      "88296497bde24bafbac44bf9190ecc46",
      "87a3c3a5d41d4d94972336f2540dcda3",
      "9a2a0f24fef24a25a5f9ea7dcc1ac02a",
      "9cabd2c6626e4f609df53f25527e0529",
      "99a8bdb190144c0084831d53ef4adff1",
      "b896afc7397f4b5ea645ff1b29ec9c85",
      "4ee51cba9b044095a206eade18d17a6b",
      "f0d09ddd50d0424a9cf3f7a6dbd1a59b",
      "f89786cf6f5d42f99935a40b1d28477a",
      "8d697b54828d4d27b54078d6eef35dee",
      "638e61bebe0e4edbb8efcf4c74522c6a",
      "1164cd5bc44d4002b27667b47ef6685d",
      "63798820649a4b2c9bc75a1850b43582",
      "a99b8dd7878f400791f807e1356c71b7",
      "b55434388b6d4eeb83b015bff2239131",
      "55d3c0ef1aa849bf97c0e2d53714301a",
      "96ff31174e894699ab8f58ac41eedcfa"
     ]
    },
    "id": "s9jD1RdGZCeL",
    "outputId": "422b964b-294d-47ac-98a7-d4e0e752b2c4"
   },
   "outputs": [
    {
     "data": {
      "application/vnd.jupyter.widget-view+json": {
       "model_id": "abeb3ae5d1dc4cee8e622e1fd764914c",
       "version_major": 2,
       "version_minor": 0
      },
      "text/plain": [
       "Batches:   0%|          | 0/1 [00:00<?, ?it/s]"
      ]
     },
     "metadata": {},
     "output_type": "display_data"
    },
    {
     "data": {
      "application/vnd.jupyter.widget-view+json": {
       "model_id": "fb5d16b374d74fafbb390656173e9cf9",
       "version_major": 2,
       "version_minor": 0
      },
      "text/plain": [
       "Batches:   0%|          | 0/1 [00:00<?, ?it/s]"
      ]
     },
     "metadata": {},
     "output_type": "display_data"
    },
    {
     "data": {
      "text/html": [
       "<div>\n",
       "<style scoped>\n",
       "    .dataframe tbody tr th:only-of-type {\n",
       "        vertical-align: middle;\n",
       "    }\n",
       "\n",
       "    .dataframe tbody tr th {\n",
       "        vertical-align: top;\n",
       "    }\n",
       "\n",
       "    .dataframe thead th {\n",
       "        text-align: right;\n",
       "    }\n",
       "</style>\n",
       "<table border=\"1\" class=\"dataframe\">\n",
       "  <thead>\n",
       "    <tr style=\"text-align: right;\">\n",
       "      <th></th>\n",
       "      <th>abstract</th>\n",
       "      <th>title</th>\n",
       "      <th>release_date</th>\n",
       "      <th>id</th>\n",
       "    </tr>\n",
       "  </thead>\n",
       "  <tbody>\n",
       "    <tr>\n",
       "      <th>0</th>\n",
       "      <td>By integrating Artificial Intelligence (AI) wi...</td>\n",
       "      <td>Generative AI for Low-Carbon Artificial Intell...</td>\n",
       "      <td>2024-04-28</td>\n",
       "      <td>56</td>\n",
       "    </tr>\n",
       "    <tr>\n",
       "      <th>1</th>\n",
       "      <td>In this paper, we explore the potential applic...</td>\n",
       "      <td>Automated Conversion of Static to Dynamic Sche...</td>\n",
       "      <td>2024-05-08</td>\n",
       "      <td>31</td>\n",
       "    </tr>\n",
       "    <tr>\n",
       "      <th>2</th>\n",
       "      <td>Design/methodology/approach This research eval...</td>\n",
       "      <td>Graph database while computationally efficient...</td>\n",
       "      <td>2024-01-15</td>\n",
       "      <td>275</td>\n",
       "    </tr>\n",
       "    <tr>\n",
       "      <th>3</th>\n",
       "      <td>There is a compelling necessity from enterpris...</td>\n",
       "      <td>Fine Tuning LLM for Enterprise: Practical Guid...</td>\n",
       "      <td>2024-03-23</td>\n",
       "      <td>151</td>\n",
       "    </tr>\n",
       "    <tr>\n",
       "      <th>4</th>\n",
       "      <td>The task of converting natural language querie...</td>\n",
       "      <td>DFIN-SQL: Integrating Focused Schema with DIN-...</td>\n",
       "      <td>2024-03-01</td>\n",
       "      <td>191</td>\n",
       "    </tr>\n",
       "    <tr>\n",
       "      <th>5</th>\n",
       "      <td>Standard Full-Data classifiers in NLP demand t...</td>\n",
       "      <td>Making LLMs Worth Every Penny: Resource-Limite...</td>\n",
       "      <td>2023-11-10</td>\n",
       "      <td>315</td>\n",
       "    </tr>\n",
       "    <tr>\n",
       "      <th>6</th>\n",
       "      <td>The interest in updating Large Language Models...</td>\n",
       "      <td>LLMs Instruct LLMs:An Extraction and Editing M...</td>\n",
       "      <td>2024-03-23</td>\n",
       "      <td>152</td>\n",
       "    </tr>\n",
       "    <tr>\n",
       "      <th>7</th>\n",
       "      <td>In customer service technical support, swiftly...</td>\n",
       "      <td>Retrieval-Augmented Generation with Knowledge ...</td>\n",
       "      <td>2024-04-26</td>\n",
       "      <td>37</td>\n",
       "    </tr>\n",
       "    <tr>\n",
       "      <th>8</th>\n",
       "      <td>In the rapidly evolving field of assistive tec...</td>\n",
       "      <td>Towards Standards-Compliant Assistive Technolo...</td>\n",
       "      <td>2024-04-04</td>\n",
       "      <td>126</td>\n",
       "    </tr>\n",
       "    <tr>\n",
       "      <th>9</th>\n",
       "      <td>ESGReveal is an innovative method proposed for...</td>\n",
       "      <td>ESGReveal: An LLM-based approach for extractin...</td>\n",
       "      <td>2023-12-25</td>\n",
       "      <td>291</td>\n",
       "    </tr>\n",
       "  </tbody>\n",
       "</table>\n",
       "</div>"
      ],
      "text/plain": [
       "                                            abstract  \\\n",
       "0  By integrating Artificial Intelligence (AI) wi...   \n",
       "1  In this paper, we explore the potential applic...   \n",
       "2  Design/methodology/approach This research eval...   \n",
       "3  There is a compelling necessity from enterpris...   \n",
       "4  The task of converting natural language querie...   \n",
       "5  Standard Full-Data classifiers in NLP demand t...   \n",
       "6  The interest in updating Large Language Models...   \n",
       "7  In customer service technical support, swiftly...   \n",
       "8  In the rapidly evolving field of assistive tec...   \n",
       "9  ESGReveal is an innovative method proposed for...   \n",
       "\n",
       "                                               title release_date   id  \n",
       "0  Generative AI for Low-Carbon Artificial Intell...   2024-04-28   56  \n",
       "1  Automated Conversion of Static to Dynamic Sche...   2024-05-08   31  \n",
       "2  Graph database while computationally efficient...   2024-01-15  275  \n",
       "3  Fine Tuning LLM for Enterprise: Practical Guid...   2024-03-23  151  \n",
       "4  DFIN-SQL: Integrating Focused Schema with DIN-...   2024-03-01  191  \n",
       "5  Making LLMs Worth Every Penny: Resource-Limite...   2023-11-10  315  \n",
       "6  LLMs Instruct LLMs:An Extraction and Editing M...   2024-03-23  152  \n",
       "7  Retrieval-Augmented Generation with Knowledge ...   2024-04-26   37  \n",
       "8  Towards Standards-Compliant Assistive Technolo...   2024-04-04  126  \n",
       "9  ESGReveal: An LLM-based approach for extractin...   2023-12-25  291  "
      ]
     },
     "execution_count": 22,
     "metadata": {},
     "output_type": "execute_result"
    }
   ],
   "source": [
    "recency_weighted_result = app.query(\n",
    "    simple_query,\n",
    "    query_text=\"cost reduction\",\n",
    "    abstract_weight=1,\n",
    "    title_weight=1,\n",
    "    recency_weight=1,\n",
    ")\n",
    "\n",
    "present_result(recency_weighted_result)"
   ]
  },
  {
   "cell_type": "code",
   "execution_count": 23,
   "metadata": {
    "id": "oxkj-u8NW8O8"
   },
   "outputs": [],
   "source": [
    "# A quick helper to visualize the effect of recency weighting\n",
    "def get_time_differences(\n",
    "    result: Result,\n",
    "    alternative_result: Result,\n",
    "    cols_to_keep: list[str] = [\"abstract\", \"title\", \"release_date\", \"id\"],\n",
    ") -> pd.DataFrame:\n",
    "    # Getting the timestamps of both results\n",
    "    result_ts = [entry.stored_object[\"published_timestamp\"] for entry in result.entries]\n",
    "    alternative_result_ts = [\n",
    "        entry.stored_object[\"published_timestamp\"]\n",
    "        for entry in alternative_result.entries\n",
    "    ]\n",
    "    # Calculating the absolute time difference in seconds\n",
    "    time_diff = list(np.absolute(np.array(result_ts) - np.array(alternative_result_ts)))\n",
    "    # Rounded time difference in days\n",
    "    time_diff_days = [round(t_d / 3600 / 24, 1) for t_d in time_diff]\n",
    "    return time_diff_days"
   ]
  },
  {
   "cell_type": "code",
   "execution_count": 24,
   "metadata": {
    "colab": {
     "base_uri": "https://localhost:8080/"
    },
    "id": "3kv1Ksv4W8Hs",
    "outputId": "ade4935c-4c52-4d5b-c16b-b5371d063264"
   },
   "outputs": [
    {
     "data": {
      "text/plain": [
       "[0.0, 0.0, 0.0, 133.9, 22.3, 111.7, 0.0, 0.0, 0.0, 0.0]"
      ]
     },
     "execution_count": 24,
     "metadata": {},
     "output_type": "execute_result"
    }
   ],
   "source": [
    "get_time_differences(regular_result, recency_weighted_result)"
   ]
  },
  {
   "cell_type": "markdown",
   "metadata": {
    "id": "bkVQ0sm5aRxM"
   },
   "source": [
    "You will see that a lot of the positions haven’t changed, but some have!\n",
    "\n",
    "Obviously, this was a pretty basic example. But I hope I was able to make clear why recency can be an important factor. We could’ve also filtered our timestamp data - metadata filtering is a common practice in Advanced RAG systems after all. However, the recency embeddings we used here are generally more nuanced, similar to how text embeddings are more nuanced than regex.\n",
    "\n",
    "Which one will work better for you will depend on your specific use case. It’s important to remember that there are no silver bullets!"
   ]
  }
 ],
 "metadata": {
  "accelerator": "GPU",
  "colab": {
   "gpuType": "T4",
   "provenance": []
  },
  "kernelspec": {
   "display_name": "superlinked-py3.10",
   "language": "python",
   "name": "superlinked-py3.10"
  },
  "language_info": {
   "codemirror_mode": {
    "name": "ipython",
    "version": 3
   },
   "file_extension": ".py",
   "mimetype": "text/x-python",
   "name": "python",
   "nbconvert_exporter": "python",
   "pygments_lexer": "ipython3",
   "version": "3.10.9"
  },
  "widgets": {
   "application/vnd.jupyter.widget-state+json": {
    "007b995972204638844ad5a850fba445": {
     "model_module": "@jupyter-widgets/base",
     "model_module_version": "1.2.0",
     "model_name": "LayoutModel",
     "state": {
      "_model_module": "@jupyter-widgets/base",
      "_model_module_version": "1.2.0",
      "_model_name": "LayoutModel",
      "_view_count": null,
      "_view_module": "@jupyter-widgets/base",
      "_view_module_version": "1.2.0",
      "_view_name": "LayoutView",
      "align_content": null,
      "align_items": null,
      "align_self": null,
      "border": null,
      "bottom": null,
      "display": null,
      "flex": null,
      "flex_flow": null,
      "grid_area": null,
      "grid_auto_columns": null,
      "grid_auto_flow": null,
      "grid_auto_rows": null,
      "grid_column": null,
      "grid_gap": null,
      "grid_row": null,
      "grid_template_areas": null,
      "grid_template_columns": null,
      "grid_template_rows": null,
      "height": null,
      "justify_content": null,
      "justify_items": null,
      "left": null,
      "margin": null,
      "max_height": null,
      "max_width": null,
      "min_height": null,
      "min_width": null,
      "object_fit": null,
      "object_position": null,
      "order": null,
      "overflow": null,
      "overflow_x": null,
      "overflow_y": null,
      "padding": null,
      "right": null,
      "top": null,
      "visibility": null,
      "width": null
     }
    },
    "090cd0276235435f8e973df15afadc62": {
     "model_module": "@jupyter-widgets/base",
     "model_module_version": "1.2.0",
     "model_name": "LayoutModel",
     "state": {
      "_model_module": "@jupyter-widgets/base",
      "_model_module_version": "1.2.0",
      "_model_name": "LayoutModel",
      "_view_count": null,
      "_view_module": "@jupyter-widgets/base",
      "_view_module_version": "1.2.0",
      "_view_name": "LayoutView",
      "align_content": null,
      "align_items": null,
      "align_self": null,
      "border": null,
      "bottom": null,
      "display": null,
      "flex": null,
      "flex_flow": null,
      "grid_area": null,
      "grid_auto_columns": null,
      "grid_auto_flow": null,
      "grid_auto_rows": null,
      "grid_column": null,
      "grid_gap": null,
      "grid_row": null,
      "grid_template_areas": null,
      "grid_template_columns": null,
      "grid_template_rows": null,
      "height": null,
      "justify_content": null,
      "justify_items": null,
      "left": null,
      "margin": null,
      "max_height": null,
      "max_width": null,
      "min_height": null,
      "min_width": null,
      "object_fit": null,
      "object_position": null,
      "order": null,
      "overflow": null,
      "overflow_x": null,
      "overflow_y": null,
      "padding": null,
      "right": null,
      "top": null,
      "visibility": null,
      "width": null
     }
    },
    "0a660dc927a2405f9657455cd03a50bb": {
     "model_module": "@jupyter-widgets/controls",
     "model_module_version": "1.5.0",
     "model_name": "ProgressStyleModel",
     "state": {
      "_model_module": "@jupyter-widgets/controls",
      "_model_module_version": "1.5.0",
      "_model_name": "ProgressStyleModel",
      "_view_count": null,
      "_view_module": "@jupyter-widgets/base",
      "_view_module_version": "1.2.0",
      "_view_name": "StyleView",
      "bar_color": null,
      "description_width": ""
     }
    },
    "1164cd5bc44d4002b27667b47ef6685d": {
     "model_module": "@jupyter-widgets/base",
     "model_module_version": "1.2.0",
     "model_name": "LayoutModel",
     "state": {
      "_model_module": "@jupyter-widgets/base",
      "_model_module_version": "1.2.0",
      "_model_name": "LayoutModel",
      "_view_count": null,
      "_view_module": "@jupyter-widgets/base",
      "_view_module_version": "1.2.0",
      "_view_name": "LayoutView",
      "align_content": null,
      "align_items": null,
      "align_self": null,
      "border": null,
      "bottom": null,
      "display": null,
      "flex": null,
      "flex_flow": null,
      "grid_area": null,
      "grid_auto_columns": null,
      "grid_auto_flow": null,
      "grid_auto_rows": null,
      "grid_column": null,
      "grid_gap": null,
      "grid_row": null,
      "grid_template_areas": null,
      "grid_template_columns": null,
      "grid_template_rows": null,
      "height": null,
      "justify_content": null,
      "justify_items": null,
      "left": null,
      "margin": null,
      "max_height": null,
      "max_width": null,
      "min_height": null,
      "min_width": null,
      "object_fit": null,
      "object_position": null,
      "order": null,
      "overflow": null,
      "overflow_x": null,
      "overflow_y": null,
      "padding": null,
      "right": null,
      "top": null,
      "visibility": null,
      "width": null
     }
    },
    "123855bdc58e4dd4834b1d5a6473e119": {
     "model_module": "@jupyter-widgets/base",
     "model_module_version": "1.2.0",
     "model_name": "LayoutModel",
     "state": {
      "_model_module": "@jupyter-widgets/base",
      "_model_module_version": "1.2.0",
      "_model_name": "LayoutModel",
      "_view_count": null,
      "_view_module": "@jupyter-widgets/base",
      "_view_module_version": "1.2.0",
      "_view_name": "LayoutView",
      "align_content": null,
      "align_items": null,
      "align_self": null,
      "border": null,
      "bottom": null,
      "display": null,
      "flex": null,
      "flex_flow": null,
      "grid_area": null,
      "grid_auto_columns": null,
      "grid_auto_flow": null,
      "grid_auto_rows": null,
      "grid_column": null,
      "grid_gap": null,
      "grid_row": null,
      "grid_template_areas": null,
      "grid_template_columns": null,
      "grid_template_rows": null,
      "height": null,
      "justify_content": null,
      "justify_items": null,
      "left": null,
      "margin": null,
      "max_height": null,
      "max_width": null,
      "min_height": null,
      "min_width": null,
      "object_fit": null,
      "object_position": null,
      "order": null,
      "overflow": null,
      "overflow_x": null,
      "overflow_y": null,
      "padding": null,
      "right": null,
      "top": null,
      "visibility": null,
      "width": null
     }
    },
    "1a6f67da27c84051a4898de0c78f606c": {
     "model_module": "@jupyter-widgets/controls",
     "model_module_version": "1.5.0",
     "model_name": "HTMLModel",
     "state": {
      "_dom_classes": [],
      "_model_module": "@jupyter-widgets/controls",
      "_model_module_version": "1.5.0",
      "_model_name": "HTMLModel",
      "_view_count": null,
      "_view_module": "@jupyter-widgets/controls",
      "_view_module_version": "1.5.0",
      "_view_name": "HTMLView",
      "description": "",
      "description_tooltip": null,
      "layout": "IPY_MODEL_d301653ae4284759b418fb53a241bfcd",
      "placeholder": "​",
      "style": "IPY_MODEL_e9346407c3694cecb2a9529706ef9f2c",
      "value": " 1/1 [00:00&lt;00:00, 27.02it/s]"
     }
    },
    "2310566a0db54b1eaae86f14b860f756": {
     "model_module": "@jupyter-widgets/base",
     "model_module_version": "1.2.0",
     "model_name": "LayoutModel",
     "state": {
      "_model_module": "@jupyter-widgets/base",
      "_model_module_version": "1.2.0",
      "_model_name": "LayoutModel",
      "_view_count": null,
      "_view_module": "@jupyter-widgets/base",
      "_view_module_version": "1.2.0",
      "_view_name": "LayoutView",
      "align_content": null,
      "align_items": null,
      "align_self": null,
      "border": null,
      "bottom": null,
      "display": null,
      "flex": null,
      "flex_flow": null,
      "grid_area": null,
      "grid_auto_columns": null,
      "grid_auto_flow": null,
      "grid_auto_rows": null,
      "grid_column": null,
      "grid_gap": null,
      "grid_row": null,
      "grid_template_areas": null,
      "grid_template_columns": null,
      "grid_template_rows": null,
      "height": null,
      "justify_content": null,
      "justify_items": null,
      "left": null,
      "margin": null,
      "max_height": null,
      "max_width": null,
      "min_height": null,
      "min_width": null,
      "object_fit": null,
      "object_position": null,
      "order": null,
      "overflow": null,
      "overflow_x": null,
      "overflow_y": null,
      "padding": null,
      "right": null,
      "top": null,
      "visibility": null,
      "width": null
     }
    },
    "246a7bd5f2934f9dbabcbc95b988f50f": {
     "model_module": "@jupyter-widgets/base",
     "model_module_version": "1.2.0",
     "model_name": "LayoutModel",
     "state": {
      "_model_module": "@jupyter-widgets/base",
      "_model_module_version": "1.2.0",
      "_model_name": "LayoutModel",
      "_view_count": null,
      "_view_module": "@jupyter-widgets/base",
      "_view_module_version": "1.2.0",
      "_view_name": "LayoutView",
      "align_content": null,
      "align_items": null,
      "align_self": null,
      "border": null,
      "bottom": null,
      "display": null,
      "flex": null,
      "flex_flow": null,
      "grid_area": null,
      "grid_auto_columns": null,
      "grid_auto_flow": null,
      "grid_auto_rows": null,
      "grid_column": null,
      "grid_gap": null,
      "grid_row": null,
      "grid_template_areas": null,
      "grid_template_columns": null,
      "grid_template_rows": null,
      "height": null,
      "justify_content": null,
      "justify_items": null,
      "left": null,
      "margin": null,
      "max_height": null,
      "max_width": null,
      "min_height": null,
      "min_width": null,
      "object_fit": null,
      "object_position": null,
      "order": null,
      "overflow": null,
      "overflow_x": null,
      "overflow_y": null,
      "padding": null,
      "right": null,
      "top": null,
      "visibility": null,
      "width": null
     }
    },
    "37d771c6764b49bc938887ce44518eb2": {
     "model_module": "@jupyter-widgets/controls",
     "model_module_version": "1.5.0",
     "model_name": "DescriptionStyleModel",
     "state": {
      "_model_module": "@jupyter-widgets/controls",
      "_model_module_version": "1.5.0",
      "_model_name": "DescriptionStyleModel",
      "_view_count": null,
      "_view_module": "@jupyter-widgets/base",
      "_view_module_version": "1.2.0",
      "_view_name": "StyleView",
      "description_width": ""
     }
    },
    "3a2a06e523b84b24a9c207b7ea365b04": {
     "model_module": "@jupyter-widgets/controls",
     "model_module_version": "1.5.0",
     "model_name": "HTMLModel",
     "state": {
      "_dom_classes": [],
      "_model_module": "@jupyter-widgets/controls",
      "_model_module_version": "1.5.0",
      "_model_name": "HTMLModel",
      "_view_count": null,
      "_view_module": "@jupyter-widgets/controls",
      "_view_module_version": "1.5.0",
      "_view_name": "HTMLView",
      "description": "",
      "description_tooltip": null,
      "layout": "IPY_MODEL_99a8bdb190144c0084831d53ef4adff1",
      "placeholder": "​",
      "style": "IPY_MODEL_b896afc7397f4b5ea645ff1b29ec9c85",
      "value": " 1/1 [00:00&lt;00:00, 22.44it/s]"
     }
    },
    "3c6cc08a94a94eceb1cee42f05f3e607": {
     "model_module": "@jupyter-widgets/controls",
     "model_module_version": "1.5.0",
     "model_name": "DescriptionStyleModel",
     "state": {
      "_model_module": "@jupyter-widgets/controls",
      "_model_module_version": "1.5.0",
      "_model_name": "DescriptionStyleModel",
      "_view_count": null,
      "_view_module": "@jupyter-widgets/base",
      "_view_module_version": "1.2.0",
      "_view_name": "StyleView",
      "description_width": ""
     }
    },
    "3cfbfd4b9166488ca456c91de242c595": {
     "model_module": "@jupyter-widgets/controls",
     "model_module_version": "1.5.0",
     "model_name": "DescriptionStyleModel",
     "state": {
      "_model_module": "@jupyter-widgets/controls",
      "_model_module_version": "1.5.0",
      "_model_name": "DescriptionStyleModel",
      "_view_count": null,
      "_view_module": "@jupyter-widgets/base",
      "_view_module_version": "1.2.0",
      "_view_name": "StyleView",
      "description_width": ""
     }
    },
    "3e9a018ecb584dfabfdbdcd936344155": {
     "model_module": "@jupyter-widgets/controls",
     "model_module_version": "1.5.0",
     "model_name": "HBoxModel",
     "state": {
      "_dom_classes": [],
      "_model_module": "@jupyter-widgets/controls",
      "_model_module_version": "1.5.0",
      "_model_name": "HBoxModel",
      "_view_count": null,
      "_view_module": "@jupyter-widgets/controls",
      "_view_module_version": "1.5.0",
      "_view_name": "HBoxView",
      "box_style": "",
      "children": [
       "IPY_MODEL_542d78922c4c4c20a4994b23a71974a5",
       "IPY_MODEL_9a9f8cf053954d63a6a8234d7d993d33",
       "IPY_MODEL_3a2a06e523b84b24a9c207b7ea365b04"
      ],
      "layout": "IPY_MODEL_b364b201e4024bb09ee696902a6ea67c"
     }
    },
    "3fb4de390e7f4d08b88ae34e0c41efe3": {
     "model_module": "@jupyter-widgets/base",
     "model_module_version": "1.2.0",
     "model_name": "LayoutModel",
     "state": {
      "_model_module": "@jupyter-widgets/base",
      "_model_module_version": "1.2.0",
      "_model_name": "LayoutModel",
      "_view_count": null,
      "_view_module": "@jupyter-widgets/base",
      "_view_module_version": "1.2.0",
      "_view_name": "LayoutView",
      "align_content": null,
      "align_items": null,
      "align_self": null,
      "border": null,
      "bottom": null,
      "display": null,
      "flex": null,
      "flex_flow": null,
      "grid_area": null,
      "grid_auto_columns": null,
      "grid_auto_flow": null,
      "grid_auto_rows": null,
      "grid_column": null,
      "grid_gap": null,
      "grid_row": null,
      "grid_template_areas": null,
      "grid_template_columns": null,
      "grid_template_rows": null,
      "height": null,
      "justify_content": null,
      "justify_items": null,
      "left": null,
      "margin": null,
      "max_height": null,
      "max_width": null,
      "min_height": null,
      "min_width": null,
      "object_fit": null,
      "object_position": null,
      "order": null,
      "overflow": null,
      "overflow_x": null,
      "overflow_y": null,
      "padding": null,
      "right": null,
      "top": null,
      "visibility": null,
      "width": null
     }
    },
    "451fb5f128a64e7f973a470148a038c0": {
     "model_module": "@jupyter-widgets/controls",
     "model_module_version": "1.5.0",
     "model_name": "ProgressStyleModel",
     "state": {
      "_model_module": "@jupyter-widgets/controls",
      "_model_module_version": "1.5.0",
      "_model_name": "ProgressStyleModel",
      "_view_count": null,
      "_view_module": "@jupyter-widgets/base",
      "_view_module_version": "1.2.0",
      "_view_name": "StyleView",
      "bar_color": null,
      "description_width": ""
     }
    },
    "4a3b64bdb77345dcbc707004fdfb8990": {
     "model_module": "@jupyter-widgets/base",
     "model_module_version": "1.2.0",
     "model_name": "LayoutModel",
     "state": {
      "_model_module": "@jupyter-widgets/base",
      "_model_module_version": "1.2.0",
      "_model_name": "LayoutModel",
      "_view_count": null,
      "_view_module": "@jupyter-widgets/base",
      "_view_module_version": "1.2.0",
      "_view_name": "LayoutView",
      "align_content": null,
      "align_items": null,
      "align_self": null,
      "border": null,
      "bottom": null,
      "display": null,
      "flex": null,
      "flex_flow": null,
      "grid_area": null,
      "grid_auto_columns": null,
      "grid_auto_flow": null,
      "grid_auto_rows": null,
      "grid_column": null,
      "grid_gap": null,
      "grid_row": null,
      "grid_template_areas": null,
      "grid_template_columns": null,
      "grid_template_rows": null,
      "height": null,
      "justify_content": null,
      "justify_items": null,
      "left": null,
      "margin": null,
      "max_height": null,
      "max_width": null,
      "min_height": null,
      "min_width": null,
      "object_fit": null,
      "object_position": null,
      "order": null,
      "overflow": null,
      "overflow_x": null,
      "overflow_y": null,
      "padding": null,
      "right": null,
      "top": null,
      "visibility": null,
      "width": null
     }
    },
    "4ee51cba9b044095a206eade18d17a6b": {
     "model_module": "@jupyter-widgets/controls",
     "model_module_version": "1.5.0",
     "model_name": "HBoxModel",
     "state": {
      "_dom_classes": [],
      "_model_module": "@jupyter-widgets/controls",
      "_model_module_version": "1.5.0",
      "_model_name": "HBoxModel",
      "_view_count": null,
      "_view_module": "@jupyter-widgets/controls",
      "_view_module_version": "1.5.0",
      "_view_name": "HBoxView",
      "box_style": "",
      "children": [
       "IPY_MODEL_f0d09ddd50d0424a9cf3f7a6dbd1a59b",
       "IPY_MODEL_f89786cf6f5d42f99935a40b1d28477a",
       "IPY_MODEL_8d697b54828d4d27b54078d6eef35dee"
      ],
      "layout": "IPY_MODEL_638e61bebe0e4edbb8efcf4c74522c6a"
     }
    },
    "51b48442835548f7bc6b1b68e9781334": {
     "model_module": "@jupyter-widgets/base",
     "model_module_version": "1.2.0",
     "model_name": "LayoutModel",
     "state": {
      "_model_module": "@jupyter-widgets/base",
      "_model_module_version": "1.2.0",
      "_model_name": "LayoutModel",
      "_view_count": null,
      "_view_module": "@jupyter-widgets/base",
      "_view_module_version": "1.2.0",
      "_view_name": "LayoutView",
      "align_content": null,
      "align_items": null,
      "align_self": null,
      "border": null,
      "bottom": null,
      "display": null,
      "flex": null,
      "flex_flow": null,
      "grid_area": null,
      "grid_auto_columns": null,
      "grid_auto_flow": null,
      "grid_auto_rows": null,
      "grid_column": null,
      "grid_gap": null,
      "grid_row": null,
      "grid_template_areas": null,
      "grid_template_columns": null,
      "grid_template_rows": null,
      "height": null,
      "justify_content": null,
      "justify_items": null,
      "left": null,
      "margin": null,
      "max_height": null,
      "max_width": null,
      "min_height": null,
      "min_width": null,
      "object_fit": null,
      "object_position": null,
      "order": null,
      "overflow": null,
      "overflow_x": null,
      "overflow_y": null,
      "padding": null,
      "right": null,
      "top": null,
      "visibility": null,
      "width": null
     }
    },
    "542d78922c4c4c20a4994b23a71974a5": {
     "model_module": "@jupyter-widgets/controls",
     "model_module_version": "1.5.0",
     "model_name": "HTMLModel",
     "state": {
      "_dom_classes": [],
      "_model_module": "@jupyter-widgets/controls",
      "_model_module_version": "1.5.0",
      "_model_name": "HTMLModel",
      "_view_count": null,
      "_view_module": "@jupyter-widgets/controls",
      "_view_module_version": "1.5.0",
      "_view_name": "HTMLView",
      "description": "",
      "description_tooltip": null,
      "layout": "IPY_MODEL_88296497bde24bafbac44bf9190ecc46",
      "placeholder": "​",
      "style": "IPY_MODEL_87a3c3a5d41d4d94972336f2540dcda3",
      "value": "Batches: 100%"
     }
    },
    "55d3c0ef1aa849bf97c0e2d53714301a": {
     "model_module": "@jupyter-widgets/base",
     "model_module_version": "1.2.0",
     "model_name": "LayoutModel",
     "state": {
      "_model_module": "@jupyter-widgets/base",
      "_model_module_version": "1.2.0",
      "_model_name": "LayoutModel",
      "_view_count": null,
      "_view_module": "@jupyter-widgets/base",
      "_view_module_version": "1.2.0",
      "_view_name": "LayoutView",
      "align_content": null,
      "align_items": null,
      "align_self": null,
      "border": null,
      "bottom": null,
      "display": null,
      "flex": null,
      "flex_flow": null,
      "grid_area": null,
      "grid_auto_columns": null,
      "grid_auto_flow": null,
      "grid_auto_rows": null,
      "grid_column": null,
      "grid_gap": null,
      "grid_row": null,
      "grid_template_areas": null,
      "grid_template_columns": null,
      "grid_template_rows": null,
      "height": null,
      "justify_content": null,
      "justify_items": null,
      "left": null,
      "margin": null,
      "max_height": null,
      "max_width": null,
      "min_height": null,
      "min_width": null,
      "object_fit": null,
      "object_position": null,
      "order": null,
      "overflow": null,
      "overflow_x": null,
      "overflow_y": null,
      "padding": null,
      "right": null,
      "top": null,
      "visibility": null,
      "width": null
     }
    },
    "5661fc3716434478934868316140f7de": {
     "model_module": "@jupyter-widgets/controls",
     "model_module_version": "1.5.0",
     "model_name": "HTMLModel",
     "state": {
      "_dom_classes": [],
      "_model_module": "@jupyter-widgets/controls",
      "_model_module_version": "1.5.0",
      "_model_name": "HTMLModel",
      "_view_count": null,
      "_view_module": "@jupyter-widgets/controls",
      "_view_module_version": "1.5.0",
      "_view_name": "HTMLView",
      "description": "",
      "description_tooltip": null,
      "layout": "IPY_MODEL_123855bdc58e4dd4834b1d5a6473e119",
      "placeholder": "​",
      "style": "IPY_MODEL_37d771c6764b49bc938887ce44518eb2",
      "value": " 12/12 [00:06&lt;00:00,  1.97it/s]"
     }
    },
    "5a6457a530f44eccab8aca08088e1d5d": {
     "model_module": "@jupyter-widgets/base",
     "model_module_version": "1.2.0",
     "model_name": "LayoutModel",
     "state": {
      "_model_module": "@jupyter-widgets/base",
      "_model_module_version": "1.2.0",
      "_model_name": "LayoutModel",
      "_view_count": null,
      "_view_module": "@jupyter-widgets/base",
      "_view_module_version": "1.2.0",
      "_view_name": "LayoutView",
      "align_content": null,
      "align_items": null,
      "align_self": null,
      "border": null,
      "bottom": null,
      "display": null,
      "flex": null,
      "flex_flow": null,
      "grid_area": null,
      "grid_auto_columns": null,
      "grid_auto_flow": null,
      "grid_auto_rows": null,
      "grid_column": null,
      "grid_gap": null,
      "grid_row": null,
      "grid_template_areas": null,
      "grid_template_columns": null,
      "grid_template_rows": null,
      "height": null,
      "justify_content": null,
      "justify_items": null,
      "left": null,
      "margin": null,
      "max_height": null,
      "max_width": null,
      "min_height": null,
      "min_width": null,
      "object_fit": null,
      "object_position": null,
      "order": null,
      "overflow": null,
      "overflow_x": null,
      "overflow_y": null,
      "padding": null,
      "right": null,
      "top": null,
      "visibility": null,
      "width": null
     }
    },
    "5c0858df785c4e32ad3cfd5993c094fb": {
     "model_module": "@jupyter-widgets/controls",
     "model_module_version": "1.5.0",
     "model_name": "ProgressStyleModel",
     "state": {
      "_model_module": "@jupyter-widgets/controls",
      "_model_module_version": "1.5.0",
      "_model_name": "ProgressStyleModel",
      "_view_count": null,
      "_view_module": "@jupyter-widgets/base",
      "_view_module_version": "1.2.0",
      "_view_name": "StyleView",
      "bar_color": null,
      "description_width": ""
     }
    },
    "5ef62bb0c10247a2b5d6aaef9933acf0": {
     "model_module": "@jupyter-widgets/controls",
     "model_module_version": "1.5.0",
     "model_name": "HTMLModel",
     "state": {
      "_dom_classes": [],
      "_model_module": "@jupyter-widgets/controls",
      "_model_module_version": "1.5.0",
      "_model_name": "HTMLModel",
      "_view_count": null,
      "_view_module": "@jupyter-widgets/controls",
      "_view_module_version": "1.5.0",
      "_view_name": "HTMLView",
      "description": "",
      "description_tooltip": null,
      "layout": "IPY_MODEL_5a6457a530f44eccab8aca08088e1d5d",
      "placeholder": "​",
      "style": "IPY_MODEL_3cfbfd4b9166488ca456c91de242c595",
      "value": "Batches: 100%"
     }
    },
    "6366608dcfb84ebcb44d7aed3ce47d56": {
     "model_module": "@jupyter-widgets/controls",
     "model_module_version": "1.5.0",
     "model_name": "FloatProgressModel",
     "state": {
      "_dom_classes": [],
      "_model_module": "@jupyter-widgets/controls",
      "_model_module_version": "1.5.0",
      "_model_name": "FloatProgressModel",
      "_view_count": null,
      "_view_module": "@jupyter-widgets/controls",
      "_view_module_version": "1.5.0",
      "_view_name": "ProgressView",
      "bar_style": "success",
      "description": "",
      "description_tooltip": null,
      "layout": "IPY_MODEL_4a3b64bdb77345dcbc707004fdfb8990",
      "max": 12,
      "min": 0,
      "orientation": "horizontal",
      "style": "IPY_MODEL_0a660dc927a2405f9657455cd03a50bb",
      "value": 12
     }
    },
    "63798820649a4b2c9bc75a1850b43582": {
     "model_module": "@jupyter-widgets/controls",
     "model_module_version": "1.5.0",
     "model_name": "DescriptionStyleModel",
     "state": {
      "_model_module": "@jupyter-widgets/controls",
      "_model_module_version": "1.5.0",
      "_model_name": "DescriptionStyleModel",
      "_view_count": null,
      "_view_module": "@jupyter-widgets/base",
      "_view_module_version": "1.2.0",
      "_view_name": "StyleView",
      "description_width": ""
     }
    },
    "638e61bebe0e4edbb8efcf4c74522c6a": {
     "model_module": "@jupyter-widgets/base",
     "model_module_version": "1.2.0",
     "model_name": "LayoutModel",
     "state": {
      "_model_module": "@jupyter-widgets/base",
      "_model_module_version": "1.2.0",
      "_model_name": "LayoutModel",
      "_view_count": null,
      "_view_module": "@jupyter-widgets/base",
      "_view_module_version": "1.2.0",
      "_view_name": "LayoutView",
      "align_content": null,
      "align_items": null,
      "align_self": null,
      "border": null,
      "bottom": null,
      "display": null,
      "flex": null,
      "flex_flow": null,
      "grid_area": null,
      "grid_auto_columns": null,
      "grid_auto_flow": null,
      "grid_auto_rows": null,
      "grid_column": null,
      "grid_gap": null,
      "grid_row": null,
      "grid_template_areas": null,
      "grid_template_columns": null,
      "grid_template_rows": null,
      "height": null,
      "justify_content": null,
      "justify_items": null,
      "left": null,
      "margin": null,
      "max_height": null,
      "max_width": null,
      "min_height": null,
      "min_width": null,
      "object_fit": null,
      "object_position": null,
      "order": null,
      "overflow": null,
      "overflow_x": null,
      "overflow_y": null,
      "padding": null,
      "right": null,
      "top": null,
      "visibility": null,
      "width": null
     }
    },
    "67a00930652e4e6dae573bf47dca5284": {
     "model_module": "@jupyter-widgets/controls",
     "model_module_version": "1.5.0",
     "model_name": "FloatProgressModel",
     "state": {
      "_dom_classes": [],
      "_model_module": "@jupyter-widgets/controls",
      "_model_module_version": "1.5.0",
      "_model_name": "FloatProgressModel",
      "_view_count": null,
      "_view_module": "@jupyter-widgets/controls",
      "_view_module_version": "1.5.0",
      "_view_name": "ProgressView",
      "bar_style": "success",
      "description": "",
      "description_tooltip": null,
      "layout": "IPY_MODEL_51b48442835548f7bc6b1b68e9781334",
      "max": 1,
      "min": 0,
      "orientation": "horizontal",
      "style": "IPY_MODEL_6f13c803f9104127b564d256637c33b5",
      "value": 1
     }
    },
    "6a9ddfde9ab74eafa03c9e2c3d9d5246": {
     "model_module": "@jupyter-widgets/base",
     "model_module_version": "1.2.0",
     "model_name": "LayoutModel",
     "state": {
      "_model_module": "@jupyter-widgets/base",
      "_model_module_version": "1.2.0",
      "_model_name": "LayoutModel",
      "_view_count": null,
      "_view_module": "@jupyter-widgets/base",
      "_view_module_version": "1.2.0",
      "_view_name": "LayoutView",
      "align_content": null,
      "align_items": null,
      "align_self": null,
      "border": null,
      "bottom": null,
      "display": null,
      "flex": null,
      "flex_flow": null,
      "grid_area": null,
      "grid_auto_columns": null,
      "grid_auto_flow": null,
      "grid_auto_rows": null,
      "grid_column": null,
      "grid_gap": null,
      "grid_row": null,
      "grid_template_areas": null,
      "grid_template_columns": null,
      "grid_template_rows": null,
      "height": null,
      "justify_content": null,
      "justify_items": null,
      "left": null,
      "margin": null,
      "max_height": null,
      "max_width": null,
      "min_height": null,
      "min_width": null,
      "object_fit": null,
      "object_position": null,
      "order": null,
      "overflow": null,
      "overflow_x": null,
      "overflow_y": null,
      "padding": null,
      "right": null,
      "top": null,
      "visibility": null,
      "width": null
     }
    },
    "6f13c803f9104127b564d256637c33b5": {
     "model_module": "@jupyter-widgets/controls",
     "model_module_version": "1.5.0",
     "model_name": "ProgressStyleModel",
     "state": {
      "_model_module": "@jupyter-widgets/controls",
      "_model_module_version": "1.5.0",
      "_model_name": "ProgressStyleModel",
      "_view_count": null,
      "_view_module": "@jupyter-widgets/base",
      "_view_module_version": "1.2.0",
      "_view_name": "StyleView",
      "bar_color": null,
      "description_width": ""
     }
    },
    "7d9cfc0eeaf540a8b98d297a7021040c": {
     "model_module": "@jupyter-widgets/controls",
     "model_module_version": "1.5.0",
     "model_name": "DescriptionStyleModel",
     "state": {
      "_model_module": "@jupyter-widgets/controls",
      "_model_module_version": "1.5.0",
      "_model_name": "DescriptionStyleModel",
      "_view_count": null,
      "_view_module": "@jupyter-widgets/base",
      "_view_module_version": "1.2.0",
      "_view_name": "StyleView",
      "description_width": ""
     }
    },
    "8673af492a5b4ba48a2cc1cf05a6dd11": {
     "model_module": "@jupyter-widgets/base",
     "model_module_version": "1.2.0",
     "model_name": "LayoutModel",
     "state": {
      "_model_module": "@jupyter-widgets/base",
      "_model_module_version": "1.2.0",
      "_model_name": "LayoutModel",
      "_view_count": null,
      "_view_module": "@jupyter-widgets/base",
      "_view_module_version": "1.2.0",
      "_view_name": "LayoutView",
      "align_content": null,
      "align_items": null,
      "align_self": null,
      "border": null,
      "bottom": null,
      "display": null,
      "flex": null,
      "flex_flow": null,
      "grid_area": null,
      "grid_auto_columns": null,
      "grid_auto_flow": null,
      "grid_auto_rows": null,
      "grid_column": null,
      "grid_gap": null,
      "grid_row": null,
      "grid_template_areas": null,
      "grid_template_columns": null,
      "grid_template_rows": null,
      "height": null,
      "justify_content": null,
      "justify_items": null,
      "left": null,
      "margin": null,
      "max_height": null,
      "max_width": null,
      "min_height": null,
      "min_width": null,
      "object_fit": null,
      "object_position": null,
      "order": null,
      "overflow": null,
      "overflow_x": null,
      "overflow_y": null,
      "padding": null,
      "right": null,
      "top": null,
      "visibility": null,
      "width": null
     }
    },
    "87a3c3a5d41d4d94972336f2540dcda3": {
     "model_module": "@jupyter-widgets/controls",
     "model_module_version": "1.5.0",
     "model_name": "DescriptionStyleModel",
     "state": {
      "_model_module": "@jupyter-widgets/controls",
      "_model_module_version": "1.5.0",
      "_model_name": "DescriptionStyleModel",
      "_view_count": null,
      "_view_module": "@jupyter-widgets/base",
      "_view_module_version": "1.2.0",
      "_view_name": "StyleView",
      "description_width": ""
     }
    },
    "88296497bde24bafbac44bf9190ecc46": {
     "model_module": "@jupyter-widgets/base",
     "model_module_version": "1.2.0",
     "model_name": "LayoutModel",
     "state": {
      "_model_module": "@jupyter-widgets/base",
      "_model_module_version": "1.2.0",
      "_model_name": "LayoutModel",
      "_view_count": null,
      "_view_module": "@jupyter-widgets/base",
      "_view_module_version": "1.2.0",
      "_view_name": "LayoutView",
      "align_content": null,
      "align_items": null,
      "align_self": null,
      "border": null,
      "bottom": null,
      "display": null,
      "flex": null,
      "flex_flow": null,
      "grid_area": null,
      "grid_auto_columns": null,
      "grid_auto_flow": null,
      "grid_auto_rows": null,
      "grid_column": null,
      "grid_gap": null,
      "grid_row": null,
      "grid_template_areas": null,
      "grid_template_columns": null,
      "grid_template_rows": null,
      "height": null,
      "justify_content": null,
      "justify_items": null,
      "left": null,
      "margin": null,
      "max_height": null,
      "max_width": null,
      "min_height": null,
      "min_width": null,
      "object_fit": null,
      "object_position": null,
      "order": null,
      "overflow": null,
      "overflow_x": null,
      "overflow_y": null,
      "padding": null,
      "right": null,
      "top": null,
      "visibility": null,
      "width": null
     }
    },
    "8839022fb63444508bbeb9c98c0f5a37": {
     "model_module": "@jupyter-widgets/controls",
     "model_module_version": "1.5.0",
     "model_name": "HTMLModel",
     "state": {
      "_dom_classes": [],
      "_model_module": "@jupyter-widgets/controls",
      "_model_module_version": "1.5.0",
      "_model_name": "HTMLModel",
      "_view_count": null,
      "_view_module": "@jupyter-widgets/controls",
      "_view_module_version": "1.5.0",
      "_view_name": "HTMLView",
      "description": "",
      "description_tooltip": null,
      "layout": "IPY_MODEL_6a9ddfde9ab74eafa03c9e2c3d9d5246",
      "placeholder": "​",
      "style": "IPY_MODEL_7d9cfc0eeaf540a8b98d297a7021040c",
      "value": "Batches: 100%"
     }
    },
    "8adf7e6bac894ed89e50308f406b5e7f": {
     "model_module": "@jupyter-widgets/base",
     "model_module_version": "1.2.0",
     "model_name": "LayoutModel",
     "state": {
      "_model_module": "@jupyter-widgets/base",
      "_model_module_version": "1.2.0",
      "_model_name": "LayoutModel",
      "_view_count": null,
      "_view_module": "@jupyter-widgets/base",
      "_view_module_version": "1.2.0",
      "_view_name": "LayoutView",
      "align_content": null,
      "align_items": null,
      "align_self": null,
      "border": null,
      "bottom": null,
      "display": null,
      "flex": null,
      "flex_flow": null,
      "grid_area": null,
      "grid_auto_columns": null,
      "grid_auto_flow": null,
      "grid_auto_rows": null,
      "grid_column": null,
      "grid_gap": null,
      "grid_row": null,
      "grid_template_areas": null,
      "grid_template_columns": null,
      "grid_template_rows": null,
      "height": null,
      "justify_content": null,
      "justify_items": null,
      "left": null,
      "margin": null,
      "max_height": null,
      "max_width": null,
      "min_height": null,
      "min_width": null,
      "object_fit": null,
      "object_position": null,
      "order": null,
      "overflow": null,
      "overflow_x": null,
      "overflow_y": null,
      "padding": null,
      "right": null,
      "top": null,
      "visibility": null,
      "width": null
     }
    },
    "8d697b54828d4d27b54078d6eef35dee": {
     "model_module": "@jupyter-widgets/controls",
     "model_module_version": "1.5.0",
     "model_name": "HTMLModel",
     "state": {
      "_dom_classes": [],
      "_model_module": "@jupyter-widgets/controls",
      "_model_module_version": "1.5.0",
      "_model_name": "HTMLModel",
      "_view_count": null,
      "_view_module": "@jupyter-widgets/controls",
      "_view_module_version": "1.5.0",
      "_view_name": "HTMLView",
      "description": "",
      "description_tooltip": null,
      "layout": "IPY_MODEL_55d3c0ef1aa849bf97c0e2d53714301a",
      "placeholder": "​",
      "style": "IPY_MODEL_96ff31174e894699ab8f58ac41eedcfa",
      "value": " 1/1 [00:00&lt;00:00, 24.31it/s]"
     }
    },
    "95540b11692a4be885fb442e2bfaf687": {
     "model_module": "@jupyter-widgets/base",
     "model_module_version": "1.2.0",
     "model_name": "LayoutModel",
     "state": {
      "_model_module": "@jupyter-widgets/base",
      "_model_module_version": "1.2.0",
      "_model_name": "LayoutModel",
      "_view_count": null,
      "_view_module": "@jupyter-widgets/base",
      "_view_module_version": "1.2.0",
      "_view_name": "LayoutView",
      "align_content": null,
      "align_items": null,
      "align_self": null,
      "border": null,
      "bottom": null,
      "display": null,
      "flex": null,
      "flex_flow": null,
      "grid_area": null,
      "grid_auto_columns": null,
      "grid_auto_flow": null,
      "grid_auto_rows": null,
      "grid_column": null,
      "grid_gap": null,
      "grid_row": null,
      "grid_template_areas": null,
      "grid_template_columns": null,
      "grid_template_rows": null,
      "height": null,
      "justify_content": null,
      "justify_items": null,
      "left": null,
      "margin": null,
      "max_height": null,
      "max_width": null,
      "min_height": null,
      "min_width": null,
      "object_fit": null,
      "object_position": null,
      "order": null,
      "overflow": null,
      "overflow_x": null,
      "overflow_y": null,
      "padding": null,
      "right": null,
      "top": null,
      "visibility": null,
      "width": null
     }
    },
    "96ff31174e894699ab8f58ac41eedcfa": {
     "model_module": "@jupyter-widgets/controls",
     "model_module_version": "1.5.0",
     "model_name": "DescriptionStyleModel",
     "state": {
      "_model_module": "@jupyter-widgets/controls",
      "_model_module_version": "1.5.0",
      "_model_name": "DescriptionStyleModel",
      "_view_count": null,
      "_view_module": "@jupyter-widgets/base",
      "_view_module_version": "1.2.0",
      "_view_name": "StyleView",
      "description_width": ""
     }
    },
    "99a8bdb190144c0084831d53ef4adff1": {
     "model_module": "@jupyter-widgets/base",
     "model_module_version": "1.2.0",
     "model_name": "LayoutModel",
     "state": {
      "_model_module": "@jupyter-widgets/base",
      "_model_module_version": "1.2.0",
      "_model_name": "LayoutModel",
      "_view_count": null,
      "_view_module": "@jupyter-widgets/base",
      "_view_module_version": "1.2.0",
      "_view_name": "LayoutView",
      "align_content": null,
      "align_items": null,
      "align_self": null,
      "border": null,
      "bottom": null,
      "display": null,
      "flex": null,
      "flex_flow": null,
      "grid_area": null,
      "grid_auto_columns": null,
      "grid_auto_flow": null,
      "grid_auto_rows": null,
      "grid_column": null,
      "grid_gap": null,
      "grid_row": null,
      "grid_template_areas": null,
      "grid_template_columns": null,
      "grid_template_rows": null,
      "height": null,
      "justify_content": null,
      "justify_items": null,
      "left": null,
      "margin": null,
      "max_height": null,
      "max_width": null,
      "min_height": null,
      "min_width": null,
      "object_fit": null,
      "object_position": null,
      "order": null,
      "overflow": null,
      "overflow_x": null,
      "overflow_y": null,
      "padding": null,
      "right": null,
      "top": null,
      "visibility": null,
      "width": null
     }
    },
    "9a2a0f24fef24a25a5f9ea7dcc1ac02a": {
     "model_module": "@jupyter-widgets/base",
     "model_module_version": "1.2.0",
     "model_name": "LayoutModel",
     "state": {
      "_model_module": "@jupyter-widgets/base",
      "_model_module_version": "1.2.0",
      "_model_name": "LayoutModel",
      "_view_count": null,
      "_view_module": "@jupyter-widgets/base",
      "_view_module_version": "1.2.0",
      "_view_name": "LayoutView",
      "align_content": null,
      "align_items": null,
      "align_self": null,
      "border": null,
      "bottom": null,
      "display": null,
      "flex": null,
      "flex_flow": null,
      "grid_area": null,
      "grid_auto_columns": null,
      "grid_auto_flow": null,
      "grid_auto_rows": null,
      "grid_column": null,
      "grid_gap": null,
      "grid_row": null,
      "grid_template_areas": null,
      "grid_template_columns": null,
      "grid_template_rows": null,
      "height": null,
      "justify_content": null,
      "justify_items": null,
      "left": null,
      "margin": null,
      "max_height": null,
      "max_width": null,
      "min_height": null,
      "min_width": null,
      "object_fit": null,
      "object_position": null,
      "order": null,
      "overflow": null,
      "overflow_x": null,
      "overflow_y": null,
      "padding": null,
      "right": null,
      "top": null,
      "visibility": null,
      "width": null
     }
    },
    "9a9f8cf053954d63a6a8234d7d993d33": {
     "model_module": "@jupyter-widgets/controls",
     "model_module_version": "1.5.0",
     "model_name": "FloatProgressModel",
     "state": {
      "_dom_classes": [],
      "_model_module": "@jupyter-widgets/controls",
      "_model_module_version": "1.5.0",
      "_model_name": "FloatProgressModel",
      "_view_count": null,
      "_view_module": "@jupyter-widgets/controls",
      "_view_module_version": "1.5.0",
      "_view_name": "ProgressView",
      "bar_style": "success",
      "description": "",
      "description_tooltip": null,
      "layout": "IPY_MODEL_9a2a0f24fef24a25a5f9ea7dcc1ac02a",
      "max": 1,
      "min": 0,
      "orientation": "horizontal",
      "style": "IPY_MODEL_9cabd2c6626e4f609df53f25527e0529",
      "value": 1
     }
    },
    "9bc228be77ad43738b9c136adb273d18": {
     "model_module": "@jupyter-widgets/controls",
     "model_module_version": "1.5.0",
     "model_name": "HTMLModel",
     "state": {
      "_dom_classes": [],
      "_model_module": "@jupyter-widgets/controls",
      "_model_module_version": "1.5.0",
      "_model_name": "HTMLModel",
      "_view_count": null,
      "_view_module": "@jupyter-widgets/controls",
      "_view_module_version": "1.5.0",
      "_view_name": "HTMLView",
      "description": "",
      "description_tooltip": null,
      "layout": "IPY_MODEL_d3251abd8cee40bbbfb883bbd4e987b2",
      "placeholder": "​",
      "style": "IPY_MODEL_3c6cc08a94a94eceb1cee42f05f3e607",
      "value": " 12/12 [00:00&lt;00:00, 22.43it/s]"
     }
    },
    "9cabd2c6626e4f609df53f25527e0529": {
     "model_module": "@jupyter-widgets/controls",
     "model_module_version": "1.5.0",
     "model_name": "ProgressStyleModel",
     "state": {
      "_model_module": "@jupyter-widgets/controls",
      "_model_module_version": "1.5.0",
      "_model_name": "ProgressStyleModel",
      "_view_count": null,
      "_view_module": "@jupyter-widgets/base",
      "_view_module_version": "1.2.0",
      "_view_name": "StyleView",
      "bar_color": null,
      "description_width": ""
     }
    },
    "a0dcc9fb147a47af9ce022a367136286": {
     "model_module": "@jupyter-widgets/controls",
     "model_module_version": "1.5.0",
     "model_name": "HTMLModel",
     "state": {
      "_dom_classes": [],
      "_model_module": "@jupyter-widgets/controls",
      "_model_module_version": "1.5.0",
      "_model_name": "HTMLModel",
      "_view_count": null,
      "_view_module": "@jupyter-widgets/controls",
      "_view_module_version": "1.5.0",
      "_view_name": "HTMLView",
      "description": "",
      "description_tooltip": null,
      "layout": "IPY_MODEL_3fb4de390e7f4d08b88ae34e0c41efe3",
      "placeholder": "​",
      "style": "IPY_MODEL_b9f47e23ed314646ace31737957ef8da",
      "value": "Batches: 100%"
     }
    },
    "a19b04067d424c05a82e08ca99f16065": {
     "model_module": "@jupyter-widgets/controls",
     "model_module_version": "1.5.0",
     "model_name": "DescriptionStyleModel",
     "state": {
      "_model_module": "@jupyter-widgets/controls",
      "_model_module_version": "1.5.0",
      "_model_name": "DescriptionStyleModel",
      "_view_count": null,
      "_view_module": "@jupyter-widgets/base",
      "_view_module_version": "1.2.0",
      "_view_name": "StyleView",
      "description_width": ""
     }
    },
    "a55aa427dede4e5981b07d00ccb82b77": {
     "model_module": "@jupyter-widgets/controls",
     "model_module_version": "1.5.0",
     "model_name": "FloatProgressModel",
     "state": {
      "_dom_classes": [],
      "_model_module": "@jupyter-widgets/controls",
      "_model_module_version": "1.5.0",
      "_model_name": "FloatProgressModel",
      "_view_count": null,
      "_view_module": "@jupyter-widgets/controls",
      "_view_module_version": "1.5.0",
      "_view_name": "ProgressView",
      "bar_style": "success",
      "description": "",
      "description_tooltip": null,
      "layout": "IPY_MODEL_2310566a0db54b1eaae86f14b860f756",
      "max": 12,
      "min": 0,
      "orientation": "horizontal",
      "style": "IPY_MODEL_5c0858df785c4e32ad3cfd5993c094fb",
      "value": 12
     }
    },
    "a99b8dd7878f400791f807e1356c71b7": {
     "model_module": "@jupyter-widgets/base",
     "model_module_version": "1.2.0",
     "model_name": "LayoutModel",
     "state": {
      "_model_module": "@jupyter-widgets/base",
      "_model_module_version": "1.2.0",
      "_model_name": "LayoutModel",
      "_view_count": null,
      "_view_module": "@jupyter-widgets/base",
      "_view_module_version": "1.2.0",
      "_view_name": "LayoutView",
      "align_content": null,
      "align_items": null,
      "align_self": null,
      "border": null,
      "bottom": null,
      "display": null,
      "flex": null,
      "flex_flow": null,
      "grid_area": null,
      "grid_auto_columns": null,
      "grid_auto_flow": null,
      "grid_auto_rows": null,
      "grid_column": null,
      "grid_gap": null,
      "grid_row": null,
      "grid_template_areas": null,
      "grid_template_columns": null,
      "grid_template_rows": null,
      "height": null,
      "justify_content": null,
      "justify_items": null,
      "left": null,
      "margin": null,
      "max_height": null,
      "max_width": null,
      "min_height": null,
      "min_width": null,
      "object_fit": null,
      "object_position": null,
      "order": null,
      "overflow": null,
      "overflow_x": null,
      "overflow_y": null,
      "padding": null,
      "right": null,
      "top": null,
      "visibility": null,
      "width": null
     }
    },
    "b364b201e4024bb09ee696902a6ea67c": {
     "model_module": "@jupyter-widgets/base",
     "model_module_version": "1.2.0",
     "model_name": "LayoutModel",
     "state": {
      "_model_module": "@jupyter-widgets/base",
      "_model_module_version": "1.2.0",
      "_model_name": "LayoutModel",
      "_view_count": null,
      "_view_module": "@jupyter-widgets/base",
      "_view_module_version": "1.2.0",
      "_view_name": "LayoutView",
      "align_content": null,
      "align_items": null,
      "align_self": null,
      "border": null,
      "bottom": null,
      "display": null,
      "flex": null,
      "flex_flow": null,
      "grid_area": null,
      "grid_auto_columns": null,
      "grid_auto_flow": null,
      "grid_auto_rows": null,
      "grid_column": null,
      "grid_gap": null,
      "grid_row": null,
      "grid_template_areas": null,
      "grid_template_columns": null,
      "grid_template_rows": null,
      "height": null,
      "justify_content": null,
      "justify_items": null,
      "left": null,
      "margin": null,
      "max_height": null,
      "max_width": null,
      "min_height": null,
      "min_width": null,
      "object_fit": null,
      "object_position": null,
      "order": null,
      "overflow": null,
      "overflow_x": null,
      "overflow_y": null,
      "padding": null,
      "right": null,
      "top": null,
      "visibility": null,
      "width": null
     }
    },
    "b55434388b6d4eeb83b015bff2239131": {
     "model_module": "@jupyter-widgets/controls",
     "model_module_version": "1.5.0",
     "model_name": "ProgressStyleModel",
     "state": {
      "_model_module": "@jupyter-widgets/controls",
      "_model_module_version": "1.5.0",
      "_model_name": "ProgressStyleModel",
      "_view_count": null,
      "_view_module": "@jupyter-widgets/base",
      "_view_module_version": "1.2.0",
      "_view_name": "StyleView",
      "bar_color": null,
      "description_width": ""
     }
    },
    "b7e05b2a3684400a8c7f4b515cf37345": {
     "model_module": "@jupyter-widgets/controls",
     "model_module_version": "1.5.0",
     "model_name": "FloatProgressModel",
     "state": {
      "_dom_classes": [],
      "_model_module": "@jupyter-widgets/controls",
      "_model_module_version": "1.5.0",
      "_model_name": "FloatProgressModel",
      "_view_count": null,
      "_view_module": "@jupyter-widgets/controls",
      "_view_module_version": "1.5.0",
      "_view_name": "ProgressView",
      "bar_style": "success",
      "description": "",
      "description_tooltip": null,
      "layout": "IPY_MODEL_090cd0276235435f8e973df15afadc62",
      "max": 1,
      "min": 0,
      "orientation": "horizontal",
      "style": "IPY_MODEL_451fb5f128a64e7f973a470148a038c0",
      "value": 1
     }
    },
    "b896afc7397f4b5ea645ff1b29ec9c85": {
     "model_module": "@jupyter-widgets/controls",
     "model_module_version": "1.5.0",
     "model_name": "DescriptionStyleModel",
     "state": {
      "_model_module": "@jupyter-widgets/controls",
      "_model_module_version": "1.5.0",
      "_model_name": "DescriptionStyleModel",
      "_view_count": null,
      "_view_module": "@jupyter-widgets/base",
      "_view_module_version": "1.2.0",
      "_view_name": "StyleView",
      "description_width": ""
     }
    },
    "b9f47e23ed314646ace31737957ef8da": {
     "model_module": "@jupyter-widgets/controls",
     "model_module_version": "1.5.0",
     "model_name": "DescriptionStyleModel",
     "state": {
      "_model_module": "@jupyter-widgets/controls",
      "_model_module_version": "1.5.0",
      "_model_name": "DescriptionStyleModel",
      "_view_count": null,
      "_view_module": "@jupyter-widgets/base",
      "_view_module_version": "1.2.0",
      "_view_name": "StyleView",
      "description_width": ""
     }
    },
    "bd0ee229f1c64563bc705a9551a63fad": {
     "model_module": "@jupyter-widgets/controls",
     "model_module_version": "1.5.0",
     "model_name": "DescriptionStyleModel",
     "state": {
      "_model_module": "@jupyter-widgets/controls",
      "_model_module_version": "1.5.0",
      "_model_name": "DescriptionStyleModel",
      "_view_count": null,
      "_view_module": "@jupyter-widgets/base",
      "_view_module_version": "1.2.0",
      "_view_name": "StyleView",
      "description_width": ""
     }
    },
    "bdc083ab11764324ab7f3db4a3765124": {
     "model_module": "@jupyter-widgets/controls",
     "model_module_version": "1.5.0",
     "model_name": "HBoxModel",
     "state": {
      "_dom_classes": [],
      "_model_module": "@jupyter-widgets/controls",
      "_model_module_version": "1.5.0",
      "_model_name": "HBoxModel",
      "_view_count": null,
      "_view_module": "@jupyter-widgets/controls",
      "_view_module_version": "1.5.0",
      "_view_name": "HBoxView",
      "box_style": "",
      "children": [
       "IPY_MODEL_edc763138dba4dafa73279559b679f4a",
       "IPY_MODEL_6366608dcfb84ebcb44d7aed3ce47d56",
       "IPY_MODEL_5661fc3716434478934868316140f7de"
      ],
      "layout": "IPY_MODEL_007b995972204638844ad5a850fba445"
     }
    },
    "c1cac8514f9940168d5761817b7c73f8": {
     "model_module": "@jupyter-widgets/controls",
     "model_module_version": "1.5.0",
     "model_name": "HBoxModel",
     "state": {
      "_dom_classes": [],
      "_model_module": "@jupyter-widgets/controls",
      "_model_module_version": "1.5.0",
      "_model_name": "HBoxModel",
      "_view_count": null,
      "_view_module": "@jupyter-widgets/controls",
      "_view_module_version": "1.5.0",
      "_view_name": "HBoxView",
      "box_style": "",
      "children": [
       "IPY_MODEL_8839022fb63444508bbeb9c98c0f5a37",
       "IPY_MODEL_a55aa427dede4e5981b07d00ccb82b77",
       "IPY_MODEL_9bc228be77ad43738b9c136adb273d18"
      ],
      "layout": "IPY_MODEL_e7a98fa0f9824d398e70d2f4d17d2e1c"
     }
    },
    "d072c318391b4461950ac426db8b33c2": {
     "model_module": "@jupyter-widgets/controls",
     "model_module_version": "1.5.0",
     "model_name": "HBoxModel",
     "state": {
      "_dom_classes": [],
      "_model_module": "@jupyter-widgets/controls",
      "_model_module_version": "1.5.0",
      "_model_name": "HBoxModel",
      "_view_count": null,
      "_view_module": "@jupyter-widgets/controls",
      "_view_module_version": "1.5.0",
      "_view_name": "HBoxView",
      "box_style": "",
      "children": [
       "IPY_MODEL_5ef62bb0c10247a2b5d6aaef9933acf0",
       "IPY_MODEL_b7e05b2a3684400a8c7f4b515cf37345",
       "IPY_MODEL_d2a9b96b9f1045ceb6c7856d42007043"
      ],
      "layout": "IPY_MODEL_95540b11692a4be885fb442e2bfaf687"
     }
    },
    "d20f5600a7674a7e94c4924765b75066": {
     "model_module": "@jupyter-widgets/controls",
     "model_module_version": "1.5.0",
     "model_name": "HBoxModel",
     "state": {
      "_dom_classes": [],
      "_model_module": "@jupyter-widgets/controls",
      "_model_module_version": "1.5.0",
      "_model_name": "HBoxModel",
      "_view_count": null,
      "_view_module": "@jupyter-widgets/controls",
      "_view_module_version": "1.5.0",
      "_view_name": "HBoxView",
      "box_style": "",
      "children": [
       "IPY_MODEL_a0dcc9fb147a47af9ce022a367136286",
       "IPY_MODEL_67a00930652e4e6dae573bf47dca5284",
       "IPY_MODEL_1a6f67da27c84051a4898de0c78f606c"
      ],
      "layout": "IPY_MODEL_246a7bd5f2934f9dbabcbc95b988f50f"
     }
    },
    "d2a9b96b9f1045ceb6c7856d42007043": {
     "model_module": "@jupyter-widgets/controls",
     "model_module_version": "1.5.0",
     "model_name": "HTMLModel",
     "state": {
      "_dom_classes": [],
      "_model_module": "@jupyter-widgets/controls",
      "_model_module_version": "1.5.0",
      "_model_name": "HTMLModel",
      "_view_count": null,
      "_view_module": "@jupyter-widgets/controls",
      "_view_module_version": "1.5.0",
      "_view_name": "HTMLView",
      "description": "",
      "description_tooltip": null,
      "layout": "IPY_MODEL_8673af492a5b4ba48a2cc1cf05a6dd11",
      "placeholder": "​",
      "style": "IPY_MODEL_a19b04067d424c05a82e08ca99f16065",
      "value": " 1/1 [00:00&lt;00:00, 24.47it/s]"
     }
    },
    "d301653ae4284759b418fb53a241bfcd": {
     "model_module": "@jupyter-widgets/base",
     "model_module_version": "1.2.0",
     "model_name": "LayoutModel",
     "state": {
      "_model_module": "@jupyter-widgets/base",
      "_model_module_version": "1.2.0",
      "_model_name": "LayoutModel",
      "_view_count": null,
      "_view_module": "@jupyter-widgets/base",
      "_view_module_version": "1.2.0",
      "_view_name": "LayoutView",
      "align_content": null,
      "align_items": null,
      "align_self": null,
      "border": null,
      "bottom": null,
      "display": null,
      "flex": null,
      "flex_flow": null,
      "grid_area": null,
      "grid_auto_columns": null,
      "grid_auto_flow": null,
      "grid_auto_rows": null,
      "grid_column": null,
      "grid_gap": null,
      "grid_row": null,
      "grid_template_areas": null,
      "grid_template_columns": null,
      "grid_template_rows": null,
      "height": null,
      "justify_content": null,
      "justify_items": null,
      "left": null,
      "margin": null,
      "max_height": null,
      "max_width": null,
      "min_height": null,
      "min_width": null,
      "object_fit": null,
      "object_position": null,
      "order": null,
      "overflow": null,
      "overflow_x": null,
      "overflow_y": null,
      "padding": null,
      "right": null,
      "top": null,
      "visibility": null,
      "width": null
     }
    },
    "d3251abd8cee40bbbfb883bbd4e987b2": {
     "model_module": "@jupyter-widgets/base",
     "model_module_version": "1.2.0",
     "model_name": "LayoutModel",
     "state": {
      "_model_module": "@jupyter-widgets/base",
      "_model_module_version": "1.2.0",
      "_model_name": "LayoutModel",
      "_view_count": null,
      "_view_module": "@jupyter-widgets/base",
      "_view_module_version": "1.2.0",
      "_view_name": "LayoutView",
      "align_content": null,
      "align_items": null,
      "align_self": null,
      "border": null,
      "bottom": null,
      "display": null,
      "flex": null,
      "flex_flow": null,
      "grid_area": null,
      "grid_auto_columns": null,
      "grid_auto_flow": null,
      "grid_auto_rows": null,
      "grid_column": null,
      "grid_gap": null,
      "grid_row": null,
      "grid_template_areas": null,
      "grid_template_columns": null,
      "grid_template_rows": null,
      "height": null,
      "justify_content": null,
      "justify_items": null,
      "left": null,
      "margin": null,
      "max_height": null,
      "max_width": null,
      "min_height": null,
      "min_width": null,
      "object_fit": null,
      "object_position": null,
      "order": null,
      "overflow": null,
      "overflow_x": null,
      "overflow_y": null,
      "padding": null,
      "right": null,
      "top": null,
      "visibility": null,
      "width": null
     }
    },
    "e7a98fa0f9824d398e70d2f4d17d2e1c": {
     "model_module": "@jupyter-widgets/base",
     "model_module_version": "1.2.0",
     "model_name": "LayoutModel",
     "state": {
      "_model_module": "@jupyter-widgets/base",
      "_model_module_version": "1.2.0",
      "_model_name": "LayoutModel",
      "_view_count": null,
      "_view_module": "@jupyter-widgets/base",
      "_view_module_version": "1.2.0",
      "_view_name": "LayoutView",
      "align_content": null,
      "align_items": null,
      "align_self": null,
      "border": null,
      "bottom": null,
      "display": null,
      "flex": null,
      "flex_flow": null,
      "grid_area": null,
      "grid_auto_columns": null,
      "grid_auto_flow": null,
      "grid_auto_rows": null,
      "grid_column": null,
      "grid_gap": null,
      "grid_row": null,
      "grid_template_areas": null,
      "grid_template_columns": null,
      "grid_template_rows": null,
      "height": null,
      "justify_content": null,
      "justify_items": null,
      "left": null,
      "margin": null,
      "max_height": null,
      "max_width": null,
      "min_height": null,
      "min_width": null,
      "object_fit": null,
      "object_position": null,
      "order": null,
      "overflow": null,
      "overflow_x": null,
      "overflow_y": null,
      "padding": null,
      "right": null,
      "top": null,
      "visibility": null,
      "width": null
     }
    },
    "e9346407c3694cecb2a9529706ef9f2c": {
     "model_module": "@jupyter-widgets/controls",
     "model_module_version": "1.5.0",
     "model_name": "DescriptionStyleModel",
     "state": {
      "_model_module": "@jupyter-widgets/controls",
      "_model_module_version": "1.5.0",
      "_model_name": "DescriptionStyleModel",
      "_view_count": null,
      "_view_module": "@jupyter-widgets/base",
      "_view_module_version": "1.2.0",
      "_view_name": "StyleView",
      "description_width": ""
     }
    },
    "edc763138dba4dafa73279559b679f4a": {
     "model_module": "@jupyter-widgets/controls",
     "model_module_version": "1.5.0",
     "model_name": "HTMLModel",
     "state": {
      "_dom_classes": [],
      "_model_module": "@jupyter-widgets/controls",
      "_model_module_version": "1.5.0",
      "_model_name": "HTMLModel",
      "_view_count": null,
      "_view_module": "@jupyter-widgets/controls",
      "_view_module_version": "1.5.0",
      "_view_name": "HTMLView",
      "description": "",
      "description_tooltip": null,
      "layout": "IPY_MODEL_8adf7e6bac894ed89e50308f406b5e7f",
      "placeholder": "​",
      "style": "IPY_MODEL_bd0ee229f1c64563bc705a9551a63fad",
      "value": "Batches: 100%"
     }
    },
    "f0d09ddd50d0424a9cf3f7a6dbd1a59b": {
     "model_module": "@jupyter-widgets/controls",
     "model_module_version": "1.5.0",
     "model_name": "HTMLModel",
     "state": {
      "_dom_classes": [],
      "_model_module": "@jupyter-widgets/controls",
      "_model_module_version": "1.5.0",
      "_model_name": "HTMLModel",
      "_view_count": null,
      "_view_module": "@jupyter-widgets/controls",
      "_view_module_version": "1.5.0",
      "_view_name": "HTMLView",
      "description": "",
      "description_tooltip": null,
      "layout": "IPY_MODEL_1164cd5bc44d4002b27667b47ef6685d",
      "placeholder": "​",
      "style": "IPY_MODEL_63798820649a4b2c9bc75a1850b43582",
      "value": "Batches: 100%"
     }
    },
    "f89786cf6f5d42f99935a40b1d28477a": {
     "model_module": "@jupyter-widgets/controls",
     "model_module_version": "1.5.0",
     "model_name": "FloatProgressModel",
     "state": {
      "_dom_classes": [],
      "_model_module": "@jupyter-widgets/controls",
      "_model_module_version": "1.5.0",
      "_model_name": "FloatProgressModel",
      "_view_count": null,
      "_view_module": "@jupyter-widgets/controls",
      "_view_module_version": "1.5.0",
      "_view_name": "ProgressView",
      "bar_style": "success",
      "description": "",
      "description_tooltip": null,
      "layout": "IPY_MODEL_a99b8dd7878f400791f807e1356c71b7",
      "max": 1,
      "min": 0,
      "orientation": "horizontal",
      "style": "IPY_MODEL_b55434388b6d4eeb83b015bff2239131",
      "value": 1
     }
    }
   }
  }
 },
 "nbformat": 4,
 "nbformat_minor": 4
}
