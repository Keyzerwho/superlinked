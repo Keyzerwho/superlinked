{
 "cells": [
  {
   "cell_type": "markdown",
   "metadata": {
    "id": "bYB2vAVAj1V0"
   },
   "source": [
    "# Natural Language Querying (NLQ)"
   ]
  },
  {
   "cell_type": "markdown",
   "metadata": {},
   "source": [
    "Using the `.with_natural_query` clause in queries presents the opportunity to describe your query using natural language. The underlying solution (currently using models from OpenAI, local LLM support coming soon) fills the query parameters (weights, filters and other query-time inputs) based on the user's natural language query and runs it."
   ]
  },
  {
   "cell_type": "code",
   "execution_count": 1,
   "metadata": {
    "id": "v-CapXqajKC_"
   },
   "outputs": [],
   "source": [
    "%pip install superlinked==9.21.2"
   ]
  },
  {
   "cell_type": "markdown",
   "metadata": {
    "id": "aR3hmrQHjNsV"
   },
   "source": [
    "## Create your configuration"
   ]
  },
  {
   "cell_type": "code",
   "execution_count": 2,
   "metadata": {
    "id": "_SorgEI8jWZF"
   },
   "outputs": [],
   "source": [
    "import pandas as pd\n",
    "import os\n",
    "\n",
    "from superlinked.framework.common.embedding.number_embedding import Mode\n",
    "from superlinked.framework.common.nlq.open_ai import OpenAIClientConfig\n",
    "from superlinked.framework.common.parser.dataframe_parser import DataFrameParser\n",
    "from superlinked.framework.common.schema.schema import schema\n",
    "from superlinked.framework.common.schema.schema_object import Integer, String\n",
    "from superlinked.framework.common.schema.id_schema_object import IdField\n",
    "from superlinked.framework.dsl.space.number_space import NumberSpace\n",
    "from superlinked.framework.dsl.space.text_similarity_space import TextSimilaritySpace\n",
    "from superlinked.framework.dsl.index.index import Index\n",
    "from superlinked.framework.dsl.query.param import Param\n",
    "from superlinked.framework.dsl.query.query import Query\n",
    "from superlinked.framework.dsl.source.in_memory_source import InMemorySource\n",
    "from superlinked.framework.dsl.executor.in_memory.in_memory_executor import (\n",
    "    InMemoryExecutor,\n",
    ")\n",
    "\n",
    "\n",
    "@schema\n",
    "class Review:\n",
    "    id: IdField\n",
    "    review_text: String\n",
    "    rating: Integer\n",
    "\n",
    "\n",
    "review = Review()\n",
    "\n",
    "review_text_space = TextSimilaritySpace(\n",
    "    text=review.review_text, model=\"all-MiniLM-L6-v2\"\n",
    ")\n",
    "rating_maximizer_space = NumberSpace(\n",
    "    number=review.rating, min_value=1, max_value=5, mode=Mode.MAXIMUM\n",
    ")\n",
    "index = Index([review_text_space, rating_maximizer_space], fields=[review.rating])"
   ]
  },
  {
   "cell_type": "markdown",
   "metadata": {},
   "source": [
    "## Define a natural language powered query"
   ]
  },
  {
   "cell_type": "code",
   "execution_count": 3,
   "metadata": {
    "id": "_SorgEI8jWZF"
   },
   "outputs": [],
   "source": [
    "# fill this with your API key - this will drive param extraction\n",
    "openai_config = OpenAIClientConfig(api_key=\"YOUR_OPENAI_API_KEY\", model=\"gpt-4o\")\n",
    "\n",
    "# it is possible now to add descriptions to a `Param` to aid the parsing of information from natural language queries.\n",
    "text_similar_param = Param(\n",
    "    \"query_text\",\n",
    "    description=\"The text in the user's query that is used to search in the reviews' body. Extract info that does not apply to other spaces or params.\",\n",
    ")\n",
    "\n",
    "# Define your query using dynamic parameters for query text and weights.\n",
    "# we will have our LLM fill them based on our natural language query\n",
    "query = (\n",
    "    Query(\n",
    "        index,\n",
    "        weights={\n",
    "            review_text_space: Param(\"review_text_weight\"),\n",
    "            rating_maximizer_space: Param(\"rating_maximizer_weight\"),\n",
    "        },\n",
    "    )\n",
    "    .find(review)\n",
    "    .similar(\n",
    "        review_text_space.text,\n",
    "        text_similar_param,\n",
    "    )\n",
    "    # it is possible - but not necessary - to add descriptions to Params, to help the extraction\n",
    "    .filter(\n",
    "        review.rating\n",
    "        == Param(\n",
    "            \"filter_rating\",\n",
    "            description=\"Used to only present items rated a specific number (like 5).\",\n",
    "        )\n",
    "    )\n",
    "    .limit(Param(\"limit\"))\n",
    "    .with_natural_query(Param(\"natural_query\"), openai_config)\n",
    ")"
   ]
  },
  {
   "cell_type": "markdown",
   "metadata": {
    "id": "YMMq3UdCjgDl"
   },
   "source": [
    "## Load test data"
   ]
  },
  {
   "cell_type": "code",
   "execution_count": 4,
   "metadata": {
    "id": "N4XfRXqSju_Y"
   },
   "outputs": [],
   "source": [
    "# Run the app.\n",
    "source: InMemorySource = InMemorySource(review, parser=DataFrameParser(schema=review))\n",
    "executor = InMemoryExecutor(sources=[source], indices=[index])\n",
    "app = executor.run()\n",
    "\n",
    "# Download dataset.\n",
    "data = pd.read_json(\n",
    "    \"https://storage.googleapis.com/superlinked-sample-datasets/amazon_dataset_ext_1000.jsonl\",\n",
    "    lines=True,\n",
    ")\n",
    "\n",
    "# Ingest data to the framework.\n",
    "source.put([data])"
   ]
  },
  {
   "cell_type": "markdown",
   "metadata": {},
   "source": [
    "## Run queries using natural language\n",
    "\n",
    "Filling up params using descriptions of natural language. The only exceptions are:\n",
    "- limit\n",
    "- radius\n",
    "- the input to the natural query itself."
   ]
  },
  {
   "cell_type": "code",
   "execution_count": 5,
   "metadata": {
    "colab": {
     "base_uri": "https://localhost:8080/",
     "height": 363
    },
    "id": "vFhhcr6Tj6rm",
    "outputId": "956c3903-08ac-4044-f7a3-1f67cf3efced"
   },
   "outputs": [
    {
     "data": {
      "text/plain": [
       "{'review_text_weight': 1.0,\n",
       " 'rating_maximizer_weight': 1.0,\n",
       " 'filter_rating': None,\n",
       " 'query_text': 'recommended for purchase',\n",
       " 'TextSimilaritySpace_379693285_review_text_similar_filter_weight_param_weight': 1.0,\n",
       " 'limit': 10,\n",
       " 'natural_query': 'Products with very positive reviews that are recommended for purchase'}"
      ]
     },
     "execution_count": 5,
     "metadata": {},
     "output_type": "execute_result"
    }
   ],
   "source": [
    "os.environ[\"TOKENIZERS_PARALLELISM\"] = \"False\"\n",
    "\n",
    "positive_results = app.query(\n",
    "    query,\n",
    "    natural_query=\"Products with very positive reviews that are recommended for purchase\",\n",
    "    limit=10,\n",
    ")\n",
    "positive_results.to_pandas()\n",
    "positive_results.knn_params"
   ]
  },
  {
   "cell_type": "markdown",
   "metadata": {},
   "source": [
    "The parameters extracted by the NLQ solution can be accessed using the `knn_params` attribute of the `Result` object the query returns. Note, that these values are not necessarily absolutely stable if run multiple times as a result of being extracted by an LLM."
   ]
  },
  {
   "cell_type": "code",
   "execution_count": 6,
   "metadata": {
    "scrolled": true
   },
   "outputs": [
    {
     "data": {
      "text/plain": [
       "{'review_text_weight': 1.0,\n",
       " 'rating_maximizer_weight': 1.0,\n",
       " 'filter_rating': None,\n",
       " 'query_text': 'recommended for purchase',\n",
       " 'TextSimilaritySpace_379693285_review_text_similar_filter_weight_param_weight': 1.0,\n",
       " 'limit': 10,\n",
       " 'natural_query': 'Products with very positive reviews that are recommended for purchase'}"
      ]
     },
     "execution_count": 6,
     "metadata": {},
     "output_type": "execute_result"
    }
   ],
   "source": [
    "positive_results.knn_params"
   ]
  },
  {
   "cell_type": "markdown",
   "metadata": {},
   "source": [
    "If the param is not set explicitly, it will get extracted from the query if possible."
   ]
  },
  {
   "cell_type": "code",
   "execution_count": 7,
   "metadata": {
    "scrolled": true
   },
   "outputs": [
    {
     "data": {
      "text/html": [
       "<div>\n",
       "<style scoped>\n",
       "    .dataframe tbody tr th:only-of-type {\n",
       "        vertical-align: middle;\n",
       "    }\n",
       "\n",
       "    .dataframe tbody tr th {\n",
       "        vertical-align: top;\n",
       "    }\n",
       "\n",
       "    .dataframe thead th {\n",
       "        text-align: right;\n",
       "    }\n",
       "</style>\n",
       "<table border=\"1\" class=\"dataframe\">\n",
       "  <thead>\n",
       "    <tr style=\"text-align: right;\">\n",
       "      <th></th>\n",
       "      <th>review_text</th>\n",
       "      <th>rating</th>\n",
       "      <th>id</th>\n",
       "      <th>similarity_score</th>\n",
       "    </tr>\n",
       "  </thead>\n",
       "  <tbody>\n",
       "    <tr>\n",
       "      <th>0</th>\n",
       "      <td>Such a lovely scent but not overpowering. This...</td>\n",
       "      <td>5</td>\n",
       "      <td>0</td>\n",
       "      <td>0.0</td>\n",
       "    </tr>\n",
       "    <tr>\n",
       "      <th>1</th>\n",
       "      <td>Yes! Smells good, feels great!</td>\n",
       "      <td>5</td>\n",
       "      <td>2</td>\n",
       "      <td>0.0</td>\n",
       "    </tr>\n",
       "    <tr>\n",
       "      <th>2</th>\n",
       "      <td>A+ Love it</td>\n",
       "      <td>5</td>\n",
       "      <td>4</td>\n",
       "      <td>0.0</td>\n",
       "    </tr>\n",
       "    <tr>\n",
       "      <th>3</th>\n",
       "      <td>Handy Great for many tasks.  I purchased these...</td>\n",
       "      <td>5</td>\n",
       "      <td>6</td>\n",
       "      <td>0.0</td>\n",
       "    </tr>\n",
       "    <tr>\n",
       "      <th>4</th>\n",
       "      <td>Great for at home use and so easy to use! This...</td>\n",
       "      <td>5</td>\n",
       "      <td>8</td>\n",
       "      <td>0.0</td>\n",
       "    </tr>\n",
       "    <tr>\n",
       "      <th>5</th>\n",
       "      <td>Nice shampoo for the money I get Keratin treat...</td>\n",
       "      <td>5</td>\n",
       "      <td>9</td>\n",
       "      <td>0.0</td>\n",
       "    </tr>\n",
       "    <tr>\n",
       "      <th>6</th>\n",
       "      <td>A little goes a long way! This is a really nic...</td>\n",
       "      <td>5</td>\n",
       "      <td>11</td>\n",
       "      <td>0.0</td>\n",
       "    </tr>\n",
       "    <tr>\n",
       "      <th>7</th>\n",
       "      <td>Good quality hair brush! Really nice small bru...</td>\n",
       "      <td>5</td>\n",
       "      <td>13</td>\n",
       "      <td>0.0</td>\n",
       "    </tr>\n",
       "    <tr>\n",
       "      <th>8</th>\n",
       "      <td>Great refreshing skin care routine! I had neve...</td>\n",
       "      <td>5</td>\n",
       "      <td>14</td>\n",
       "      <td>0.0</td>\n",
       "    </tr>\n",
       "    <tr>\n",
       "      <th>9</th>\n",
       "      <td>Quality hair iron, works perfectly to straight...</td>\n",
       "      <td>5</td>\n",
       "      <td>16</td>\n",
       "      <td>0.0</td>\n",
       "    </tr>\n",
       "  </tbody>\n",
       "</table>\n",
       "</div>"
      ],
      "text/plain": [
       "                                         review_text  rating  id  \\\n",
       "0  Such a lovely scent but not overpowering. This...       5   0   \n",
       "1                     Yes! Smells good, feels great!       5   2   \n",
       "2                                         A+ Love it       5   4   \n",
       "3  Handy Great for many tasks.  I purchased these...       5   6   \n",
       "4  Great for at home use and so easy to use! This...       5   8   \n",
       "5  Nice shampoo for the money I get Keratin treat...       5   9   \n",
       "6  A little goes a long way! This is a really nic...       5  11   \n",
       "7  Good quality hair brush! Really nice small bru...       5  13   \n",
       "8  Great refreshing skin care routine! I had neve...       5  14   \n",
       "9  Quality hair iron, works perfectly to straight...       5  16   \n",
       "\n",
       "   similarity_score  \n",
       "0               0.0  \n",
       "1               0.0  \n",
       "2               0.0  \n",
       "3               0.0  \n",
       "4               0.0  \n",
       "5               0.0  \n",
       "6               0.0  \n",
       "7               0.0  \n",
       "8               0.0  \n",
       "9               0.0  "
      ]
     },
     "execution_count": 7,
     "metadata": {},
     "output_type": "execute_result"
    }
   ],
   "source": [
    "rating_extracted_query = app.query(\n",
    "    query, natural_query=\"Filter the results to items that have 5 as rating.\", limit=10\n",
    ")\n",
    "rating_extracted_query.to_pandas()"
   ]
  },
  {
   "cell_type": "code",
   "execution_count": 8,
   "metadata": {},
   "outputs": [
    {
     "data": {
      "text/plain": [
       "{'review_text_weight': None,\n",
       " 'rating_maximizer_weight': None,\n",
       " 'filter_rating': 5,\n",
       " 'query_text': '',\n",
       " 'TextSimilaritySpace_379693285_review_text_similar_filter_weight_param_weight': 1.0,\n",
       " 'limit': 10,\n",
       " 'natural_query': 'Filter the results to items that have 5 as rating.'}"
      ]
     },
     "execution_count": 8,
     "metadata": {},
     "output_type": "execute_result"
    }
   ],
   "source": [
    "rating_extracted_query.knn_params"
   ]
  },
  {
   "cell_type": "markdown",
   "metadata": {},
   "source": [
    "> **_NOTE:_**  The last query is simplified to a filter, so `similarity_scores` are all 0."
   ]
  },
  {
   "cell_type": "markdown",
   "metadata": {},
   "source": [
    "If we set `rating` (or any `Param`) explicitly, it will not be modified based on the natural language query. The solution will extract all information from the query it can, but it will reconcile it with the explicitly set values."
   ]
  },
  {
   "cell_type": "code",
   "execution_count": 9,
   "metadata": {},
   "outputs": [
    {
     "data": {
      "text/html": [
       "<div>\n",
       "<style scoped>\n",
       "    .dataframe tbody tr th:only-of-type {\n",
       "        vertical-align: middle;\n",
       "    }\n",
       "\n",
       "    .dataframe tbody tr th {\n",
       "        vertical-align: top;\n",
       "    }\n",
       "\n",
       "    .dataframe thead th {\n",
       "        text-align: right;\n",
       "    }\n",
       "</style>\n",
       "<table border=\"1\" class=\"dataframe\">\n",
       "  <thead>\n",
       "    <tr style=\"text-align: right;\">\n",
       "      <th></th>\n",
       "      <th>review_text</th>\n",
       "      <th>rating</th>\n",
       "      <th>id</th>\n",
       "      <th>similarity_score</th>\n",
       "    </tr>\n",
       "  </thead>\n",
       "  <tbody>\n",
       "    <tr>\n",
       "      <th>0</th>\n",
       "      <td>Cheap product Not good</td>\n",
       "      <td>1</td>\n",
       "      <td>512</td>\n",
       "      <td>0.172333</td>\n",
       "    </tr>\n",
       "    <tr>\n",
       "      <th>1</th>\n",
       "      <td>Do not purchase Terrible quality. Did not even...</td>\n",
       "      <td>1</td>\n",
       "      <td>291</td>\n",
       "      <td>0.159891</td>\n",
       "    </tr>\n",
       "    <tr>\n",
       "      <th>2</th>\n",
       "      <td>Do not buy smells terrible The smell is wicked...</td>\n",
       "      <td>1</td>\n",
       "      <td>570</td>\n",
       "      <td>0.150010</td>\n",
       "    </tr>\n",
       "    <tr>\n",
       "      <th>3</th>\n",
       "      <td>over priced, over hyped, doesn't work Chose wa...</td>\n",
       "      <td>1</td>\n",
       "      <td>549</td>\n",
       "      <td>0.136804</td>\n",
       "    </tr>\n",
       "    <tr>\n",
       "      <th>4</th>\n",
       "      <td>Don't waste your money Crappy &amp; unusable.</td>\n",
       "      <td>1</td>\n",
       "      <td>588</td>\n",
       "      <td>0.129660</td>\n",
       "    </tr>\n",
       "    <tr>\n",
       "      <th>5</th>\n",
       "      <td>Do not recommend Awful.&lt;br /&gt;The brushes from ...</td>\n",
       "      <td>1</td>\n",
       "      <td>750</td>\n",
       "      <td>0.125825</td>\n",
       "    </tr>\n",
       "    <tr>\n",
       "      <th>6</th>\n",
       "      <td>cheap stuff... bumpy surface, paint is ... che...</td>\n",
       "      <td>1</td>\n",
       "      <td>121</td>\n",
       "      <td>0.101638</td>\n",
       "    </tr>\n",
       "    <tr>\n",
       "      <th>7</th>\n",
       "      <td>One Star Cheap and breaks easy</td>\n",
       "      <td>1</td>\n",
       "      <td>592</td>\n",
       "      <td>0.099390</td>\n",
       "    </tr>\n",
       "    <tr>\n",
       "      <th>8</th>\n",
       "      <td>Don't waste money Does not work. Comes right o...</td>\n",
       "      <td>1</td>\n",
       "      <td>948</td>\n",
       "      <td>0.098537</td>\n",
       "    </tr>\n",
       "    <tr>\n",
       "      <th>9</th>\n",
       "      <td>Do not waste time or money This is a joke. The...</td>\n",
       "      <td>1</td>\n",
       "      <td>372</td>\n",
       "      <td>0.094591</td>\n",
       "    </tr>\n",
       "  </tbody>\n",
       "</table>\n",
       "</div>"
      ],
      "text/plain": [
       "                                         review_text  rating   id  \\\n",
       "0                             Cheap product Not good       1  512   \n",
       "1  Do not purchase Terrible quality. Did not even...       1  291   \n",
       "2  Do not buy smells terrible The smell is wicked...       1  570   \n",
       "3  over priced, over hyped, doesn't work Chose wa...       1  549   \n",
       "4          Don't waste your money Crappy & unusable.       1  588   \n",
       "5  Do not recommend Awful.<br />The brushes from ...       1  750   \n",
       "6  cheap stuff... bumpy surface, paint is ... che...       1  121   \n",
       "7                     One Star Cheap and breaks easy       1  592   \n",
       "8  Don't waste money Does not work. Comes right o...       1  948   \n",
       "9  Do not waste time or money This is a joke. The...       1  372   \n",
       "\n",
       "   similarity_score  \n",
       "0          0.172333  \n",
       "1          0.159891  \n",
       "2          0.150010  \n",
       "3          0.136804  \n",
       "4          0.129660  \n",
       "5          0.125825  \n",
       "6          0.101638  \n",
       "7          0.099390  \n",
       "8          0.098537  \n",
       "9          0.094591  "
      ]
     },
     "execution_count": 9,
     "metadata": {},
     "output_type": "execute_result"
    }
   ],
   "source": [
    "rating_explicitly_filtered_results = app.query(\n",
    "    query,\n",
    "    natural_query=\"Products with positive reviews that are recommended for purchase. Filter the results to items that have 5 as rating.\",\n",
    "    # notice how we explicitly override what is in the natural_query, and that is reflected in the results\n",
    "    filter_rating=1,\n",
    "    limit=10,\n",
    ")\n",
    "\n",
    "rating_explicitly_filtered_results.to_pandas()"
   ]
  },
  {
   "cell_type": "markdown",
   "metadata": {},
   "source": [
    ".with_vector can be used with natual query too"
   ]
  },
  {
   "cell_type": "code",
   "execution_count": 10,
   "metadata": {},
   "outputs": [],
   "source": [
    "with_vector_query = (\n",
    "    Query(\n",
    "        index,\n",
    "        weights={\n",
    "            review_text_space: Param(\"review_text_weight\"),\n",
    "            rating_maximizer_space: Param(\"rating_maximizer_weight\"),\n",
    "        },\n",
    "    )\n",
    "    .find(review)\n",
    "    .with_vector(review, Param(\"review_id\"))\n",
    "    .with_natural_query(Param(\"natural_query\"), openai_config)\n",
    "    .limit(Param(\"limit\"))\n",
    ")"
   ]
  },
  {
   "cell_type": "code",
   "execution_count": 11,
   "metadata": {},
   "outputs": [],
   "source": [
    "with_vector_results = app.query(\n",
    "    with_vector_query,\n",
    "    natural_query=\"Show me similar reviews to 130\",\n",
    "    limit=10,\n",
    "    review_text_weight=1,\n",
    "    rating_maximizer_weight=1,\n",
    ")"
   ]
  },
  {
   "cell_type": "code",
   "execution_count": 12,
   "metadata": {},
   "outputs": [
    {
     "data": {
      "text/plain": [
       "{'review_text_weight': 1,\n",
       " 'rating_maximizer_weight': 1,\n",
       " 'review_id': '130',\n",
       " 'id_looks_like_filter_weight_param_weight': 1.0,\n",
       " 'limit': 10,\n",
       " 'natural_query': 'Show me similar reviews to 130'}"
      ]
     },
     "execution_count": 12,
     "metadata": {},
     "output_type": "execute_result"
    }
   ],
   "source": [
    "# notice how review_id is filled with the specified id\n",
    "with_vector_results.knn_params"
   ]
  },
  {
   "cell_type": "code",
   "execution_count": 13,
   "metadata": {},
   "outputs": [
    {
     "data": {
      "text/html": [
       "<div>\n",
       "<style scoped>\n",
       "    .dataframe tbody tr th:only-of-type {\n",
       "        vertical-align: middle;\n",
       "    }\n",
       "\n",
       "    .dataframe tbody tr th {\n",
       "        vertical-align: top;\n",
       "    }\n",
       "\n",
       "    .dataframe thead th {\n",
       "        text-align: right;\n",
       "    }\n",
       "</style>\n",
       "<table border=\"1\" class=\"dataframe\">\n",
       "  <thead>\n",
       "    <tr style=\"text-align: right;\">\n",
       "      <th></th>\n",
       "      <th>review_text</th>\n",
       "      <th>rating</th>\n",
       "      <th>id</th>\n",
       "      <th>similarity_score</th>\n",
       "    </tr>\n",
       "  </thead>\n",
       "  <tbody>\n",
       "    <tr>\n",
       "      <th>0</th>\n",
       "      <td>Got Halloween makeup kit damaged \\] I read the...</td>\n",
       "      <td>1</td>\n",
       "      <td>130</td>\n",
       "      <td>1.000000</td>\n",
       "    </tr>\n",
       "    <tr>\n",
       "      <th>1</th>\n",
       "      <td>dense mask, smells good, great ingredients; my...</td>\n",
       "      <td>2</td>\n",
       "      <td>786</td>\n",
       "      <td>0.685303</td>\n",
       "    </tr>\n",
       "    <tr>\n",
       "      <th>2</th>\n",
       "      <td>Not happy 20 minutes of fragrance nothing more...</td>\n",
       "      <td>1</td>\n",
       "      <td>363</td>\n",
       "      <td>0.671140</td>\n",
       "    </tr>\n",
       "    <tr>\n",
       "      <th>3</th>\n",
       "      <td>cheap stuff... bumpy surface, paint is ... che...</td>\n",
       "      <td>1</td>\n",
       "      <td>121</td>\n",
       "      <td>0.664422</td>\n",
       "    </tr>\n",
       "    <tr>\n",
       "      <th>4</th>\n",
       "      <td>Not what was advertised It was not at all what...</td>\n",
       "      <td>1</td>\n",
       "      <td>361</td>\n",
       "      <td>0.658459</td>\n",
       "    </tr>\n",
       "    <tr>\n",
       "      <th>5</th>\n",
       "      <td>One Star it's missing bristles and it's splint...</td>\n",
       "      <td>1</td>\n",
       "      <td>282</td>\n",
       "      <td>0.640937</td>\n",
       "    </tr>\n",
       "    <tr>\n",
       "      <th>6</th>\n",
       "      <td>Extremely Overpriced for What You Get and Dubi...</td>\n",
       "      <td>1</td>\n",
       "      <td>711</td>\n",
       "      <td>0.639137</td>\n",
       "    </tr>\n",
       "    <tr>\n",
       "      <th>7</th>\n",
       "      <td>Not impressed with the quality. This Acrylic N...</td>\n",
       "      <td>1</td>\n",
       "      <td>854</td>\n",
       "      <td>0.638208</td>\n",
       "    </tr>\n",
       "    <tr>\n",
       "      <th>8</th>\n",
       "      <td>I recommend this product to other customers I'...</td>\n",
       "      <td>2</td>\n",
       "      <td>122</td>\n",
       "      <td>0.638040</td>\n",
       "    </tr>\n",
       "    <tr>\n",
       "      <th>9</th>\n",
       "      <td>Overpriced and no result The packaging is cute...</td>\n",
       "      <td>2</td>\n",
       "      <td>552</td>\n",
       "      <td>0.637141</td>\n",
       "    </tr>\n",
       "  </tbody>\n",
       "</table>\n",
       "</div>"
      ],
      "text/plain": [
       "                                         review_text  rating   id  \\\n",
       "0  Got Halloween makeup kit damaged \\] I read the...       1  130   \n",
       "1  dense mask, smells good, great ingredients; my...       2  786   \n",
       "2  Not happy 20 minutes of fragrance nothing more...       1  363   \n",
       "3  cheap stuff... bumpy surface, paint is ... che...       1  121   \n",
       "4  Not what was advertised It was not at all what...       1  361   \n",
       "5  One Star it's missing bristles and it's splint...       1  282   \n",
       "6  Extremely Overpriced for What You Get and Dubi...       1  711   \n",
       "7  Not impressed with the quality. This Acrylic N...       1  854   \n",
       "8  I recommend this product to other customers I'...       2  122   \n",
       "9  Overpriced and no result The packaging is cute...       2  552   \n",
       "\n",
       "   similarity_score  \n",
       "0          1.000000  \n",
       "1          0.685303  \n",
       "2          0.671140  \n",
       "3          0.664422  \n",
       "4          0.658459  \n",
       "5          0.640937  \n",
       "6          0.639137  \n",
       "7          0.638208  \n",
       "8          0.638040  \n",
       "9          0.637141  "
      ]
     },
     "execution_count": 13,
     "metadata": {},
     "output_type": "execute_result"
    }
   ],
   "source": [
    "# the most similar review to review 130 is itself.\n",
    "with_vector_results.to_pandas()"
   ]
  }
 ],
 "metadata": {
  "accelerator": "GPU",
  "colab": {
   "collapsed_sections": [
    "3nckbUhPVHic"
   ],
   "gpuType": "T4",
   "provenance": []
  },
  "kernelspec": {
   "display_name": "superlinked-py3.11",
   "language": "python",
   "name": "superlinked-py3.11"
  },
  "language_info": {
   "codemirror_mode": {
    "name": "ipython",
    "version": 3
   },
   "file_extension": ".py",
   "mimetype": "text/x-python",
   "name": "python",
   "nbconvert_exporter": "python",
   "pygments_lexer": "ipython3",
   "version": "3.11.5"
  }
 },
 "nbformat": 4,
 "nbformat_minor": 4
}
