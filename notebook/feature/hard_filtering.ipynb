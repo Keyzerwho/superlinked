{
 "cells": [
  {
   "cell_type": "markdown",
   "id": "f375e8dd-3dde-46da-82bd-6e95e6cac08f",
   "metadata": {},
   "source": [
    "# Filtering out elements based on hard criteria\n",
    "\n",
    "In a lot of cases hard filtering is needed, when we specifically do not want the result set to contain some items, no matter how deep we scroll into the results. This can be achieved via the `.filter` clause in the `Query`."
   ]
  },
  {
   "cell_type": "code",
   "execution_count": 1,
   "id": "beec4358-6221-4c62-89a5-7c381c8906db",
   "metadata": {},
   "outputs": [],
   "source": [
    "%pip install superlinked==6.1.0"
   ]
  },
  {
   "cell_type": "code",
   "execution_count": 2,
   "id": "e91ab315-38f2-42b9-80bf-c6dee1869ed1",
   "metadata": {},
   "outputs": [],
   "source": [
    "import pandas as pd\n",
    "\n",
    "from superlinked.framework.common.schema.id_schema_object import IdField\n",
    "from superlinked.framework.common.schema.schema import schema\n",
    "from superlinked.framework.common.schema.schema_object import String\n",
    "from superlinked.framework.dsl.index.index import Index\n",
    "from superlinked.framework.dsl.space.text_similarity_space import TextSimilaritySpace\n",
    "\n",
    "from superlinked.framework.dsl.executor.in_memory.in_memory_executor import (\n",
    "    InMemoryExecutor,\n",
    ")\n",
    "from superlinked.framework.dsl.source.in_memory_source import InMemorySource\n",
    "from superlinked.framework.dsl.query.query import Query\n",
    "\n",
    "pd.set_option(\"display.max_colwidth\", 100)"
   ]
  },
  {
   "cell_type": "code",
   "execution_count": 3,
   "id": "ca8bbd4a-8a7e-49fc-8a2c-b322a008cac1",
   "metadata": {},
   "outputs": [],
   "source": [
    "@schema\n",
    "class Paragraph:\n",
    "    id: IdField\n",
    "    body: String\n",
    "    author: String\n",
    "\n",
    "\n",
    "paragraph = Paragraph()\n",
    "\n",
    "body_space = TextSimilaritySpace(\n",
    "    text=paragraph.body, model=\"sentence-transformers/all-mpnet-base-v2\"\n",
    ")\n",
    "author_space = TextSimilaritySpace(\n",
    "    text=paragraph.author, model=\"sentence-transformers/all-mpnet-base-v2\"\n",
    ")"
   ]
  },
  {
   "cell_type": "markdown",
   "id": "3839ad25-3c44-4a7a-a2a4-5ee9b321f5ee",
   "metadata": {},
   "source": [
    "<div class=\"alert alert-block alert-info\"><b>NOTE:</b> \n",
    "The index definition requires the fields that we plan to create filters for."
   ]
  },
  {
   "cell_type": "code",
   "execution_count": 4,
   "id": "34529f84-e9b4-4b9e-9635-be3876f316e3",
   "metadata": {},
   "outputs": [],
   "source": [
    "paragraph_index = Index(\n",
    "    [body_space, author_space], fields=[paragraph.author, paragraph.body]\n",
    ")"
   ]
  },
  {
   "cell_type": "markdown",
   "id": "34e39c98-7a1b-4a8a-8973-13d3eb7fb566",
   "metadata": {},
   "source": [
    "Now let's add some data and try it out!"
   ]
  },
  {
   "cell_type": "code",
   "execution_count": 5,
   "id": "647d35a8-ea92-494c-ba2b-7472341f850b",
   "metadata": {},
   "outputs": [],
   "source": [
    "source: InMemorySource = InMemorySource(paragraph)\n",
    "executor = InMemoryExecutor(sources=[source], indices=[paragraph_index])\n",
    "app = executor.run()"
   ]
  },
  {
   "cell_type": "code",
   "execution_count": 6,
   "id": "9424d137-d416-4faf-8e05-7984697d7ccf",
   "metadata": {},
   "outputs": [],
   "source": [
    "source.put(\n",
    "    [\n",
    "        {\n",
    "            \"id\": \"paragraph-1\",\n",
    "            \"body\": \"The first thing Adam wrote.\",\n",
    "            \"author\": \"Adam\",\n",
    "        },\n",
    "        {\n",
    "            \"id\": \"paragraph-2\",\n",
    "            \"body\": \"The first thing Bob wrote.\",\n",
    "            \"author\": \"Bob\",\n",
    "        },\n",
    "        {\n",
    "            \"id\": \"paragraph-3\",\n",
    "            \"body\": \"The second thing Adam wrote.\",\n",
    "            \"author\": \"Adam\",\n",
    "        },\n",
    "    ]\n",
    ")"
   ]
  },
  {
   "cell_type": "markdown",
   "id": "28139aac-84c2-41ab-8dbf-caccc1abd279",
   "metadata": {},
   "source": [
    "## Using the .filter clause\n",
    "\n",
    "Provides the opportunity to write filters on the result set. For example I can ask for articles written by Adam..."
   ]
  },
  {
   "cell_type": "code",
   "execution_count": 7,
   "id": "22b38a70-ca5c-41ca-90ea-1330f0fa40b0",
   "metadata": {},
   "outputs": [
    {
     "data": {
      "text/html": [
       "<div>\n",
       "<style scoped>\n",
       "    .dataframe tbody tr th:only-of-type {\n",
       "        vertical-align: middle;\n",
       "    }\n",
       "\n",
       "    .dataframe tbody tr th {\n",
       "        vertical-align: top;\n",
       "    }\n",
       "\n",
       "    .dataframe thead th {\n",
       "        text-align: right;\n",
       "    }\n",
       "</style>\n",
       "<table border=\"1\" class=\"dataframe\">\n",
       "  <thead>\n",
       "    <tr style=\"text-align: right;\">\n",
       "      <th></th>\n",
       "      <th>body</th>\n",
       "      <th>author</th>\n",
       "      <th>id</th>\n",
       "    </tr>\n",
       "  </thead>\n",
       "  <tbody>\n",
       "    <tr>\n",
       "      <th>0</th>\n",
       "      <td>The first thing Adam wrote.</td>\n",
       "      <td>Adam</td>\n",
       "      <td>paragraph-1</td>\n",
       "    </tr>\n",
       "    <tr>\n",
       "      <th>1</th>\n",
       "      <td>The second thing Adam wrote.</td>\n",
       "      <td>Adam</td>\n",
       "      <td>paragraph-3</td>\n",
       "    </tr>\n",
       "  </tbody>\n",
       "</table>\n",
       "</div>"
      ],
      "text/plain": [
       "                           body author           id\n",
       "0   The first thing Adam wrote.   Adam  paragraph-1\n",
       "1  The second thing Adam wrote.   Adam  paragraph-3"
      ]
     },
     "execution_count": 7,
     "metadata": {},
     "output_type": "execute_result"
    }
   ],
   "source": [
    "adam_query = Query(paragraph_index).find(paragraph).filter(paragraph.author == \"Adam\")\n",
    "adam_result = app.query(adam_query)\n",
    "\n",
    "adam_result.to_pandas()"
   ]
  },
  {
   "cell_type": "markdown",
   "id": "45356bb2-fd9d-442b-880e-b2dce82c2d3b",
   "metadata": {},
   "source": [
    "...or not Adam."
   ]
  },
  {
   "cell_type": "code",
   "execution_count": 8,
   "id": "32a66530-3c8c-4cd5-a63a-d4f2191a3b7e",
   "metadata": {},
   "outputs": [
    {
     "data": {
      "text/html": [
       "<div>\n",
       "<style scoped>\n",
       "    .dataframe tbody tr th:only-of-type {\n",
       "        vertical-align: middle;\n",
       "    }\n",
       "\n",
       "    .dataframe tbody tr th {\n",
       "        vertical-align: top;\n",
       "    }\n",
       "\n",
       "    .dataframe thead th {\n",
       "        text-align: right;\n",
       "    }\n",
       "</style>\n",
       "<table border=\"1\" class=\"dataframe\">\n",
       "  <thead>\n",
       "    <tr style=\"text-align: right;\">\n",
       "      <th></th>\n",
       "      <th>body</th>\n",
       "      <th>author</th>\n",
       "      <th>id</th>\n",
       "    </tr>\n",
       "  </thead>\n",
       "  <tbody>\n",
       "    <tr>\n",
       "      <th>0</th>\n",
       "      <td>The first thing Bob wrote.</td>\n",
       "      <td>Bob</td>\n",
       "      <td>paragraph-2</td>\n",
       "    </tr>\n",
       "  </tbody>\n",
       "</table>\n",
       "</div>"
      ],
      "text/plain": [
       "                         body author           id\n",
       "0  The first thing Bob wrote.    Bob  paragraph-2"
      ]
     },
     "execution_count": 8,
     "metadata": {},
     "output_type": "execute_result"
    }
   ],
   "source": [
    "bob_query = Query(paragraph_index).find(paragraph).filter(paragraph.author != \"Adam\")\n",
    "bob_result = app.query(bob_query)\n",
    "\n",
    "bob_result.to_pandas()"
   ]
  },
  {
   "cell_type": "markdown",
   "id": "b20533b7-5cce-47e3-aa0a-83cd08de878d",
   "metadata": {},
   "source": [
    "and we can also stack multiple filters to form AND type of relationship."
   ]
  },
  {
   "cell_type": "code",
   "execution_count": 9,
   "id": "b0741b88-5996-44e9-a198-d528aa44edf9",
   "metadata": {},
   "outputs": [
    {
     "data": {
      "text/html": [
       "<div>\n",
       "<style scoped>\n",
       "    .dataframe tbody tr th:only-of-type {\n",
       "        vertical-align: middle;\n",
       "    }\n",
       "\n",
       "    .dataframe tbody tr th {\n",
       "        vertical-align: top;\n",
       "    }\n",
       "\n",
       "    .dataframe thead th {\n",
       "        text-align: right;\n",
       "    }\n",
       "</style>\n",
       "<table border=\"1\" class=\"dataframe\">\n",
       "  <thead>\n",
       "    <tr style=\"text-align: right;\">\n",
       "      <th></th>\n",
       "      <th>body</th>\n",
       "      <th>author</th>\n",
       "      <th>id</th>\n",
       "    </tr>\n",
       "  </thead>\n",
       "  <tbody>\n",
       "    <tr>\n",
       "      <th>0</th>\n",
       "      <td>The first thing Adam wrote.</td>\n",
       "      <td>Adam</td>\n",
       "      <td>paragraph-1</td>\n",
       "    </tr>\n",
       "  </tbody>\n",
       "</table>\n",
       "</div>"
      ],
      "text/plain": [
       "                          body author           id\n",
       "0  The first thing Adam wrote.   Adam  paragraph-1"
      ]
     },
     "execution_count": 9,
     "metadata": {},
     "output_type": "execute_result"
    }
   ],
   "source": [
    "stacked_query = (\n",
    "    Query(paragraph_index)\n",
    "    .find(paragraph)\n",
    "    .filter(paragraph.author == \"Adam\")\n",
    "    .filter(paragraph.body == \"The first thing Adam wrote.\")\n",
    ")\n",
    "stacked_result = app.query(stacked_query)\n",
    "\n",
    "stacked_result.to_pandas()"
   ]
  },
  {
   "cell_type": "markdown",
   "id": "90d86265-369c-462a-be94-16fff6e4c515",
   "metadata": {},
   "source": [
    "## Summary\n",
    "\n",
    "We are supporting\n",
    "\n",
    "* the `==` and `!=` operators\n",
    "* AND relationships by stacking filters"
   ]
  }
 ],
 "metadata": {
  "kernelspec": {
   "display_name": "superlinked-py3.10",
   "language": "python",
   "name": "superlinked-py3.10"
  },
  "language_info": {
   "codemirror_mode": {
    "name": "ipython",
    "version": 3
   },
   "file_extension": ".py",
   "mimetype": "text/x-python",
   "name": "python",
   "nbconvert_exporter": "python",
   "pygments_lexer": "ipython3",
   "version": "3.10.9"
  }
 },
 "nbformat": 4,
 "nbformat_minor": 5
}
